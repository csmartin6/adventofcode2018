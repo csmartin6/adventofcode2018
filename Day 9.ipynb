{
 "cells": [
  {
   "cell_type": "code",
   "execution_count": 1,
   "metadata": {
    "collapsed": true
   },
   "outputs": [],
   "source": [
    "import numpy as np\n",
    "import requests\n",
    "import re\n",
    "import copy\n",
    "from collections import Counter\n",
    "import networkx as nx"
   ]
  },
  {
   "cell_type": "markdown",
   "metadata": {},
   "source": [
    "# Get Input"
   ]
  },
  {
   "cell_type": "code",
   "execution_count": 2,
   "metadata": {
    "collapsed": true
   },
   "outputs": [],
   "source": [
    "sessionId = \"53616c7465645f5fe7d9acdcdf7dd2b07d8578695e819f0b0e7c932167987025c8f0e50c27b902b878225536d04dd7a1\""
   ]
  },
  {
   "cell_type": "code",
   "execution_count": 3,
   "metadata": {
    "collapsed": true
   },
   "outputs": [],
   "source": [
    "r = requests.get(\"https://adventofcode.com/2018/day/9/input\", cookies={\"session\": sessionId})"
   ]
  },
  {
   "cell_type": "code",
   "execution_count": 4,
   "metadata": {},
   "outputs": [
    {
     "data": {
      "text/plain": [
       "b'458 players; last marble is worth 72019 points\\n'"
      ]
     },
     "execution_count": 4,
     "metadata": {},
     "output_type": "execute_result"
    }
   ],
   "source": [
    "r.content"
   ]
  },
  {
   "cell_type": "code",
   "execution_count": 7,
   "metadata": {
    "collapsed": true
   },
   "outputs": [],
   "source": [
    "player_count = 458\n",
    "marble_count = 72019"
   ]
  },
  {
   "cell_type": "markdown",
   "metadata": {},
   "source": [
    "# Part 1"
   ]
  },
  {
   "cell_type": "code",
   "execution_count": 91,
   "metadata": {
    "collapsed": true
   },
   "outputs": [],
   "source": [
    "player_count = 458\n",
    "marble_count = 72019"
   ]
  },
  {
   "cell_type": "code",
   "execution_count": 79,
   "metadata": {
    "collapsed": true
   },
   "outputs": [],
   "source": [
    "current_index = 0\n",
    "player_count = 9\n",
    "marble_count = 25"
   ]
  },
  {
   "cell_type": "code",
   "execution_count": 106,
   "metadata": {
    "collapsed": true
   },
   "outputs": [],
   "source": [
    "player_count = 458\n",
    "marble_count = 72019"
   ]
  },
  {
   "cell_type": "code",
   "execution_count": null,
   "metadata": {
    "collapsed": true
   },
   "outputs": [],
   "source": [
    "# Naive"
   ]
  },
  {
   "cell_type": "code",
   "execution_count": 107,
   "metadata": {},
   "outputs": [
    {
     "data": {
      "text/plain": [
       "404502"
      ]
     },
     "execution_count": 107,
     "metadata": {},
     "output_type": "execute_result"
    }
   ],
   "source": [
    "game_state = [0,1]\n",
    "player_scores = [0]*player_count\n",
    "current_player = 2\n",
    "current_index = 1\n",
    "for i in range(2,marble_count+1):\n",
    "    # place marble\n",
    "    if i > 0 and i % 23 == 0:\n",
    "        player_scores[current_player] += i\n",
    "        current_index = current_index - 7\n",
    "        if current_index < 0:\n",
    "            current_index+=len(game_state)\n",
    "        \n",
    "        player_scores[current_player] += game_state.pop(current_index)\n",
    "    else:\n",
    "        current_index += 2\n",
    "        if current_index > len(game_state):\n",
    "            current_index-=len(game_state)\n",
    "            #current_index %= max(len(game_state),1)\n",
    "        game_state.insert(current_index, i)\n",
    "    current_player=(current_player+1)%player_count\n",
    "#     print(\"[{}]: [{} <{}> {}]\".format(i,\n",
    "#                                      ' '.join([str(s) for s in game_state[:(current_index-1)]]) if current_index>=1 else '',\n",
    "#                                     game_state[current_index],\n",
    "#                                     ' '.join([str(s) for s in game_state[current_index+1:]]) if current_index + 2 <len(game_state) else ''))\n",
    "    \n",
    "max(player_scores)    "
   ]
  },
  {
   "cell_type": "code",
   "execution_count": null,
   "metadata": {
    "collapsed": true
   },
   "outputs": [],
   "source": [
    "# Deque"
   ]
  },
  {
   "cell_type": "code",
   "execution_count": 113,
   "metadata": {
    "collapsed": true
   },
   "outputs": [],
   "source": [
    "from collections import deque"
   ]
  },
  {
   "cell_type": "code",
   "execution_count": 119,
   "metadata": {
    "collapsed": true
   },
   "outputs": [],
   "source": [
    "player_count = 9\n",
    "marble_count = 25"
   ]
  },
  {
   "cell_type": "code",
   "execution_count": 142,
   "metadata": {
    "collapsed": true
   },
   "outputs": [],
   "source": [
    "player_count = 458\n",
    "marble_count = 72019"
   ]
  },
  {
   "cell_type": "code",
   "execution_count": 143,
   "metadata": {},
   "outputs": [
    {
     "data": {
      "text/plain": [
       "404502"
      ]
     },
     "execution_count": 143,
     "metadata": {},
     "output_type": "execute_result"
    }
   ],
   "source": [
    "game_state = deque()\n",
    "player_scores = [0]*player_count\n",
    "current_player = 0\n",
    "for i in range(0,marble_count+1):\n",
    "    # place marble\n",
    "    \n",
    "    if i > 0 and i % 23 == 0:\n",
    "        current_player = i%player_count\n",
    "        player_scores[current_player] += i\n",
    "        game_state.rotate(7)\n",
    "        player_scores[current_player] += game_state.popleft()\n",
    "    else:\n",
    "        game_state.rotate(-2)\n",
    "        game_state.appendleft(i)\n",
    "    #print(game_state)\n",
    "    \n",
    "max(player_scores)"
   ]
  },
  {
   "cell_type": "markdown",
   "metadata": {
    "collapsed": true
   },
   "source": [
    "# Part 2"
   ]
  },
  {
   "cell_type": "code",
   "execution_count": 140,
   "metadata": {
    "collapsed": true
   },
   "outputs": [],
   "source": [
    "player_count = 458\n",
    "marble_count = 7201900\n"
   ]
  },
  {
   "cell_type": "code",
   "execution_count": 141,
   "metadata": {},
   "outputs": [
    {
     "data": {
      "text/plain": [
       "3243916887"
      ]
     },
     "execution_count": 141,
     "metadata": {},
     "output_type": "execute_result"
    }
   ],
   "source": [
    "game_state = deque()\n",
    "player_scores = [0]*player_count\n",
    "current_player = 0\n",
    "for i in range(0,marble_count+1):\n",
    "    # place marble\n",
    "    \n",
    "    if i > 0 and i % 23 == 0:\n",
    "        current_player = i%player_count\n",
    "        player_scores[current_player] += i\n",
    "        game_state.rotate(7)\n",
    "        player_scores[current_player] += game_state.popleft()\n",
    "    else:\n",
    "        game_state.rotate(-2)\n",
    "        game_state.appendleft(i)\n",
    "    #print(game_state)\n",
    "    \n",
    "max(player_scores)"
   ]
  },
  {
   "cell_type": "code",
   "execution_count": null,
   "metadata": {
    "collapsed": true
   },
   "outputs": [],
   "source": []
  }
 ],
 "metadata": {
  "hide_input": false,
  "kernelspec": {
   "display_name": "Python 3",
   "language": "python",
   "name": "python3"
  },
  "language_info": {
   "codemirror_mode": {
    "name": "ipython",
    "version": 3
   },
   "file_extension": ".py",
   "mimetype": "text/x-python",
   "name": "python",
   "nbconvert_exporter": "python",
   "pygments_lexer": "ipython3",
   "version": "3.6.3"
  },
  "toc": {
   "toc_cell": false,
   "toc_number_sections": true,
   "toc_threshold": 4,
   "toc_window_display": false
  }
 },
 "nbformat": 4,
 "nbformat_minor": 2
}
