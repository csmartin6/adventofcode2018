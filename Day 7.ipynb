{
 "cells": [
  {
   "cell_type": "code",
   "execution_count": 1,
   "metadata": {
    "collapsed": true
   },
   "outputs": [],
   "source": [
    "import numpy as np\n",
    "import requests\n",
    "import re\n",
    "import copy\n",
    "from collections import Counter"
   ]
  },
  {
   "cell_type": "markdown",
   "metadata": {},
   "source": [
    "# Get Input"
   ]
  },
  {
   "cell_type": "code",
   "execution_count": 3,
   "metadata": {
    "collapsed": true
   },
   "outputs": [],
   "source": [
    "sessionId = \"os.environ[\"ADVENT_OF_CODE_SESSION_ID\"]\""
   ]
  },
  {
   "cell_type": "code",
   "execution_count": 4,
   "metadata": {},
   "outputs": [],
   "source": [
    "r = requests.get(\"https://adventofcode.com/2018/day/7/input\", cookies={\"session\": sessionId})"
   ]
  },
  {
   "cell_type": "code",
   "execution_count": 5,
   "metadata": {},
   "outputs": [
    {
     "data": {
      "text/plain": [
       "b'Step G must be finished before step T can begin.\\nStep L must be finished before step V can begin.\\nStep D must be finished before step P can begin.\\nStep J must be finished before step K can begin.\\nStep N must be finished before step B can begin.\\nStep K must be finished before step W can begin.\\nStep T must be finished before step I can begin.\\nStep F must be finished before step E can begin.\\nStep P must be finished before step O can begin.\\nStep X must be finished before step I can begin.\\nStep M must be finished before step S can begin.\\nStep Y must be finished before step O can begin.\\nStep I must be finished before step Z can begin.\\nStep V must be finished before step Z can begin.\\nStep Q must be finished before step Z can begin.\\nStep H must be finished before step C can begin.\\nStep R must be finished before step Z can begin.\\nStep U must be finished before step S can begin.\\nStep E must be finished before step Z can begin.\\nStep O must be finished before step W can begin.\\nStep Z must be finished before step S can begin.\\nStep S must be finished before step C can begin.\\nStep W must be finished before step B can begin.\\nStep A must be finished before step B can begin.\\nStep C must be finished before step B can begin.\\nStep L must be finished before step P can begin.\\nStep J must be finished before step V can begin.\\nStep E must be finished before step W can begin.\\nStep Z must be finished before step W can begin.\\nStep W must be finished before step C can begin.\\nStep S must be finished before step W can begin.\\nStep Q must be finished before step S can begin.\\nStep O must be finished before step B can begin.\\nStep R must be finished before step W can begin.\\nStep D must be finished before step H can begin.\\nStep E must be finished before step O can begin.\\nStep Y must be finished before step H can begin.\\nStep V must be finished before step O can begin.\\nStep O must be finished before step S can begin.\\nStep X must be finished before step V can begin.\\nStep R must be finished before step E can begin.\\nStep S must be finished before step A can begin.\\nStep K must be finished before step Y can begin.\\nStep V must be finished before step W can begin.\\nStep U must be finished before step W can begin.\\nStep H must be finished before step R can begin.\\nStep P must be finished before step I can begin.\\nStep E must be finished before step C can begin.\\nStep H must be finished before step Z can begin.\\nStep N must be finished before step V can begin.\\nStep N must be finished before step W can begin.\\nStep A must be finished before step C can begin.\\nStep V must be finished before step E can begin.\\nStep N must be finished before step Q can begin.\\nStep Y must be finished before step V can begin.\\nStep R must be finished before step O can begin.\\nStep R must be finished before step C can begin.\\nStep L must be finished before step S can begin.\\nStep V must be finished before step R can begin.\\nStep X must be finished before step R can begin.\\nStep Z must be finished before step A can begin.\\nStep O must be finished before step Z can begin.\\nStep U must be finished before step C can begin.\\nStep X must be finished before step W can begin.\\nStep K must be finished before step O can begin.\\nStep O must be finished before step A can begin.\\nStep K must be finished before step T can begin.\\nStep N must be finished before step O can begin.\\nStep X must be finished before step C can begin.\\nStep Z must be finished before step C can begin.\\nStep N must be finished before step X can begin.\\nStep T must be finished before step A can begin.\\nStep D must be finished before step O can begin.\\nStep M must be finished before step Q can begin.\\nStep D must be finished before step C can begin.\\nStep U must be finished before step E can begin.\\nStep N must be finished before step H can begin.\\nStep I must be finished before step U can begin.\\nStep N must be finished before step A can begin.\\nStep M must be finished before step E can begin.\\nStep M must be finished before step V can begin.\\nStep P must be finished before step B can begin.\\nStep K must be finished before step X can begin.\\nStep N must be finished before step S can begin.\\nStep S must be finished before step B can begin.\\nStep Y must be finished before step W can begin.\\nStep K must be finished before step Q can begin.\\nStep V must be finished before step S can begin.\\nStep E must be finished before step S can begin.\\nStep N must be finished before step Z can begin.\\nStep P must be finished before step A can begin.\\nStep T must be finished before step V can begin.\\nStep L must be finished before step D can begin.\\nStep I must be finished before step C can begin.\\nStep Q must be finished before step E can begin.\\nStep Y must be finished before step U can begin.\\nStep J must be finished before step I can begin.\\nStep P must be finished before step H can begin.\\nStep T must be finished before step M can begin.\\nStep T must be finished before step E can begin.\\nStep D must be finished before step F can begin.\\n'"
      ]
     },
     "execution_count": 5,
     "metadata": {},
     "output_type": "execute_result"
    }
   ],
   "source": [
    "r.content"
   ]
  },
  {
   "cell_type": "code",
   "execution_count": 9,
   "metadata": {},
   "outputs": [],
   "source": [
    "def parse_instructions(line):\n",
    "    m = re.search('Step ([A-Z]).*step ([A-Z]).*', line.decode('utf-8'))\n",
    "    return m.group(1), m.group(2)"
   ]
  },
  {
   "cell_type": "code",
   "execution_count": 11,
   "metadata": {},
   "outputs": [
    {
     "data": {
      "text/plain": [
       "[('G', 'T'),\n",
       " ('L', 'V'),\n",
       " ('D', 'P'),\n",
       " ('J', 'K'),\n",
       " ('N', 'B'),\n",
       " ('K', 'W'),\n",
       " ('T', 'I'),\n",
       " ('F', 'E'),\n",
       " ('P', 'O'),\n",
       " ('X', 'I'),\n",
       " ('M', 'S'),\n",
       " ('Y', 'O'),\n",
       " ('I', 'Z'),\n",
       " ('V', 'Z'),\n",
       " ('Q', 'Z'),\n",
       " ('H', 'C'),\n",
       " ('R', 'Z'),\n",
       " ('U', 'S'),\n",
       " ('E', 'Z'),\n",
       " ('O', 'W'),\n",
       " ('Z', 'S'),\n",
       " ('S', 'C'),\n",
       " ('W', 'B'),\n",
       " ('A', 'B'),\n",
       " ('C', 'B'),\n",
       " ('L', 'P'),\n",
       " ('J', 'V'),\n",
       " ('E', 'W'),\n",
       " ('Z', 'W'),\n",
       " ('W', 'C'),\n",
       " ('S', 'W'),\n",
       " ('Q', 'S'),\n",
       " ('O', 'B'),\n",
       " ('R', 'W'),\n",
       " ('D', 'H'),\n",
       " ('E', 'O'),\n",
       " ('Y', 'H'),\n",
       " ('V', 'O'),\n",
       " ('O', 'S'),\n",
       " ('X', 'V'),\n",
       " ('R', 'E'),\n",
       " ('S', 'A'),\n",
       " ('K', 'Y'),\n",
       " ('V', 'W'),\n",
       " ('U', 'W'),\n",
       " ('H', 'R'),\n",
       " ('P', 'I'),\n",
       " ('E', 'C'),\n",
       " ('H', 'Z'),\n",
       " ('N', 'V'),\n",
       " ('N', 'W'),\n",
       " ('A', 'C'),\n",
       " ('V', 'E'),\n",
       " ('N', 'Q'),\n",
       " ('Y', 'V'),\n",
       " ('R', 'O'),\n",
       " ('R', 'C'),\n",
       " ('L', 'S'),\n",
       " ('V', 'R'),\n",
       " ('X', 'R'),\n",
       " ('Z', 'A'),\n",
       " ('O', 'Z'),\n",
       " ('U', 'C'),\n",
       " ('X', 'W'),\n",
       " ('K', 'O'),\n",
       " ('O', 'A'),\n",
       " ('K', 'T'),\n",
       " ('N', 'O'),\n",
       " ('X', 'C'),\n",
       " ('Z', 'C'),\n",
       " ('N', 'X'),\n",
       " ('T', 'A'),\n",
       " ('D', 'O'),\n",
       " ('M', 'Q'),\n",
       " ('D', 'C'),\n",
       " ('U', 'E'),\n",
       " ('N', 'H'),\n",
       " ('I', 'U'),\n",
       " ('N', 'A'),\n",
       " ('M', 'E'),\n",
       " ('M', 'V'),\n",
       " ('P', 'B'),\n",
       " ('K', 'X'),\n",
       " ('N', 'S'),\n",
       " ('S', 'B'),\n",
       " ('Y', 'W'),\n",
       " ('K', 'Q'),\n",
       " ('V', 'S'),\n",
       " ('E', 'S'),\n",
       " ('N', 'Z'),\n",
       " ('P', 'A'),\n",
       " ('T', 'V'),\n",
       " ('L', 'D'),\n",
       " ('I', 'C'),\n",
       " ('Q', 'E'),\n",
       " ('Y', 'U'),\n",
       " ('J', 'I'),\n",
       " ('P', 'H'),\n",
       " ('T', 'M'),\n",
       " ('T', 'E'),\n",
       " ('D', 'F')]"
      ]
     },
     "execution_count": 11,
     "metadata": {},
     "output_type": "execute_result"
    }
   ],
   "source": [
    "edges = [parse_instructions(line) for line in r.content.splitlines()]\n",
    "edges"
   ]
  },
  {
   "cell_type": "markdown",
   "metadata": {},
   "source": [
    "# Part 1"
   ]
  },
  {
   "cell_type": "code",
   "execution_count": 12,
   "metadata": {},
   "outputs": [],
   "source": [
    "import networkx as nx"
   ]
  },
  {
   "cell_type": "code",
   "execution_count": 14,
   "metadata": {
    "collapsed": true
   },
   "outputs": [],
   "source": [
    "G = nx.DiGraph()\n",
    "G.add_edges_from(edges)"
   ]
  },
  {
   "cell_type": "code",
   "execution_count": 27,
   "metadata": {},
   "outputs": [],
   "source": [
    "def get_source_nodes(G):\n",
    "    source_nodes = []\n",
    "    return [n for n, in_deg in G.in_degree() if in_deg == 0]\n",
    "        "
   ]
  },
  {
   "cell_type": "code",
   "execution_count": 28,
   "metadata": {},
   "outputs": [
    {
     "data": {
      "text/plain": [
       "['G', 'L', 'J', 'N']"
      ]
     },
     "execution_count": 28,
     "metadata": {},
     "output_type": "execute_result"
    }
   ],
   "source": [
    "get_source_nodes(G)"
   ]
  },
  {
   "cell_type": "code",
   "execution_count": 32,
   "metadata": {},
   "outputs": [],
   "source": [
    "work_order = []\n",
    "source_nodes = set(get_source_nodes(G))\n",
    "while source_nodes:\n",
    "    next_ = sorted(source_nodes)[0]\n",
    "    work_order.append(next_)\n",
    "    G.remove_node(next_)\n",
    "    source_nodes = set(get_source_nodes(G))\n",
    "    "
   ]
  },
  {
   "cell_type": "code",
   "execution_count": 34,
   "metadata": {},
   "outputs": [
    {
     "data": {
      "text/plain": [
       "'GJKLDFNPTMQXIYHUVREOZSAWCB'"
      ]
     },
     "execution_count": 34,
     "metadata": {},
     "output_type": "execute_result"
    }
   ],
   "source": [
    "\"\".join(work_order)"
   ]
  },
  {
   "cell_type": "markdown",
   "metadata": {
    "collapsed": true
   },
   "source": [
    "# Part 2"
   ]
  },
  {
   "cell_type": "code",
   "execution_count": 171,
   "metadata": {
    "collapsed": true
   },
   "outputs": [],
   "source": [
    "short_input = \"\"\"Step C must be finished before step A can begin.\n",
    "Step C must be finished before step F can begin.\n",
    "Step A must be finished before step B can begin.\n",
    "Step A must be finished before step D can begin.\n",
    "Step B must be finished before step E can begin.\n",
    "Step D must be finished before step E can begin.\n",
    "Step F must be finished before step E can begin.\"\"\""
   ]
  },
  {
   "cell_type": "code",
   "execution_count": 172,
   "metadata": {
    "collapsed": true
   },
   "outputs": [],
   "source": [
    "def parse_instructions_short(line):\n",
    "    m = re.search('Step ([A-Z]).*step ([A-Z]).*', line)\n",
    "    return m.group(1), m.group(2)"
   ]
  },
  {
   "cell_type": "code",
   "execution_count": 173,
   "metadata": {},
   "outputs": [
    {
     "data": {
      "text/plain": [
       "[('C', 'A'),\n",
       " ('C', 'F'),\n",
       " ('A', 'B'),\n",
       " ('A', 'D'),\n",
       " ('B', 'E'),\n",
       " ('D', 'E'),\n",
       " ('F', 'E')]"
      ]
     },
     "execution_count": 173,
     "metadata": {},
     "output_type": "execute_result"
    }
   ],
   "source": [
    "short_edges = [parse_instructions_short(line) for line in short_input.splitlines()]\n",
    "short_edges"
   ]
  },
  {
   "cell_type": "code",
   "execution_count": 174,
   "metadata": {},
   "outputs": [],
   "source": [
    "edges = [parse_instructions(line) for line in r.content.splitlines()]"
   ]
  },
  {
   "cell_type": "code",
   "execution_count": 186,
   "metadata": {
    "collapsed": true
   },
   "outputs": [],
   "source": [
    "def get_available_work(G, current_work = None):\n",
    "    if current_work is None:\n",
    "        current_work = []\n",
    "    source_nodes = set(get_source_nodes(G))\n",
    "    available_work = [j for j in sorted(source_nodes, reverse = True) if j not in current_work]\n",
    "    return available_work\n",
    "    "
   ]
  },
  {
   "cell_type": "code",
   "execution_count": 202,
   "metadata": {
    "collapsed": true
   },
   "outputs": [],
   "source": [
    "edges_ = edges\n",
    "num_workers = 5\n",
    "offset = 4\n",
    "# edges_ = short_edges\n",
    "# num_workers = 2\n",
    "# offset = 64"
   ]
  },
  {
   "cell_type": "code",
   "execution_count": 205,
   "metadata": {},
   "outputs": [
    {
     "data": {
      "text/plain": [
       "967"
      ]
     },
     "execution_count": 205,
     "metadata": {},
     "output_type": "execute_result"
    }
   ],
   "source": [
    "G = nx.DiGraph()\n",
    "G.add_edges_from(edges_)\n",
    "#print(G)\n",
    "time = 0\n",
    "workers = [(None, 0)]*num_workers\n",
    "current_work = set()\n",
    "work_order = []\n",
    "\n",
    "while len(G):\n",
    "    available_work = get_available_work(G, current_work)\n",
    "    workers = [(job,max(w-1,0)) for job, w in workers]\n",
    "    for i, w in enumerate(workers):\n",
    "        job,work_remaining = w\n",
    "        if work_remaining == 0 and job is not None:\n",
    "            G.remove_node(job)\n",
    "            current_work.remove(job)\n",
    "            work_order.append(job)\n",
    "            job = None\n",
    "            available_work = get_available_work(G, current_work)\n",
    "            \n",
    "        if job is None and len(available_work) > 0:\n",
    "            job = available_work.pop()\n",
    "            current_work.add(job)\n",
    "            work_remaining = ord(job)-offset\n",
    "        \n",
    "        workers[i] = (job, work_remaining)\n",
    "\n",
    "    if len(G) == 0:\n",
    "        break\n",
    "    else:\n",
    "        time+=1\n",
    "time"
   ]
  },
  {
   "cell_type": "code",
   "execution_count": 198,
   "metadata": {},
   "outputs": [
    {
     "data": {
      "text/plain": [
       "[]"
      ]
     },
     "execution_count": 198,
     "metadata": {},
     "output_type": "execute_result"
    }
   ],
   "source": [
    "work_order"
   ]
  },
  {
   "cell_type": "code",
   "execution_count": 177,
   "metadata": {},
   "outputs": [
    {
     "data": {
      "text/plain": [
       "61"
      ]
     },
     "execution_count": 177,
     "metadata": {},
     "output_type": "execute_result"
    }
   ],
   "source": [
    "ord(\"A\")-4"
   ]
  },
  {
   "cell_type": "code",
   "execution_count": null,
   "metadata": {
    "collapsed": true
   },
   "outputs": [],
   "source": []
  }
 ],
 "metadata": {
  "hide_input": false,
  "kernelspec": {
   "display_name": "Python 3",
   "language": "python",
   "name": "python3"
  },
  "language_info": {
   "codemirror_mode": {
    "name": "ipython",
    "version": 3
   },
   "file_extension": ".py",
   "mimetype": "text/x-python",
   "name": "python",
   "nbconvert_exporter": "python",
   "pygments_lexer": "ipython3",
   "version": "3.6.3"
  },
  "toc": {
   "toc_cell": false,
   "toc_number_sections": true,
   "toc_threshold": 4,
   "toc_window_display": false
  }
 },
 "nbformat": 4,
 "nbformat_minor": 2
}
