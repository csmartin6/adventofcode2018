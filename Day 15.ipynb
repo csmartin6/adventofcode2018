{
 "cells": [
  {
   "cell_type": "code",
   "execution_count": 2,
   "metadata": {
    "collapsed": true
   },
   "outputs": [],
   "source": [
    "import numpy as np\n",
    "import requests\n",
    "import re\n",
    "import copy\n",
    "import networkx as nx"
   ]
  },
  {
   "cell_type": "markdown",
   "metadata": {},
   "source": [
    "# Get Input"
   ]
  },
  {
   "cell_type": "code",
   "execution_count": 3,
   "metadata": {
    "collapsed": true
   },
   "outputs": [],
   "source": [
    "sessionId = \"os.environ[\"ADVENT_OF_CODE_SESSION_ID\"]\"
   ]
  },
  {
   "cell_type": "code",
   "execution_count": 4,
   "metadata": {
    "collapsed": true
   },
   "outputs": [],
   "source": [
    "r = requests.get(\"https://adventofcode.com/2018/day/15/input\", cookies={\"session\": sessionId})"
   ]
  },
  {
   "cell_type": "code",
   "execution_count": 5,
   "metadata": {
    "collapsed": true
   },
   "outputs": [],
   "source": [
    "input = r.content"
   ]
  },
  {
   "cell_type": "code",
   "execution_count": 6,
   "metadata": {},
   "outputs": [
    {
     "data": {
      "text/plain": [
       "b'################################\\n#######################.########\\n#######################.########\\n########..#############.########\\n#######.....#########....#..####\\n#######.....##########......####\\n######....#..########.......#..#\\n#######.G...########...........#\\n####..GG....G######..........###\\n########....G..###..E.......#.E#\\n########...G..#....G..G.....E..#\\n########...G...G.G...........E.#\\n####....G.....#####..E......#E.#\\n####.####.#..#######....G.....##\\n####.G#####.#########..........#\\n####G#####..#########..........#\\n####.####..E#########..........#\\n####...#..#.#########.G........#\\n####.....G..#########.........##\\n####..G....E.#######........####\\n####G.........#####...##....####\\n#####G................###..E####\\n#####..####...............######\\n####..#####.............########\\n#####.#######...........########\\n#####.########.........#########\\n#####.########.....E..##########\\n#.....#########...#.############\\n#..#############....############\\n################....############\\n##################.#############\\n################################\\n'"
      ]
     },
     "execution_count": 6,
     "metadata": {},
     "output_type": "execute_result"
    }
   ],
   "source": [
    "input"
   ]
  },
  {
   "cell_type": "code",
   "execution_count": 7,
   "metadata": {},
   "outputs": [],
   "source": [
    "def parse_input(input):\n",
    "    goblins = set()\n",
    "    elves = set()\n",
    "    walls = set()\n",
    "    split_input = input.splitlines()\n",
    "    board_dim = len(split_input), len(split_input[0])\n",
    "    board = []\n",
    "    for i, line in enumerate(input.splitlines()):\n",
    "        row = []\n",
    "        for j, c in enumerate(line):\n",
    "            row.append(c)\n",
    "            if c == \"G\":\n",
    "                goblins.add((i,j))\n",
    "            if c == \"E\":\n",
    "                elves.add((i,j))\n",
    "            if c == \"#\":\n",
    "                walls.add((i,j))\n",
    "        board.append(row)\n",
    "    \n",
    "    return board_dim, board, walls, goblins, elves\n",
    "    "
   ]
  },
  {
   "cell_type": "code",
   "execution_count": 8,
   "metadata": {},
   "outputs": [],
   "source": [
    "board_dim, board,  walls, goblins, elves = parse_input(input.decode('utf-8'))\n"
   ]
  },
  {
   "cell_type": "markdown",
   "metadata": {},
   "source": [
    "# Setup"
   ]
  },
  {
   "cell_type": "code",
   "execution_count": 9,
   "metadata": {
    "collapsed": true
   },
   "outputs": [],
   "source": [
    "def open_square(square, board):\n",
    "    try:\n",
    "        return board[square[0]][square[1]] == \".\"\n",
    "    except IndexError:\n",
    "        return False"
   ]
  },
  {
   "cell_type": "code",
   "execution_count": 10,
   "metadata": {},
   "outputs": [],
   "source": [
    "def board_as_graph(board):\n",
    "    G = nx.Graph()\n",
    "    for i, row in enumerate(board):\n",
    "        for j, c in enumerate(row):\n",
    "            if c == \".\":\n",
    "                # check above\n",
    "                if i-1 >= 0 and board[i-1][j] == \".\":\n",
    "                    G.add_edge((i,j),(i-1,j))\n",
    "                # check below\n",
    "                if (i+1) < len(board) and board[i+1][j] == \".\":\n",
    "                    G.add_edge((i,j),(i+1,j))\n",
    "                # check left \n",
    "                if j-1 >= 0 and board[i][j-1] == \".\":\n",
    "                    G.add_edge((i,j),(i,j-1))\n",
    "                if j+1 <len(row) and board[i][j+1] == \".\":\n",
    "                    G.add_edge((i,j),(i,j+1))\n",
    "                    \n",
    "    return G\n",
    "                    \n",
    "                \n",
    "                 \n",
    "\n",
    "    "
   ]
  },
  {
   "cell_type": "code",
   "execution_count": 11,
   "metadata": {
    "collapsed": true
   },
   "outputs": [],
   "source": [
    "def shortest_paths(board, start):\n",
    "    \n",
    "    G = board_as_graph(board)\n",
    "    if board[start[0]][start[1]] != \".\":\n",
    "        if start[0] >= 1 and board[start[0]-1][start[1]] == \".\":\n",
    "            north = (start[0]-1,start[1])\n",
    "            G.add_edge(start,north)\n",
    "        if start[0]+1 <= len(board) and board[start[0]+1][start[1]] == \".\":\n",
    "            south = (start[0]+1,start[1])\n",
    "            G.add_edge(start,south)\n",
    "        if start[1] >= 1 and board[start[0]][start[1]-1] == \".\":\n",
    "            left = (start[0],start[1]-1)\n",
    "            G.add_edge(start,left)\n",
    "        if start[1]+1 <= len(board[start[0]]) and board[start[0]][start[1]+1] == \".\":\n",
    "            right = (start[0],start[1]+1)\n",
    "            G.add_edge(start,right)\n",
    "    \n",
    "    return nx.single_source_shortest_path(G, start)\n"
   ]
  },
  {
   "cell_type": "code",
   "execution_count": 12,
   "metadata": {
    "collapsed": true
   },
   "outputs": [],
   "source": [
    "small_board = \"\"\"#########\n",
    "#G..G..G#\n",
    "#.......#\n",
    "#.......#\n",
    "#G..E..G#\n",
    "#.......#\n",
    "#.......#\n",
    "#G..G..G#\n",
    "#########\"\"\""
   ]
  },
  {
   "cell_type": "code",
   "execution_count": 13,
   "metadata": {},
   "outputs": [
    {
     "data": {
      "text/plain": [
       "'#########\\n#G..G..G#\\n#.......#\\n#.......#\\n#G..E..G#\\n#.......#\\n#.......#\\n#G..G..G#\\n#########'"
      ]
     },
     "execution_count": 13,
     "metadata": {},
     "output_type": "execute_result"
    }
   ],
   "source": [
    "small_board"
   ]
  },
  {
   "cell_type": "code",
   "execution_count": 14,
   "metadata": {
    "collapsed": true
   },
   "outputs": [],
   "source": [
    "board_dim, board, walls, goblins, elves = parse_input(small_board)"
   ]
  },
  {
   "cell_type": "code",
   "execution_count": 15,
   "metadata": {},
   "outputs": [],
   "source": [
    "bg = shortest_paths(board, (1,1))"
   ]
  },
  {
   "cell_type": "code",
   "execution_count": 16,
   "metadata": {
    "code_folding": [
     0
    ],
    "collapsed": true
   },
   "outputs": [],
   "source": [
    "def open_path(board, start, end):\n",
    "    \n",
    "    G = board_as_graph(board)\n",
    "    # check valid start paths:\n",
    "    if start[0] >= 1 and board[start[0]-1][start[1]] == \".\":\n",
    "        north = (start[0]-1,start[0])\n",
    "        connected = node_connected_component(G, north)\n",
    "        if end in connected:\n",
    "            return True\n",
    "    if start[0]+1 <= len(board) and board[start[0]+1][start[1]] == \".\":\n",
    "        south = (start[0]+1,start[0])\n",
    "        connected = node_connected_component(G, south)\n",
    "        if end in connected:\n",
    "            return True\n",
    "    if start[1] >= 1 and board[start[0]][start[1]-1] == \".\":\n",
    "        north = (start[0]-1,start[0])\n",
    "        connected = node_connected_component(G, north)\n",
    "        if end in connected:\n",
    "            return True\n",
    "        \n",
    "    if start[1]+1 <= len(start[0]) and board[start[0]][start[1]+1] == \".\":\n",
    "        right = (start[0],start[0]+1)\n",
    "        connected = node_connected_component(G, right)\n",
    "        if end in connected:\n",
    "            return True\n",
    "        \n",
    "    return False\n",
    "    "
   ]
  },
  {
   "cell_type": "code",
   "execution_count": 17,
   "metadata": {},
   "outputs": [],
   "source": [
    "position = 4,4\n",
    "targets = [g for g in goblins]\n",
    "in_range = []\n",
    "for t in targets:\n",
    "    above = (t[0]-1, t[1])\n",
    "    right = (t[0], t[1]+1)\n",
    "    below = (t[0]+1, t[1])\n",
    "    left =  (t[0], t[1]-1)\n",
    "    in_range.extend([above, right, below, left])\n",
    "in_range = [t for t in in_range if open_square(t, board)]\n",
    "\n",
    "paths = shortest_paths(board, position)\n",
    "paths.pop(position)\n",
    "\n",
    "reachable = [p for p in in_range if p in paths.keys()]\n",
    "\n",
    "min_dist = min([len(v) for k,v in paths.items() if k in reachable])\n",
    "\n",
    "closest = [p for p in reachable if len(paths[p]) == min_dist]\n",
    "\n",
    "possible_moves = [paths[c][1] for c in closest]\n",
    "chosen = sorted(possible_moves)[0]\n"
   ]
  },
  {
   "cell_type": "code",
   "execution_count": 18,
   "metadata": {},
   "outputs": [
    {
     "data": {
      "text/plain": [
       "(3, 4)"
      ]
     },
     "execution_count": 18,
     "metadata": {},
     "output_type": "execute_result"
    }
   ],
   "source": [
    "chosen"
   ]
  },
  {
   "cell_type": "code",
   "execution_count": 19,
   "metadata": {},
   "outputs": [
    {
     "data": {
      "text/plain": [
       "[(3, 7),\n",
       " (5, 7),\n",
       " (4, 6),\n",
       " (6, 1),\n",
       " (7, 2),\n",
       " (6, 7),\n",
       " (7, 6),\n",
       " (1, 5),\n",
       " (2, 4),\n",
       " (1, 3),\n",
       " (6, 4),\n",
       " (7, 5),\n",
       " (7, 3),\n",
       " (2, 7),\n",
       " (1, 6),\n",
       " (3, 1),\n",
       " (4, 2),\n",
       " (5, 1),\n",
       " (1, 2),\n",
       " (2, 1)]"
      ]
     },
     "execution_count": 19,
     "metadata": {},
     "output_type": "execute_result"
    }
   ],
   "source": [
    "reachable"
   ]
  },
  {
   "cell_type": "code",
   "execution_count": 20,
   "metadata": {},
   "outputs": [
    {
     "data": {
      "text/plain": [
       "[(4, 5), (3, 4), (5, 4), (4, 3)]"
      ]
     },
     "execution_count": 20,
     "metadata": {},
     "output_type": "execute_result"
    }
   ],
   "source": [
    "possible_moves"
   ]
  },
  {
   "cell_type": "code",
   "execution_count": 21,
   "metadata": {
    "collapsed": true
   },
   "outputs": [],
   "source": [
    "G = board_as_graph(small_board)"
   ]
  },
  {
   "cell_type": "code",
   "execution_count": 22,
   "metadata": {
    "collapsed": true
   },
   "outputs": [],
   "source": [
    "def all_shortest_paths(board, start, end):\n",
    "    G = board_as_graph(board)\n",
    "    if board[start[0]][start[1]] != \".\":\n",
    "        if start[0] >= 1 and board[start[0]-1][start[1]] == \".\":\n",
    "            north = (start[0]-1,start[1])\n",
    "            G.add_edge(start,north)\n",
    "        if start[0]+1 <= len(board) and board[start[0]+1][start[1]] == \".\":\n",
    "            south = (start[0]+1,start[1])\n",
    "            G.add_edge(start,south)\n",
    "        if start[1] >= 1 and board[start[0]][start[1]-1] == \".\":\n",
    "            left = (start[0],start[1]-1)\n",
    "            G.add_edge(start,left)\n",
    "        if start[1]+1 <= len(board[start[0]]) and board[start[0]][start[1]+1] == \".\":\n",
    "            right = (start[0],start[1]+1)\n",
    "            G.add_edge(start,right)\n",
    "    \n",
    "    \n",
    "    \n",
    "    return list(nx.all_shortest_paths(G, start, end))"
   ]
  },
  {
   "cell_type": "code",
   "execution_count": 23,
   "metadata": {},
   "outputs": [],
   "source": [
    "class Warrior(object):\n",
    "    def __init__(self, type_, position, hitpoints, attack_power):\n",
    "        self.position = position\n",
    "        self.hitpoints = hitpoints\n",
    "        self.attack_power = attack_power\n",
    "        self.type_ = type_\n",
    "        self.alive = True\n",
    "        \n",
    "    def __repr__(self):\n",
    "        return \"{}({})@({})\".format(self.type_, self.hitpoints, self.position)\n",
    "        \n",
    "    def find_move(self, board, enemies):\n",
    "        \n",
    "        targets = [e.position for e in enemies]\n",
    "        #print(\"{} targets: {}\".format(self, targets))\n",
    "        in_range = []\n",
    "        for t in targets:\n",
    "            above = (t[0]-1, t[1])\n",
    "            right = (t[0], t[1]+1)\n",
    "            below = (t[0]+1, t[1])\n",
    "            left =  (t[0], t[1]-1)\n",
    "            in_range.extend([above, right, below, left])\n",
    "        in_range = [t for t in in_range if open_square(t, board)]\n",
    "        #print(\"{} in_range: {}\".format(self, in_range))\n",
    "        paths = shortest_paths(board, self.position)\n",
    "        paths.pop(self.position)\n",
    "        reachable = [p for p in in_range if p in paths.keys()]\n",
    "        #print(\"{} reachable: {}\".format(self, reachable))\n",
    "        \n",
    "        min_dist = min([len(v) for k,v in paths.items() if k in reachable])\n",
    "        #print(\"{} min_dist: {}\".format(self, min_dist))\n",
    "        closest = [p for p in reachable if len(paths[p]) == min_dist]\n",
    "        #print(\"{} closest: {}\".format(self, closest))\n",
    "        #possible_moves = [paths[c][1] for c in closest]\n",
    "        #print(\"{} possible moves: {}\".format(self, possible_moves))\n",
    "        c = sorted(closest)[0]\n",
    "        \n",
    "        possible_paths = all_shortest_paths(board, self.position, c)\n",
    "        #print(\"{} possible_paths: {}\".format(self, possible_paths))\n",
    "        \n",
    "        possible_moves = [p[1] for p in possible_paths]\n",
    "        #print(\"{} possible_moves: {}\".format(self, possible_moves))\n",
    "        \n",
    "        chosen = sorted(possible_moves)[0]\n",
    "        \n",
    "        #print(\"{} moving to {}\".format(self, chosen))\n",
    "        return chosen\n",
    "    \n",
    "        \n",
    "    def move(self, board,enemies):\n",
    "        try:\n",
    "            if any([self.adjacent(e) for e in enemies]):\n",
    "                return\n",
    "            old_position = self.position\n",
    "            self.position = self.find_move(board, enemies)\n",
    "            board[old_position[0]][old_position[1]] = \".\"\n",
    "            board[self.position[0]][self.position[1]] = self.type_\n",
    "        except:\n",
    "            pass\n",
    "    \n",
    "    def turn(self, board,enemies):\n",
    "        self.move(board,enemies)\n",
    "        hit = self.attack(board,enemies)\n",
    "        self.moved = True\n",
    "        return hit\n",
    "        \n",
    "    def adjacent(self, other):\n",
    "        return (abs(self.position[0]-other.position[0]) + abs(self.position[1]-other.position[1]))<=1 and (self.position[0]==other.position[0] or self.position[1]==other.position[1])\n",
    "        \n",
    "    def hit(self, power, board):\n",
    "        self.hitpoints -= power\n",
    "        if self.hitpoints <= 0:\n",
    "            self.alive = False\n",
    "            board[self.position[0]][self.position[1]] = '.'\n",
    "        \n",
    "    \n",
    "    def attack(self, board, enemies):\n",
    "        \n",
    "        # adjacent targets ?\n",
    "        targets = [e for e in enemies if self.adjacent(e)]\n",
    "        \n",
    "        if len(targets) == 0:\n",
    "            return False\n",
    "\n",
    "        # pick  one with lowest hit points \n",
    "        target = min(targets, key=lambda x: (x.hitpoints, x.position))\n",
    "        \n",
    "        # attack\n",
    "        target.hit(self.attack_power, board)\n",
    "        return True"
   ]
  },
  {
   "cell_type": "code",
   "execution_count": 24,
   "metadata": {
    "code_folding": []
   },
   "outputs": [],
   "source": [
    "class Elf(Warrior):\n",
    "    def __init__(self, position, hitpoints, attack_power):\n",
    "        super().__init__(position, hitpoints, attack_power)\n",
    "\n",
    "class Goblin(Warrior):\n",
    "    def __init__(self, position, hitpoints, attack_power):\n",
    "        super().__init__(position, hitpoints, attack_power)\n"
   ]
  },
  {
   "cell_type": "code",
   "execution_count": 25,
   "metadata": {},
   "outputs": [],
   "source": [
    "def print_board(board, warriors):\n",
    "    warrior_strs=[\"\"]*len(board)\n",
    "    for w in sorted(warriors, key=lambda x: x.position):\n",
    "        warrior_strs[w.position[0]]+=\"{}({}) \".format(w.type_,w.hitpoints)\n",
    "    \n",
    "    to_print = [\"\".join(row) + \" \"+warrior_strs[i] for i,row in enumerate(board)]\n",
    "    \n",
    "    print(\"\\n\".join(to_print))"
   ]
  },
  {
   "cell_type": "markdown",
   "metadata": {},
   "source": [
    "# Test Case"
   ]
  },
  {
   "cell_type": "code",
   "execution_count": 26,
   "metadata": {
    "code_folding": [
     0
    ]
   },
   "outputs": [],
   "source": [
    "def play_game(board, warriors, verbose = 0, max_iter = 100):\n",
    "    i = 0\n",
    "    if verbose == 2:\n",
    "        print(\"i: {}\".format(i))\n",
    "        print_board(board)\n",
    "    elif verbose == 1:\n",
    "        print(\"i: {}\\r\".format(i), end=\"\")\n",
    "    \n",
    "    while len(set([w.type_ for w in warriors])) > 1 and i < max_iter:\n",
    "        \n",
    "        \n",
    "        to_move = sorted(warriors, key=lambda x: x.position)\n",
    "\n",
    "        while len(to_move) > 0:\n",
    "            moving_warrior = to_move.pop(0)\n",
    "            enemies = [w for w in warriors if w.type_ != moving_warrior.type_ and w.alive]\n",
    "            #print(\"{}'s enemies {}\".format(moving_warrior,enemies))\n",
    "            if len(enemies) == 0:\n",
    "                print(\"no more enemies in round {}\".format(i))\n",
    "                return sum([w.hitpoints for w in warriors])*i, board, warriors,i  \n",
    "            \n",
    "            if moving_warrior.alive:\n",
    "                moving_warrior.turn(board,enemies)\n",
    "\n",
    "        warriors = [w for w in warriors if w.alive]\n",
    "        #print(\"warriors: {}\".format(warriors))\n",
    "        if verbose == 2:\n",
    "            print(\"i: {}\".format(i))\n",
    "            print_board(board)\n",
    "        elif verbose == 1:\n",
    "            print(\"i: {}\\r\".format(i), end=\"\")\n",
    "        if len([w for w in to_move if w.alive]) == 0:\n",
    "            i+=1\n",
    "        \n",
    "    print(\"to_move: {}\".format(to_move))\n",
    "        \n",
    "\n",
    "    return sum([w.hitpoints for w in warriors])*i, board, warriors,i  \n",
    "        \n",
    "        \n",
    "        \n",
    "        \n",
    "        \n",
    "    \n",
    "    \n",
    "    \n",
    "    "
   ]
  },
  {
   "cell_type": "code",
   "execution_count": 27,
   "metadata": {},
   "outputs": [],
   "source": [
    "def play_game(board, warriors, verbose = 0, max_iter = 100):\n",
    "    i = 0\n",
    "    if verbose == 2:\n",
    "        print(\"initial\")\n",
    "        print_board(board,warriors)\n",
    "    elif verbose == 1:\n",
    "        print(\"i: {}\\r\".format(i), end=\"\")\n",
    "    \n",
    "    for i in range(max_iter):\n",
    "        \n",
    "        \n",
    "        to_move = sorted(warriors, key=lambda x: x.position)\n",
    "\n",
    "        while len(to_move) > 0:\n",
    "            moving_warrior = to_move.pop(0)\n",
    "            enemies = [w for w in warriors if w.type_ != moving_warrior.type_ and w.alive]\n",
    "            #print(\"{}'s enemies {}\".format(moving_warrior,enemies))\n",
    "            if len(enemies) == 0:\n",
    "                print(\"no more enemies in round {}\".format(i))\n",
    "                warriors = [w for w in warriors if w.alive]\n",
    "                return sum([w.hitpoints for w in warriors])*i, board, warriors,i  \n",
    "            \n",
    "            if moving_warrior.alive:\n",
    "                moving_warrior.turn(board,enemies)\n",
    "\n",
    "        warriors = [w for w in warriors if w.alive]\n",
    "        #print(\"warriors: {}\".format(warriors))\n",
    "        if verbose == 2:\n",
    "            print(\"i: {}\".format(i))\n",
    "            print_board(board, warriors)\n",
    "        elif verbose == 1:\n",
    "            print(\"i: {}\\r\".format(i), end=\"\")\n",
    "        i+=1\n",
    "        \n",
    "        \n",
    "\n",
    "    return -1, board, warriors,i  \n",
    "        \n",
    "        \n",
    "        \n",
    "        \n",
    "        \n",
    "    \n",
    "    \n",
    "    \n",
    "    "
   ]
  },
  {
   "cell_type": "code",
   "execution_count": 28,
   "metadata": {
    "collapsed": true
   },
   "outputs": [],
   "source": [
    "small_board_a = \"\"\"#######\n",
    "#.G...#\n",
    "#...EG#\n",
    "#.#.#G#\n",
    "#..G#E#\n",
    "#.....#\n",
    "#######\"\"\""
   ]
  },
  {
   "cell_type": "code",
   "execution_count": 29,
   "metadata": {},
   "outputs": [
    {
     "name": "stdout",
     "output_type": "stream",
     "text": [
      "initial\n",
      "####### \n",
      "#.G...# G(200) \n",
      "#...EG# E(200) G(200) \n",
      "#.#.#G# G(200) \n",
      "#..G#E# G(200) E(200) \n",
      "#.....# \n",
      "####### \n",
      "i: 0\n",
      "####### \n",
      "#..G..# G(200) \n",
      "#...EG# E(197) G(197) \n",
      "#.#G#G# G(200) G(197) \n",
      "#...#E# E(197) \n",
      "#.....# \n",
      "####### \n",
      "i: 1\n",
      "####### \n",
      "#...G.# G(200) \n",
      "#..GEG# G(200) E(188) G(194) \n",
      "#.#.#G# G(194) \n",
      "#...#E# E(194) \n",
      "#.....# \n",
      "####### \n",
      "i: 2\n",
      "####### \n",
      "#...G.# G(200) \n",
      "#..GEG# G(200) E(179) G(191) \n",
      "#.#.#G# G(191) \n",
      "#...#E# E(191) \n",
      "#.....# \n",
      "####### \n",
      "i: 3\n",
      "####### \n",
      "#...G.# G(200) \n",
      "#..GEG# G(200) E(170) G(188) \n",
      "#.#.#G# G(188) \n",
      "#...#E# E(188) \n",
      "#.....# \n",
      "####### \n",
      "i: 4\n",
      "####### \n",
      "#...G.# G(200) \n",
      "#..GEG# G(200) E(161) G(185) \n",
      "#.#.#G# G(185) \n",
      "#...#E# E(185) \n",
      "#.....# \n",
      "####### \n",
      "i: 5\n",
      "####### \n",
      "#...G.# G(200) \n",
      "#..GEG# G(200) E(152) G(182) \n",
      "#.#.#G# G(182) \n",
      "#...#E# E(182) \n",
      "#.....# \n",
      "####### \n",
      "i: 6\n",
      "####### \n",
      "#...G.# G(200) \n",
      "#..GEG# G(200) E(143) G(179) \n",
      "#.#.#G# G(179) \n",
      "#...#E# E(179) \n",
      "#.....# \n",
      "####### \n",
      "i: 7\n",
      "####### \n",
      "#...G.# G(200) \n",
      "#..GEG# G(200) E(134) G(176) \n",
      "#.#.#G# G(176) \n",
      "#...#E# E(176) \n",
      "#.....# \n",
      "####### \n",
      "i: 8\n",
      "####### \n",
      "#...G.# G(200) \n",
      "#..GEG# G(200) E(125) G(173) \n",
      "#.#.#G# G(173) \n",
      "#...#E# E(173) \n",
      "#.....# \n",
      "####### \n",
      "i: 9\n",
      "####### \n",
      "#...G.# G(200) \n",
      "#..GEG# G(200) E(116) G(170) \n",
      "#.#.#G# G(170) \n",
      "#...#E# E(170) \n",
      "#.....# \n",
      "####### \n",
      "i: 10\n",
      "####### \n",
      "#...G.# G(200) \n",
      "#..GEG# G(200) E(107) G(167) \n",
      "#.#.#G# G(167) \n",
      "#...#E# E(167) \n",
      "#.....# \n",
      "####### \n",
      "i: 11\n",
      "####### \n",
      "#...G.# G(200) \n",
      "#..GEG# G(200) E(98) G(164) \n",
      "#.#.#G# G(164) \n",
      "#...#E# E(164) \n",
      "#.....# \n",
      "####### \n",
      "i: 12\n",
      "####### \n",
      "#...G.# G(200) \n",
      "#..GEG# G(200) E(89) G(161) \n",
      "#.#.#G# G(161) \n",
      "#...#E# E(161) \n",
      "#.....# \n",
      "####### \n",
      "i: 13\n",
      "####### \n",
      "#...G.# G(200) \n",
      "#..GEG# G(200) E(80) G(158) \n",
      "#.#.#G# G(158) \n",
      "#...#E# E(158) \n",
      "#.....# \n",
      "####### \n",
      "i: 14\n",
      "####### \n",
      "#...G.# G(200) \n",
      "#..GEG# G(200) E(71) G(155) \n",
      "#.#.#G# G(155) \n",
      "#...#E# E(155) \n",
      "#.....# \n",
      "####### \n",
      "i: 15\n",
      "####### \n",
      "#...G.# G(200) \n",
      "#..GEG# G(200) E(62) G(152) \n",
      "#.#.#G# G(152) \n",
      "#...#E# E(152) \n",
      "#.....# \n",
      "####### \n",
      "i: 16\n",
      "####### \n",
      "#...G.# G(200) \n",
      "#..GEG# G(200) E(53) G(149) \n",
      "#.#.#G# G(149) \n",
      "#...#E# E(149) \n",
      "#.....# \n",
      "####### \n",
      "i: 17\n",
      "####### \n",
      "#...G.# G(200) \n",
      "#..GEG# G(200) E(44) G(146) \n",
      "#.#.#G# G(146) \n",
      "#...#E# E(146) \n",
      "#.....# \n",
      "####### \n",
      "i: 18\n",
      "####### \n",
      "#...G.# G(200) \n",
      "#..GEG# G(200) E(35) G(143) \n",
      "#.#.#G# G(143) \n",
      "#...#E# E(143) \n",
      "#.....# \n",
      "####### \n",
      "i: 19\n",
      "####### \n",
      "#...G.# G(200) \n",
      "#..GEG# G(200) E(26) G(140) \n",
      "#.#.#G# G(140) \n",
      "#...#E# E(140) \n",
      "#.....# \n",
      "####### \n",
      "i: 20\n",
      "####### \n",
      "#...G.# G(200) \n",
      "#..GEG# G(200) E(17) G(137) \n",
      "#.#.#G# G(137) \n",
      "#...#E# E(137) \n",
      "#.....# \n",
      "####### \n",
      "i: 21\n",
      "####### \n",
      "#...G.# G(200) \n",
      "#..GEG# G(200) E(8) G(134) \n",
      "#.#.#G# G(134) \n",
      "#...#E# E(134) \n",
      "#.....# \n",
      "####### \n",
      "i: 22\n",
      "####### \n",
      "#...G.# G(200) \n",
      "#..G.G# G(200) G(131) \n",
      "#.#.#G# G(131) \n",
      "#...#E# E(131) \n",
      "#.....# \n",
      "####### \n",
      "i: 23\n",
      "####### \n",
      "#..G..# G(200) \n",
      "#...G.# G(131) \n",
      "#.#G#G# G(200) G(128) \n",
      "#...#E# E(128) \n",
      "#.....# \n",
      "####### \n",
      "i: 24\n",
      "####### \n",
      "#.G...# G(200) \n",
      "#..G..# G(131) \n",
      "#.#.#G# G(125) \n",
      "#..G#E# G(200) E(125) \n",
      "#.....# \n",
      "####### \n",
      "i: 25\n",
      "####### \n",
      "#G....# G(200) \n",
      "#.G...# G(131) \n",
      "#.#.#G# G(122) \n",
      "#...#E# E(122) \n",
      "#..G..# G(200) \n",
      "####### \n",
      "i: 26\n",
      "####### \n",
      "#G....# G(200) \n",
      "#.G...# G(131) \n",
      "#.#.#G# G(119) \n",
      "#...#E# E(119) \n",
      "#...G.# G(200) \n",
      "####### \n",
      "i: 27\n",
      "####### \n",
      "#G....# G(200) \n",
      "#.G...# G(131) \n",
      "#.#.#G# G(116) \n",
      "#...#E# E(113) \n",
      "#....G# G(200) \n",
      "####### \n",
      "i: 28\n",
      "####### \n",
      "#G....# G(200) \n",
      "#.G...# G(131) \n",
      "#.#.#G# G(113) \n",
      "#...#E# E(107) \n",
      "#....G# G(200) \n",
      "####### \n",
      "i: 29\n",
      "####### \n",
      "#G....# G(200) \n",
      "#.G...# G(131) \n",
      "#.#.#G# G(110) \n",
      "#...#E# E(101) \n",
      "#....G# G(200) \n",
      "####### \n",
      "i: 30\n",
      "####### \n",
      "#G....# G(200) \n",
      "#.G...# G(131) \n",
      "#.#.#G# G(107) \n",
      "#...#E# E(95) \n",
      "#....G# G(200) \n",
      "####### \n",
      "i: 31\n",
      "####### \n",
      "#G....# G(200) \n",
      "#.G...# G(131) \n",
      "#.#.#G# G(104) \n",
      "#...#E# E(89) \n",
      "#....G# G(200) \n",
      "####### \n",
      "i: 32\n",
      "####### \n",
      "#G....# G(200) \n",
      "#.G...# G(131) \n",
      "#.#.#G# G(101) \n",
      "#...#E# E(83) \n",
      "#....G# G(200) \n",
      "####### \n",
      "i: 33\n",
      "####### \n",
      "#G....# G(200) \n",
      "#.G...# G(131) \n",
      "#.#.#G# G(98) \n",
      "#...#E# E(77) \n",
      "#....G# G(200) \n",
      "####### \n",
      "i: 34\n",
      "####### \n",
      "#G....# G(200) \n",
      "#.G...# G(131) \n",
      "#.#.#G# G(95) \n",
      "#...#E# E(71) \n",
      "#....G# G(200) \n",
      "####### \n",
      "i: 35\n",
      "####### \n",
      "#G....# G(200) \n",
      "#.G...# G(131) \n",
      "#.#.#G# G(92) \n",
      "#...#E# E(65) \n",
      "#....G# G(200) \n",
      "####### \n",
      "i: 36\n",
      "####### \n",
      "#G....# G(200) \n",
      "#.G...# G(131) \n",
      "#.#.#G# G(89) \n",
      "#...#E# E(59) \n",
      "#....G# G(200) \n",
      "####### \n",
      "i: 37\n",
      "####### \n",
      "#G....# G(200) \n",
      "#.G...# G(131) \n",
      "#.#.#G# G(86) \n",
      "#...#E# E(53) \n",
      "#....G# G(200) \n",
      "####### \n",
      "i: 38\n",
      "####### \n",
      "#G....# G(200) \n",
      "#.G...# G(131) \n",
      "#.#.#G# G(83) \n",
      "#...#E# E(47) \n",
      "#....G# G(200) \n",
      "####### \n",
      "i: 39\n",
      "####### \n",
      "#G....# G(200) \n",
      "#.G...# G(131) \n",
      "#.#.#G# G(80) \n",
      "#...#E# E(41) \n",
      "#....G# G(200) \n",
      "####### \n",
      "i: 40\n",
      "####### \n",
      "#G....# G(200) \n",
      "#.G...# G(131) \n",
      "#.#.#G# G(77) \n",
      "#...#E# E(35) \n",
      "#....G# G(200) \n",
      "####### \n",
      "i: 41\n",
      "####### \n",
      "#G....# G(200) \n",
      "#.G...# G(131) \n",
      "#.#.#G# G(74) \n",
      "#...#E# E(29) \n",
      "#....G# G(200) \n",
      "####### \n",
      "i: 42\n",
      "####### \n",
      "#G....# G(200) \n",
      "#.G...# G(131) \n",
      "#.#.#G# G(71) \n",
      "#...#E# E(23) \n",
      "#....G# G(200) \n",
      "####### \n",
      "i: 43\n",
      "####### \n",
      "#G....# G(200) \n",
      "#.G...# G(131) \n",
      "#.#.#G# G(68) \n",
      "#...#E# E(17) \n",
      "#....G# G(200) \n",
      "####### \n",
      "i: 44\n",
      "####### \n",
      "#G....# G(200) \n",
      "#.G...# G(131) \n",
      "#.#.#G# G(65) \n",
      "#...#E# E(11) \n",
      "#....G# G(200) \n",
      "####### \n",
      "i: 45\n",
      "####### \n",
      "#G....# G(200) \n",
      "#.G...# G(131) \n",
      "#.#.#G# G(62) \n",
      "#...#E# E(5) \n",
      "#....G# G(200) \n",
      "####### \n",
      "i: 46\n",
      "####### \n",
      "#G....# G(200) \n",
      "#.G...# G(131) \n",
      "#.#.#G# G(59) \n",
      "#...#.# \n",
      "#....G# G(200) \n",
      "####### \n",
      "no more enemies in round 47\n"
     ]
    },
    {
     "data": {
      "text/plain": [
       "27730"
      ]
     },
     "execution_count": 29,
     "metadata": {},
     "output_type": "execute_result"
    }
   ],
   "source": [
    "board_dim, board, walls, goblins, elves = parse_input(small_board_a)\n",
    "goblins = [Warrior('G', g, 200, 3) for g in goblins]\n",
    "elves = [Warrior('E', e, 200, 3) for e in elves]\n",
    "warriors = elves + goblins\n",
    "outcome, board, warriors, turns = play_game(board, warriors, verbose=2)\n",
    "outcome"
   ]
  },
  {
   "cell_type": "code",
   "execution_count": 30,
   "metadata": {},
   "outputs": [
    {
     "data": {
      "text/plain": [
       "8.0"
      ]
     },
     "execution_count": 30,
     "metadata": {},
     "output_type": "execute_result"
    }
   ],
   "source": [
    "200/25"
   ]
  },
  {
   "cell_type": "code",
   "execution_count": 31,
   "metadata": {},
   "outputs": [
    {
     "data": {
      "text/plain": [
       "47"
      ]
     },
     "execution_count": 31,
     "metadata": {},
     "output_type": "execute_result"
    }
   ],
   "source": [
    "turns"
   ]
  },
  {
   "cell_type": "code",
   "execution_count": 32,
   "metadata": {
    "collapsed": true
   },
   "outputs": [],
   "source": [
    "small_board_b = \"\"\"#######\n",
    "#G..#E#\n",
    "#E#E.E#\n",
    "#G.##.#\n",
    "#...#E#\n",
    "#...E.#\n",
    "#######\"\"\""
   ]
  },
  {
   "cell_type": "code",
   "execution_count": 33,
   "metadata": {},
   "outputs": [
    {
     "name": "stdout",
     "output_type": "stream",
     "text": [
      "initial\n",
      "####### \n",
      "#G..#E# G(200) E(200) \n",
      "#E#E.E# E(200) E(200) E(200) \n",
      "#G.##.# G(200) \n",
      "#...#E# E(200) \n",
      "#...E.# E(200) \n",
      "####### \n",
      "i: 0\n",
      "####### \n",
      "#G.E#E# G(197) E(200) E(200) \n",
      "#E#..E# E(194) E(200) \n",
      "#G.##.# G(200) \n",
      "#...#E# E(200) \n",
      "#..E..# E(200) \n",
      "####### \n",
      "i: 1\n",
      "####### \n",
      "#GE.#E# G(191) E(200) E(200) \n",
      "#E#..E# E(188) E(200) \n",
      "#G.##.# G(200) \n",
      "#..E#E# E(200) E(200) \n",
      "#.....# \n",
      "####### \n",
      "i: 2\n",
      "####### \n",
      "#GE.#E# G(185) E(200) E(200) \n",
      "#E#..E# E(182) E(200) \n",
      "#G.##.# G(200) \n",
      "#.E.#.# E(200) \n",
      "#....E# E(200) \n",
      "####### \n",
      "i: 3\n",
      "####### \n",
      "#GE.#E# G(179) E(200) E(200) \n",
      "#E#..E# E(176) E(200) \n",
      "#GE##.# G(197) E(200) \n",
      "#...#.# \n",
      "#...E.# E(200) \n",
      "####### \n",
      "i: 4\n",
      "####### \n",
      "#GE.#E# G(173) E(200) E(200) \n",
      "#E#..E# E(170) E(200) \n",
      "#GE##.# G(194) E(200) \n",
      "#...#.# \n",
      "#..E..# E(200) \n",
      "####### \n",
      "i: 5\n",
      "####### \n",
      "#GE.#E# G(167) E(200) E(200) \n",
      "#E#..E# E(164) E(200) \n",
      "#GE##.# G(191) E(200) \n",
      "#..E#.# E(200) \n",
      "#.....# \n",
      "####### \n",
      "i: 6\n",
      "####### \n",
      "#GE.#E# G(161) E(200) E(200) \n",
      "#E#...# E(158) \n",
      "#GE##E# G(188) E(200) E(200) \n",
      "#.E.#.# E(200) \n",
      "#.....# \n",
      "####### \n",
      "i: 7\n",
      "####### \n",
      "#GE.#E# G(155) E(200) E(200) \n",
      "#E#...# E(152) \n",
      "#GE##.# G(182) E(200) \n",
      "#E..#E# E(200) E(200) \n",
      "#.....# \n",
      "####### \n",
      "i: 8\n",
      "####### \n",
      "#GE.#E# G(149) E(200) E(200) \n",
      "#E#...# E(146) \n",
      "#GE##.# G(176) E(200) \n",
      "#E..#E# E(200) E(200) \n",
      "#.....# \n",
      "####### \n",
      "i: 9\n",
      "####### \n",
      "#GE.#E# G(143) E(200) E(200) \n",
      "#E#...# E(140) \n",
      "#GE##.# G(170) E(200) \n",
      "#E..#E# E(200) E(200) \n",
      "#.....# \n",
      "####### \n",
      "i: 10\n",
      "####### \n",
      "#GE.#E# G(137) E(200) E(200) \n",
      "#E#...# E(134) \n",
      "#GE##.# G(164) E(200) \n",
      "#E..#E# E(200) E(200) \n",
      "#.....# \n",
      "####### \n",
      "i: 11\n",
      "####### \n",
      "#GE.#E# G(131) E(200) E(200) \n",
      "#E#...# E(128) \n",
      "#GE##.# G(158) E(200) \n",
      "#E..#E# E(200) E(200) \n",
      "#.....# \n",
      "####### \n",
      "i: 12\n",
      "####### \n",
      "#GE.#E# G(125) E(200) E(200) \n",
      "#E#...# E(122) \n",
      "#GE##.# G(152) E(200) \n",
      "#E..#E# E(200) E(200) \n",
      "#.....# \n",
      "####### \n",
      "i: 13\n",
      "####### \n",
      "#GE.#E# G(119) E(200) E(200) \n",
      "#E#...# E(116) \n",
      "#GE##.# G(146) E(200) \n",
      "#E..#E# E(200) E(200) \n",
      "#.....# \n",
      "####### \n",
      "i: 14\n",
      "####### \n",
      "#GE.#E# G(113) E(200) E(200) \n",
      "#E#...# E(110) \n",
      "#GE##.# G(140) E(200) \n",
      "#E..#E# E(200) E(200) \n",
      "#.....# \n",
      "####### \n",
      "i: 15\n",
      "####### \n",
      "#GE.#E# G(107) E(200) E(200) \n",
      "#E#...# E(104) \n",
      "#GE##.# G(134) E(200) \n",
      "#E..#E# E(200) E(200) \n",
      "#.....# \n",
      "####### \n",
      "i: 16\n",
      "####### \n",
      "#GE.#E# G(101) E(200) E(200) \n",
      "#E#...# E(98) \n",
      "#GE##.# G(128) E(200) \n",
      "#E..#E# E(200) E(200) \n",
      "#.....# \n",
      "####### \n",
      "i: 17\n",
      "####### \n",
      "#GE.#E# G(95) E(200) E(200) \n",
      "#E#...# E(92) \n",
      "#GE##.# G(122) E(200) \n",
      "#E..#E# E(200) E(200) \n",
      "#.....# \n",
      "####### \n",
      "i: 18\n",
      "####### \n",
      "#GE.#E# G(89) E(200) E(200) \n",
      "#E#...# E(86) \n",
      "#GE##.# G(116) E(200) \n",
      "#E..#E# E(200) E(200) \n",
      "#.....# \n",
      "####### \n",
      "i: 19\n",
      "####### \n",
      "#GE.#E# G(83) E(200) E(200) \n",
      "#E#...# E(80) \n",
      "#GE##.# G(110) E(200) \n",
      "#E..#E# E(200) E(200) \n",
      "#.....# \n",
      "####### \n",
      "i: 20\n",
      "####### \n",
      "#GE.#E# G(77) E(200) E(200) \n",
      "#E#...# E(74) \n",
      "#GE##.# G(104) E(200) \n",
      "#E..#E# E(200) E(200) \n",
      "#.....# \n",
      "####### \n",
      "i: 21\n",
      "####### \n",
      "#GE.#E# G(71) E(200) E(200) \n",
      "#E#...# E(68) \n",
      "#GE##.# G(98) E(200) \n",
      "#E..#E# E(200) E(200) \n",
      "#.....# \n",
      "####### \n",
      "i: 22\n",
      "####### \n",
      "#GE.#E# G(65) E(200) E(200) \n",
      "#E#...# E(62) \n",
      "#GE##.# G(92) E(200) \n",
      "#E..#E# E(200) E(200) \n",
      "#.....# \n",
      "####### \n",
      "i: 23\n",
      "####### \n",
      "#GE.#E# G(59) E(200) E(200) \n",
      "#E#...# E(56) \n",
      "#GE##.# G(86) E(200) \n",
      "#E..#E# E(200) E(200) \n",
      "#.....# \n",
      "####### \n",
      "i: 24\n",
      "####### \n",
      "#GE.#E# G(53) E(200) E(200) \n",
      "#E#...# E(50) \n",
      "#GE##.# G(80) E(200) \n",
      "#E..#E# E(200) E(200) \n",
      "#.....# \n",
      "####### \n",
      "i: 25\n",
      "####### \n",
      "#GE.#E# G(47) E(200) E(200) \n",
      "#E#...# E(44) \n",
      "#GE##.# G(74) E(200) \n",
      "#E..#E# E(200) E(200) \n",
      "#.....# \n",
      "####### \n",
      "i: 26\n",
      "####### \n",
      "#GE.#E# G(41) E(200) E(200) \n",
      "#E#...# E(38) \n",
      "#GE##.# G(68) E(200) \n",
      "#E..#E# E(200) E(200) \n",
      "#.....# \n",
      "####### \n",
      "i: 27\n",
      "####### \n",
      "#GE.#E# G(35) E(200) E(200) \n",
      "#E#...# E(32) \n",
      "#GE##.# G(62) E(200) \n",
      "#E..#E# E(200) E(200) \n",
      "#.....# \n",
      "####### \n",
      "i: 28\n",
      "####### \n",
      "#GE.#E# G(29) E(200) E(200) \n",
      "#E#...# E(26) \n",
      "#GE##.# G(56) E(200) \n",
      "#E..#E# E(200) E(200) \n",
      "#.....# \n",
      "####### \n",
      "i: 29\n",
      "####### \n",
      "#GE.#E# G(23) E(200) E(200) \n",
      "#E#...# E(20) \n",
      "#GE##.# G(50) E(200) \n",
      "#E..#E# E(200) E(200) \n",
      "#.....# \n",
      "####### \n",
      "i: 30\n",
      "####### \n",
      "#GE.#E# G(17) E(200) E(200) \n",
      "#E#...# E(14) \n",
      "#GE##.# G(44) E(200) \n",
      "#E..#E# E(200) E(200) \n",
      "#.....# \n",
      "####### \n",
      "i: 31\n",
      "####### \n",
      "#GE.#E# G(11) E(200) E(200) \n",
      "#E#...# E(8) \n",
      "#GE##.# G(38) E(200) \n",
      "#E..#E# E(200) E(200) \n",
      "#.....# \n",
      "####### \n",
      "i: 32\n",
      "####### \n",
      "#GE.#E# G(5) E(200) E(200) \n",
      "#E#...# E(2) \n",
      "#GE##.# G(32) E(200) \n",
      "#E..#E# E(200) E(200) \n",
      "#.....# \n",
      "####### \n",
      "i: 33\n",
      "####### \n",
      "#GE.#E# G(2) E(200) E(200) \n",
      "#.#...# \n",
      "#GE##.# G(26) E(197) \n",
      "#E..#E# E(200) E(200) \n",
      "#.....# \n",
      "####### \n",
      "i: 34\n",
      "####### \n",
      "#.E.#E# E(197) E(200) \n",
      "#.#...# \n",
      "#GE##.# G(20) E(194) \n",
      "#E..#E# E(200) E(200) \n",
      "#.....# \n",
      "####### \n",
      "i: 35\n",
      "####### \n",
      "#E..#E# E(197) E(200) \n",
      "#.#...# \n",
      "#GE##.# G(14) E(191) \n",
      "#E..#E# E(200) E(200) \n",
      "#.....# \n",
      "####### \n",
      "i: 36\n",
      "####### \n",
      "#...#E# E(200) \n",
      "#E#...# E(197) \n",
      "#GE##.# G(5) E(188) \n",
      "#E..#E# E(200) E(200) \n",
      "#.....# \n",
      "####### \n",
      "no more enemies in round 37\n"
     ]
    },
    {
     "data": {
      "text/plain": [
       "(36334, 37)"
      ]
     },
     "execution_count": 33,
     "metadata": {},
     "output_type": "execute_result"
    }
   ],
   "source": [
    "board_dim, board, walls, goblins, elves = parse_input(small_board_b)\n",
    "goblins = [Warrior('G', g, 200, 3) for g in goblins]\n",
    "elves = [Warrior('E', e, 200, 3) for e in elves]\n",
    "warriors = elves + goblins\n",
    "outcome, board, warriors, turns = play_game(board, warriors, verbose = 2, max_iter=200)\n",
    "outcome, turns"
   ]
  },
  {
   "cell_type": "code",
   "execution_count": 34,
   "metadata": {},
   "outputs": [
    {
     "data": {
      "text/plain": [
       "36334"
      ]
     },
     "execution_count": 34,
     "metadata": {},
     "output_type": "execute_result"
    }
   ],
   "source": [
    "outcome"
   ]
  },
  {
   "cell_type": "code",
   "execution_count": 35,
   "metadata": {},
   "outputs": [
    {
     "name": "stdout",
     "output_type": "stream",
     "text": [
      "####### \n",
      "#...#E# E(200) \n",
      "#E#...# E(197) \n",
      "#.E##.# E(185) \n",
      "#E..#E# E(200) E(200) \n",
      "#.....# \n",
      "####### \n"
     ]
    }
   ],
   "source": [
    "print_board(board,warriors)"
   ]
  },
  {
   "cell_type": "code",
   "execution_count": 36,
   "metadata": {
    "collapsed": true
   },
   "outputs": [],
   "source": [
    "small_board_c = \"\"\"#######\n",
    "#E..EG#\n",
    "#.#G.E#\n",
    "#E.##E#\n",
    "#G..#.#\n",
    "#..E#.#\n",
    "#######\"\"\""
   ]
  },
  {
   "cell_type": "code",
   "execution_count": 37,
   "metadata": {},
   "outputs": [
    {
     "name": "stdout",
     "output_type": "stream",
     "text": [
      "no more enemies in round 46\n"
     ]
    },
    {
     "data": {
      "text/plain": [
       "(39514, 46)"
      ]
     },
     "execution_count": 37,
     "metadata": {},
     "output_type": "execute_result"
    }
   ],
   "source": [
    "board_dim, board, walls, goblins, elves = parse_input(small_board_c)\n",
    "goblins = [Warrior('G', g, 200, 3) for g in goblins]\n",
    "elves = [Warrior('E', e, 200, 3) for e in elves]\n",
    "warriors = elves + goblins\n",
    "outcome, board, warriors, turns= play_game(board, warriors)\n",
    "outcome,turns"
   ]
  },
  {
   "cell_type": "code",
   "execution_count": 38,
   "metadata": {},
   "outputs": [
    {
     "name": "stdout",
     "output_type": "stream",
     "text": [
      "####### \n",
      "#.E.E.# E(164) E(197) \n",
      "#.#E..# E(200) \n",
      "#E.##.# E(98) \n",
      "#.E.#.# E(200) \n",
      "#...#.# \n",
      "####### \n"
     ]
    }
   ],
   "source": [
    "print_board(board, warriors)"
   ]
  },
  {
   "cell_type": "code",
   "execution_count": 39,
   "metadata": {
    "collapsed": true
   },
   "outputs": [],
   "source": [
    "small_board_d = \"\"\"#######\n",
    "#E.G#.#\n",
    "#.#G..#\n",
    "#G.#.G#\n",
    "#G..#.#\n",
    "#...E.#\n",
    "#######\"\"\""
   ]
  },
  {
   "cell_type": "code",
   "execution_count": 40,
   "metadata": {},
   "outputs": [
    {
     "name": "stdout",
     "output_type": "stream",
     "text": [
      "no more enemies in round 35\n"
     ]
    },
    {
     "data": {
      "text/plain": [
       "(27755, 35)"
      ]
     },
     "execution_count": 40,
     "metadata": {},
     "output_type": "execute_result"
    }
   ],
   "source": [
    "board_dim, board, walls, goblins, elves = parse_input(small_board_d)\n",
    "goblins = [Warrior('G', g, 200, 3) for g in goblins]\n",
    "elves = [Warrior('E', e, 200, 3) for e in elves]\n",
    "warriors = elves + goblins\n",
    "outcome, board, warriors, turns= play_game(board, warriors)\n",
    "outcome,turns"
   ]
  },
  {
   "cell_type": "code",
   "execution_count": 41,
   "metadata": {},
   "outputs": [
    {
     "name": "stdout",
     "output_type": "stream",
     "text": [
      "####### \n",
      "#G.G#.# G(200) G(98) \n",
      "#.#G..# G(200) \n",
      "#..#..# \n",
      "#...#G# G(95) \n",
      "#...G.# G(200) \n",
      "####### \n"
     ]
    }
   ],
   "source": [
    "print_board(board, warriors)"
   ]
  },
  {
   "cell_type": "code",
   "execution_count": 42,
   "metadata": {
    "collapsed": true
   },
   "outputs": [],
   "source": [
    "small_board_e = \"\"\"#######\n",
    "#.E...#\n",
    "#.#..G#\n",
    "#.###.#\n",
    "#E#G#G#\n",
    "#...#G#\n",
    "#######\"\"\""
   ]
  },
  {
   "cell_type": "code",
   "execution_count": 43,
   "metadata": {},
   "outputs": [
    {
     "name": "stdout",
     "output_type": "stream",
     "text": [
      "no more enemies in round 54\n"
     ]
    },
    {
     "data": {
      "text/plain": [
       "28944"
      ]
     },
     "execution_count": 43,
     "metadata": {},
     "output_type": "execute_result"
    }
   ],
   "source": [
    "board_dim, board, walls, goblins, elves = parse_input(small_board_e)\n",
    "goblins = [Warrior('G', g, 200, 3) for g in goblins]\n",
    "elves = [Warrior('E', e, 200, 3) for e in elves]\n",
    "warriors = elves + goblins\n",
    "outcome, board, warriors, turns = play_game(board, warriors, verbose = 0)\n",
    "outcome"
   ]
  },
  {
   "cell_type": "code",
   "execution_count": 44,
   "metadata": {},
   "outputs": [
    {
     "name": "stdout",
     "output_type": "stream",
     "text": [
      "####### \n",
      "#.....# \n",
      "#.#G..# G(200) \n",
      "#.###.# \n",
      "#.#.#.# \n",
      "#G.G#G# G(98) G(38) G(200) \n",
      "####### \n"
     ]
    }
   ],
   "source": [
    "print_board(board, warriors)"
   ]
  },
  {
   "cell_type": "code",
   "execution_count": 45,
   "metadata": {
    "collapsed": true
   },
   "outputs": [],
   "source": [
    "small_board_f = \"\"\"#########\n",
    "#G......#\n",
    "#.E.#...#\n",
    "#..##..G#\n",
    "#...##..#\n",
    "#...#...#\n",
    "#.G...G.#\n",
    "#.....G.#\n",
    "#########\"\"\""
   ]
  },
  {
   "cell_type": "code",
   "execution_count": 46,
   "metadata": {},
   "outputs": [
    {
     "name": "stdout",
     "output_type": "stream",
     "text": [
      "no more enemies in round 20\n"
     ]
    },
    {
     "data": {
      "text/plain": [
       "18740"
      ]
     },
     "execution_count": 46,
     "metadata": {},
     "output_type": "execute_result"
    }
   ],
   "source": [
    "board_dim, board, walls, goblins, elves = parse_input(small_board_f)\n",
    "goblins = [Warrior('G', g, 200, 3) for g in goblins]\n",
    "elves = [Warrior('E', e, 200, 3) for e in elves]\n",
    "warriors = elves + goblins\n",
    "outcome, board, warriors, turns = play_game(board, warriors, verbose = 0)\n",
    "outcome"
   ]
  },
  {
   "cell_type": "code",
   "execution_count": 47,
   "metadata": {},
   "outputs": [
    {
     "name": "stdout",
     "output_type": "stream",
     "text": [
      "######### \n",
      "#.G.....# G(137) \n",
      "#G.G#...# G(200) G(200) \n",
      "#.G##...# G(200) \n",
      "#...##..# \n",
      "#.G.#...# G(200) \n",
      "#.......# \n",
      "#.......# \n",
      "######### \n"
     ]
    }
   ],
   "source": [
    "print_board(board, warriors)"
   ]
  },
  {
   "cell_type": "code",
   "execution_count": 48,
   "metadata": {
    "collapsed": true
   },
   "outputs": [],
   "source": [
    "small_board_g = \"\"\"#######\n",
    "#.E..G#\n",
    "#.#####\n",
    "#G#####\n",
    "#######\"\"\""
   ]
  },
  {
   "cell_type": "code",
   "execution_count": 49,
   "metadata": {},
   "outputs": [
    {
     "name": "stdout",
     "output_type": "stream",
     "text": [
      "no more enemies in round 34\n"
     ]
    },
    {
     "data": {
      "text/plain": [
       "10234"
      ]
     },
     "execution_count": 49,
     "metadata": {},
     "output_type": "execute_result"
    }
   ],
   "source": [
    "board_dim, board, walls, goblins, elves = parse_input(small_board_g)\n",
    "goblins = [Warrior('G', g, 200, 3) for g in goblins]\n",
    "elves = [Warrior('E', e, 200, 3) for e in elves]\n",
    "warriors = elves + goblins\n",
    "outcome, board, warriors, turns = play_game(board, warriors, verbose = 0, max_iter=2000)\n",
    "outcome"
   ]
  },
  {
   "cell_type": "code",
   "execution_count": 50,
   "metadata": {},
   "outputs": [
    {
     "name": "stdout",
     "output_type": "stream",
     "text": [
      "####### \n",
      "#.G.G.# G(200) G(101) \n",
      "#.##### \n",
      "#.##### \n",
      "####### \n"
     ]
    }
   ],
   "source": [
    "print_board(board, warriors)"
   ]
  },
  {
   "cell_type": "code",
   "execution_count": 51,
   "metadata": {
    "collapsed": true
   },
   "outputs": [],
   "source": [
    "small_board_h = \"\"\"####\n",
    "##E#\n",
    "#GG#\n",
    "####\"\"\""
   ]
  },
  {
   "cell_type": "code",
   "execution_count": null,
   "metadata": {
    "collapsed": true
   },
   "outputs": [],
   "source": []
  },
  {
   "cell_type": "code",
   "execution_count": 52,
   "metadata": {},
   "outputs": [
    {
     "name": "stdout",
     "output_type": "stream",
     "text": [
      "no more enemies in round 66\n"
     ]
    },
    {
     "data": {
      "text/plain": [
       "13200"
      ]
     },
     "execution_count": 52,
     "metadata": {},
     "output_type": "execute_result"
    }
   ],
   "source": [
    "board_dim, board, walls, goblins, elves = parse_input(small_board_h)\n",
    "goblins = [Warrior('G', g, 200, 3) for g in goblins]\n",
    "elves = [Warrior('E', e, 200, 3) for e in elves]\n",
    "warriors = elves + goblins\n",
    "outcome, board, warriors, turns = play_game(board, warriors, verbose = 0, max_iter=200)\n",
    "outcome"
   ]
  },
  {
   "cell_type": "code",
   "execution_count": 53,
   "metadata": {},
   "outputs": [
    {
     "data": {
      "text/plain": [
       "66"
      ]
     },
     "execution_count": 53,
     "metadata": {},
     "output_type": "execute_result"
    }
   ],
   "source": [
    "turns"
   ]
  },
  {
   "cell_type": "code",
   "execution_count": 54,
   "metadata": {},
   "outputs": [
    {
     "data": {
      "text/plain": [
       "[['#', '#', '#', '#'],\n",
       " ['#', '#', '.', '#'],\n",
       " ['#', '.', 'G', '#'],\n",
       " ['#', '#', '#', '#']]"
      ]
     },
     "execution_count": 54,
     "metadata": {},
     "output_type": "execute_result"
    }
   ],
   "source": [
    "board"
   ]
  },
  {
   "cell_type": "code",
   "execution_count": 55,
   "metadata": {
    "code_folding": [],
    "collapsed": true
   },
   "outputs": [],
   "source": [
    "test_case = \"\"\"##########\n",
    "#.E....G.#\n",
    "#......###\n",
    "#.G......#\n",
    "##########\"\"\"\n"
   ]
  },
  {
   "cell_type": "code",
   "execution_count": 56,
   "metadata": {},
   "outputs": [
    {
     "name": "stdout",
     "output_type": "stream",
     "text": [
      "initial\n",
      "########## \n",
      "#.E....G.# E(200) G(200) \n",
      "#......### \n",
      "#.G......# G(200) \n",
      "########## \n",
      "i: 0\n",
      "########## \n",
      "#.....G..# G(200) \n",
      "#.E....### E(197) \n",
      "#.G......# G(197) \n",
      "########## \n",
      "i: 1\n",
      "########## \n",
      "#....G...# G(200) \n",
      "#.E....### E(194) \n",
      "#.G......# G(194) \n",
      "########## \n",
      "i: 2\n",
      "########## \n",
      "#...G....# G(200) \n",
      "#.E....### E(191) \n",
      "#.G......# G(191) \n",
      "########## \n",
      "i: 3\n",
      "########## \n",
      "#..G.....# G(200) \n",
      "#.E....### E(188) \n",
      "#.G......# G(188) \n",
      "########## \n",
      "i: 4\n",
      "########## \n",
      "#.G......# G(200) \n",
      "#.E....### E(182) \n",
      "#.G......# G(185) \n",
      "########## \n",
      "i: 5\n",
      "########## \n",
      "#.G......# G(200) \n",
      "#.E....### E(176) \n",
      "#.G......# G(182) \n",
      "########## \n",
      "i: 6\n",
      "########## \n",
      "#.G......# G(200) \n",
      "#.E....### E(170) \n",
      "#.G......# G(179) \n",
      "########## \n",
      "i: 7\n",
      "########## \n",
      "#.G......# G(200) \n",
      "#.E....### E(164) \n",
      "#.G......# G(176) \n",
      "########## \n",
      "i: 8\n",
      "########## \n",
      "#.G......# G(200) \n",
      "#.E....### E(158) \n",
      "#.G......# G(173) \n",
      "########## \n",
      "i: 9\n",
      "########## \n",
      "#.G......# G(200) \n",
      "#.E....### E(152) \n",
      "#.G......# G(170) \n",
      "########## \n",
      "i: 10\n",
      "########## \n",
      "#.G......# G(200) \n",
      "#.E....### E(146) \n",
      "#.G......# G(167) \n",
      "########## \n",
      "i: 11\n",
      "########## \n",
      "#.G......# G(200) \n",
      "#.E....### E(140) \n",
      "#.G......# G(164) \n",
      "########## \n",
      "i: 12\n",
      "########## \n",
      "#.G......# G(200) \n",
      "#.E....### E(134) \n",
      "#.G......# G(161) \n",
      "########## \n",
      "i: 13\n",
      "########## \n",
      "#.G......# G(200) \n",
      "#.E....### E(128) \n",
      "#.G......# G(158) \n",
      "########## \n",
      "i: 14\n",
      "########## \n",
      "#.G......# G(200) \n",
      "#.E....### E(122) \n",
      "#.G......# G(155) \n",
      "########## \n",
      "i: 15\n",
      "########## \n",
      "#.G......# G(200) \n",
      "#.E....### E(116) \n",
      "#.G......# G(152) \n",
      "########## \n",
      "i: 16\n",
      "########## \n",
      "#.G......# G(200) \n",
      "#.E....### E(110) \n",
      "#.G......# G(149) \n",
      "########## \n",
      "i: 17\n",
      "########## \n",
      "#.G......# G(200) \n",
      "#.E....### E(104) \n",
      "#.G......# G(146) \n",
      "########## \n",
      "i: 18\n",
      "########## \n",
      "#.G......# G(200) \n",
      "#.E....### E(98) \n",
      "#.G......# G(143) \n",
      "########## \n",
      "i: 19\n",
      "########## \n",
      "#.G......# G(200) \n",
      "#.E....### E(92) \n",
      "#.G......# G(140) \n",
      "########## \n",
      "i: 20\n",
      "########## \n",
      "#.G......# G(200) \n",
      "#.E....### E(86) \n",
      "#.G......# G(137) \n",
      "########## \n",
      "i: 21\n",
      "########## \n",
      "#.G......# G(200) \n",
      "#.E....### E(80) \n",
      "#.G......# G(134) \n",
      "########## \n",
      "i: 22\n",
      "########## \n",
      "#.G......# G(200) \n",
      "#.E....### E(74) \n",
      "#.G......# G(131) \n",
      "########## \n",
      "i: 23\n",
      "########## \n",
      "#.G......# G(200) \n",
      "#.E....### E(68) \n",
      "#.G......# G(128) \n",
      "########## \n",
      "i: 24\n",
      "########## \n",
      "#.G......# G(200) \n",
      "#.E....### E(62) \n",
      "#.G......# G(125) \n",
      "########## \n",
      "i: 25\n",
      "########## \n",
      "#.G......# G(200) \n",
      "#.E....### E(56) \n",
      "#.G......# G(122) \n",
      "########## \n",
      "i: 26\n",
      "########## \n",
      "#.G......# G(200) \n",
      "#.E....### E(50) \n",
      "#.G......# G(119) \n",
      "########## \n",
      "i: 27\n",
      "########## \n",
      "#.G......# G(200) \n",
      "#.E....### E(44) \n",
      "#.G......# G(116) \n",
      "########## \n",
      "i: 28\n",
      "########## \n",
      "#.G......# G(200) \n",
      "#.E....### E(38) \n",
      "#.G......# G(113) \n",
      "########## \n",
      "i: 29\n",
      "########## \n",
      "#.G......# G(200) \n",
      "#.E....### E(32) \n",
      "#.G......# G(110) \n",
      "########## \n",
      "i: 30\n",
      "########## \n",
      "#.G......# G(200) \n",
      "#.E....### E(26) \n",
      "#.G......# G(107) \n",
      "########## \n",
      "i: 31\n",
      "########## \n",
      "#.G......# G(200) \n",
      "#.E....### E(20) \n",
      "#.G......# G(104) \n",
      "########## \n",
      "i: 32\n",
      "########## \n",
      "#.G......# G(200) \n",
      "#.E....### E(14) \n",
      "#.G......# G(101) \n",
      "########## \n",
      "i: 33\n",
      "########## \n",
      "#.G......# G(200) \n",
      "#.E....### E(8) \n",
      "#.G......# G(98) \n",
      "########## \n",
      "i: 34\n",
      "########## \n",
      "#.G......# G(200) \n",
      "#.E....### E(2) \n",
      "#.G......# G(95) \n",
      "########## \n",
      "no more enemies in round 35\n"
     ]
    },
    {
     "data": {
      "text/plain": [
       "10325"
      ]
     },
     "execution_count": 56,
     "metadata": {},
     "output_type": "execute_result"
    }
   ],
   "source": [
    "board_dim, board, walls, goblins, elves = parse_input(test_case)\n",
    "goblins = [Warrior('G', g, 200, 3) for g in goblins]\n",
    "elves = [Warrior('E', e, 200, 3) for e in elves]\n",
    "warriors = elves + goblins\n",
    "outcome, board, warriors, turns = play_game(board, warriors, verbose = 2, max_iter=200)\n",
    "outcome"
   ]
  },
  {
   "cell_type": "code",
   "execution_count": 57,
   "metadata": {
    "collapsed": true
   },
   "outputs": [],
   "source": [
    "test_case = \"\"\"################\n",
    "#.......G......#\n",
    "#G.............#\n",
    "#..............#\n",
    "#....###########\n",
    "#....###########\n",
    "#.......EG.....#\n",
    "################\"\"\""
   ]
  },
  {
   "cell_type": "code",
   "execution_count": null,
   "metadata": {
    "collapsed": true
   },
   "outputs": [],
   "source": []
  },
  {
   "cell_type": "code",
   "execution_count": 58,
   "metadata": {},
   "outputs": [
    {
     "name": "stdout",
     "output_type": "stream",
     "text": [
      "no more enemies in round 38\n"
     ]
    },
    {
     "data": {
      "text/plain": [
       "18468"
      ]
     },
     "execution_count": 58,
     "metadata": {},
     "output_type": "execute_result"
    }
   ],
   "source": [
    "board_dim, board, walls, goblins, elves = parse_input(test_case)\n",
    "goblins = [Warrior('G', g, 200, 3) for g in goblins]\n",
    "elves = [Warrior('E', e, 200, 3) for e in elves]\n",
    "warriors = elves + goblins\n",
    "outcome, board, warriors, turns = play_game(board, warriors, verbose = 0, max_iter=200)\n",
    "outcome"
   ]
  },
  {
   "cell_type": "code",
   "execution_count": 59,
   "metadata": {},
   "outputs": [
    {
     "data": {
      "text/plain": [
       "38"
      ]
     },
     "execution_count": 59,
     "metadata": {},
     "output_type": "execute_result"
    }
   ],
   "source": [
    "turns"
   ]
  },
  {
   "cell_type": "code",
   "execution_count": 60,
   "metadata": {
    "collapsed": true
   },
   "outputs": [],
   "source": [
    "test_case =\"\"\"#######\n",
    "#E..G.#\n",
    "#...#.#\n",
    "#.G.#G#\n",
    "#######\n",
    "\"\"\""
   ]
  },
  {
   "cell_type": "code",
   "execution_count": 61,
   "metadata": {},
   "outputs": [
    {
     "name": "stdout",
     "output_type": "stream",
     "text": [
      "initial\n",
      "####### \n",
      "#E..G.# E(200) G(200) \n",
      "#...#.# \n",
      "#.G.#G# G(200) G(200) \n",
      "####### \n",
      "i: 0\n",
      "####### \n",
      "#.EG..# E(194) G(200) \n",
      "#.G.#.# G(200) \n",
      "#...#G# G(200) \n",
      "####### \n",
      "i: 1\n",
      "####### \n",
      "#.EG..# E(188) G(197) \n",
      "#.G.#.# G(200) \n",
      "#...#G# G(200) \n",
      "####### \n"
     ]
    },
    {
     "data": {
      "text/plain": [
       "-1"
      ]
     },
     "execution_count": 61,
     "metadata": {},
     "output_type": "execute_result"
    }
   ],
   "source": [
    "board_dim, board, walls, goblins, elves = parse_input(test_case)\n",
    "goblins = [Warrior('G', g, 200, 3) for g in goblins]\n",
    "elves = [Warrior('E', e, 200, 3) for e in elves]\n",
    "warriors = elves + goblins\n",
    "outcome, board, warriors, turns = play_game(board, warriors, verbose = 2, max_iter=2)\n",
    "outcome"
   ]
  },
  {
   "cell_type": "code",
   "execution_count": 62,
   "metadata": {
    "collapsed": true
   },
   "outputs": [],
   "source": [
    "test_case = \"\"\"####\n",
    "#GG#\n",
    "#.E#\n",
    "####\"\"\""
   ]
  },
  {
   "cell_type": "code",
   "execution_count": 63,
   "metadata": {},
   "outputs": [
    {
     "name": "stdout",
     "output_type": "stream",
     "text": [
      "initial\n",
      "#### \n",
      "#GG# G(200) G(200) \n",
      "#.E# E(200) \n",
      "#### \n",
      "i: 0\n",
      "#### \n",
      "#.G# G(197) \n",
      "#GE# G(200) E(194) \n",
      "#### \n",
      "i: 1\n",
      "#### \n",
      "#.G# G(194) \n",
      "#GE# G(200) E(188) \n",
      "#### \n"
     ]
    },
    {
     "data": {
      "text/plain": [
       "-1"
      ]
     },
     "execution_count": 63,
     "metadata": {},
     "output_type": "execute_result"
    }
   ],
   "source": [
    "board_dim, board, walls, goblins, elves = parse_input(test_case)\n",
    "goblins = [Warrior('G', g, 200, 3) for g in goblins]\n",
    "elves = [Warrior('E', e, 200, 3) for e in elves]\n",
    "warriors = elves + goblins\n",
    "outcome, board, warriors, turns = play_game(board, warriors, verbose = 2, max_iter=2)\n",
    "outcome"
   ]
  },
  {
   "cell_type": "markdown",
   "metadata": {},
   "source": [
    "# Part 1"
   ]
  },
  {
   "cell_type": "code",
   "execution_count": null,
   "metadata": {
    "collapsed": true
   },
   "outputs": [],
   "source": []
  },
  {
   "cell_type": "code",
   "execution_count": 69,
   "metadata": {
    "collapsed": true
   },
   "outputs": [],
   "source": [
    "r = requests.get(\"https://adventofcode.com/2018/day/15/input\", cookies={\"session\": sessionId})\n"
   ]
  },
  {
   "cell_type": "code",
   "execution_count": 70,
   "metadata": {},
   "outputs": [],
   "source": [
    "board_dim, board,  walls, goblins, elves = parse_input(input.decode('utf-8'))"
   ]
  },
  {
   "cell_type": "code",
   "execution_count": 71,
   "metadata": {},
   "outputs": [
    {
     "name": "stdout",
     "output_type": "stream",
     "text": [
      "no more enemies in round 72\n"
     ]
    },
    {
     "data": {
      "text/plain": [
       "196200"
      ]
     },
     "execution_count": 71,
     "metadata": {},
     "output_type": "execute_result"
    }
   ],
   "source": [
    "goblins = [Warrior('G', g, 200, 3) for g in goblins]\n",
    "elves = [Warrior('E', e, 200, 3) for e in elves]\n",
    "warriors = elves + goblins\n",
    "outcome, board, warriors, turns = play_game(board, warriors, verbose = 0)\n",
    "outcome"
   ]
  },
  {
   "cell_type": "code",
   "execution_count": null,
   "metadata": {
    "collapsed": true
   },
   "outputs": [],
   "source": [
    "guesses = [211926,# too high\n",
    "           207784 # too high,\n",
    "           205050]"
   ]
  },
  {
   "cell_type": "markdown",
   "metadata": {
    "collapsed": true
   },
   "source": [
    "# Part 2"
   ]
  },
  {
   "cell_type": "code",
   "execution_count": 64,
   "metadata": {},
   "outputs": [
    {
     "name": "stdout",
     "output_type": "stream",
     "text": [
      "no more enemies in round 50\n",
      "17: started with 10 elves 10 remain\n"
     ]
    }
   ],
   "source": [
    "for i in range(17,34):\n",
    "    board_dim, board,  walls, goblins, elves = parse_input(input.decode('utf-8'))\n",
    "    goblins = [Warrior('G', g, 200, 3) for g in goblins]\n",
    "    elves = [Warrior('E', e, 200, i) for e in elves]\n",
    "    num_elves = len(elves)\n",
    "    warriors = elves + goblins\n",
    "    outcome, board, warriors, turns = play_game(board, warriors, verbose = 0)\n",
    "    elves_remaining = len([w for w in warriors if w.type_ ==\"E\"])\n",
    "    print(\"{}: started with {} elves {} remain\".format(i, num_elves, elves_remaining))\n",
    "    if num_elves == elves_remaining:\n",
    "        break"
   ]
  },
  {
   "cell_type": "code",
   "execution_count": 68,
   "metadata": {},
   "outputs": [
    {
     "data": {
      "text/plain": [
       "50"
      ]
     },
     "execution_count": 68,
     "metadata": {},
     "output_type": "execute_result"
    }
   ],
   "source": [
    "turns"
   ]
  },
  {
   "cell_type": "code",
   "execution_count": 66,
   "metadata": {},
   "outputs": [
    {
     "data": {
      "text/plain": [
       "61750"
      ]
     },
     "execution_count": 66,
     "metadata": {},
     "output_type": "execute_result"
    }
   ],
   "source": [
    "outcome"
   ]
  },
  {
   "cell_type": "code",
   "execution_count": 67,
   "metadata": {},
   "outputs": [
    {
     "data": {
      "text/plain": [
       "[E(17)@((11, 14)),\n",
       " E(29)@((12, 11)),\n",
       " E(59)@((21, 19)),\n",
       " E(200)@((15, 4)),\n",
       " E(41)@((11, 12)),\n",
       " E(200)@((20, 13)),\n",
       " E(191)@((12, 21)),\n",
       " E(200)@((18, 10)),\n",
       " E(119)@((16, 10)),\n",
       " E(179)@((18, 8))]"
      ]
     },
     "execution_count": 67,
     "metadata": {},
     "output_type": "execute_result"
    }
   ],
   "source": [
    "warriors"
   ]
  },
  {
   "cell_type": "code",
   "execution_count": null,
   "metadata": {
    "collapsed": true
   },
   "outputs": [],
   "source": [
    "small_board_a = \"\"\"#######\n",
    "#.G...#\n",
    "#...EG#\n",
    "#.#.#G#\n",
    "#..G#E#\n",
    "#.....#\n",
    "#######\"\"\""
   ]
  },
  {
   "cell_type": "code",
   "execution_count": 914,
   "metadata": {},
   "outputs": [
    {
     "name": "stdout",
     "output_type": "stream",
     "text": [
      "no more enemies in round 47\n",
      "4: started with 2 elves 0 remain\n",
      "no more enemies in round 48\n",
      "5: started with 2 elves 0 remain\n",
      "no more enemies in round 49\n",
      "6: started with 2 elves 0 remain\n",
      "no more enemies in round 49\n",
      "7: started with 2 elves 0 remain\n",
      "no more enemies in round 49\n",
      "8: started with 2 elves 0 remain\n",
      "no more enemies in round 54\n",
      "9: started with 2 elves 0 remain\n",
      "no more enemies in round 58\n",
      "10: started with 2 elves 1 remain\n",
      "no more enemies in round 53\n",
      "11: started with 2 elves 1 remain\n",
      "no more enemies in round 44\n",
      "12: started with 2 elves 1 remain\n",
      "no more enemies in round 39\n",
      "13: started with 2 elves 1 remain\n",
      "no more enemies in round 33\n",
      "14: started with 2 elves 1 remain\n",
      "no more enemies in round 29\n",
      "15: started with 2 elves 2 remain\n",
      "no more enemies in round 27\n",
      "16: started with 2 elves 2 remain\n",
      "no more enemies in round 25\n",
      "17: started with 2 elves 2 remain\n",
      "no more enemies in round 25\n",
      "18: started with 2 elves 2 remain\n",
      "no more enemies in round 23\n",
      "19: started with 2 elves 2 remain\n",
      "no more enemies in round 21\n",
      "20: started with 2 elves 2 remain\n",
      "no more enemies in round 21\n",
      "21: started with 2 elves 2 remain\n",
      "no more enemies in round 21\n",
      "22: started with 2 elves 2 remain\n",
      "no more enemies in round 19\n",
      "23: started with 2 elves 2 remain\n",
      "no more enemies in round 19\n",
      "24: started with 2 elves 2 remain\n",
      "no more enemies in round 17\n",
      "25: started with 2 elves 2 remain\n",
      "no more enemies in round 17\n",
      "26: started with 2 elves 2 remain\n",
      "no more enemies in round 17\n",
      "27: started with 2 elves 2 remain\n",
      "no more enemies in round 17\n",
      "28: started with 2 elves 2 remain\n",
      "no more enemies in round 15\n",
      "29: started with 2 elves 2 remain\n",
      "no more enemies in round 15\n",
      "30: started with 2 elves 2 remain\n",
      "no more enemies in round 15\n",
      "31: started with 2 elves 2 remain\n",
      "no more enemies in round 15\n",
      "32: started with 2 elves 2 remain\n",
      "no more enemies in round 15\n",
      "33: started with 2 elves 2 remain\n"
     ]
    }
   ],
   "source": [
    "for i in range(4,34):\n",
    "    board_dim, board,  walls, goblins, elves = parse_input(small_board_a)\n",
    "    goblins = [Warrior('G', g, 200, 3) for g in goblins]\n",
    "    elves = [Warrior('E', e, 200, i) for e in elves]\n",
    "    num_elves = len(elves)\n",
    "    warriors = elves + goblins\n",
    "    outcome, board, warriors, turns = play_game(board, warriors, verbose = 0)\n",
    "    print(\"{}: started with {} elves {} remain\".format(i, num_elves, len([w for w in warriors if w.type_ ==\"E\"])))"
   ]
  },
  {
   "cell_type": "code",
   "execution_count": 916,
   "metadata": {},
   "outputs": [
    {
     "name": "stdout",
     "output_type": "stream",
     "text": [
      "no more enemies in round 28\n",
      "4: started with 6 elves 6 remain\n"
     ]
    }
   ],
   "source": [
    "for i in range(4,5):\n",
    "    board_dim, board,  walls, goblins, elves = parse_input(small_board_b)\n",
    "    goblins = [Warrior('G', g, 200, 3) for g in goblins]\n",
    "    elves = [Warrior('E', e, 200, i) for e in elves]\n",
    "    num_elves = len(elves)\n",
    "    warriors = elves + goblins\n",
    "    outcome, board, warriors, turns = play_game(board, warriors, verbose = 0)\n",
    "    print(\"{}: started with {} elves {} remain\".format(i, num_elves, len([w for w in warriors if w.type_ ==\"E\"])))"
   ]
  },
  {
   "cell_type": "code",
   "execution_count": 919,
   "metadata": {},
   "outputs": [
    {
     "name": "stdout",
     "output_type": "stream",
     "text": [
      "no more enemies in round 35\n",
      "4: started with 2 elves 0 remain\n",
      "no more enemies in round 35\n",
      "5: started with 2 elves 0 remain\n",
      "no more enemies in round 37\n",
      "6: started with 2 elves 0 remain\n",
      "no more enemies in round 40\n",
      "7: started with 2 elves 0 remain\n",
      "no more enemies in round 42\n",
      "8: started with 2 elves 0 remain\n",
      "no more enemies in round 43\n",
      "9: started with 2 elves 0 remain\n",
      "no more enemies in round 48\n",
      "10: started with 2 elves 0 remain\n",
      "no more enemies in round 48\n",
      "11: started with 2 elves 0 remain\n",
      "no more enemies in round 53\n",
      "12: started with 2 elves 1 remain\n",
      "no more enemies in round 48\n",
      "13: started with 2 elves 1 remain\n",
      "no more enemies in round 41\n",
      "14: started with 2 elves 1 remain\n",
      "no more enemies in round 37\n",
      "15: started with 2 elves 2 remain\n",
      "no more enemies in round 34\n",
      "16: started with 2 elves 2 remain\n"
     ]
    }
   ],
   "source": [
    "for i in range(4,17):\n",
    "    board_dim, board,  walls, goblins, elves = parse_input(small_board_d)\n",
    "    goblins = [Warrior('G', g, 200, 3) for g in goblins]\n",
    "    elves = [Warrior('E', e, 200, i) for e in elves]\n",
    "    num_elves = len(elves)\n",
    "    warriors = elves + goblins\n",
    "    outcome, board, warriors, turns = play_game(board, warriors, verbose = 0)\n",
    "    print(\"{}: started with {} elves {} remain\".format(i, num_elves, len([w for w in warriors if w.type_ ==\"E\"])))"
   ]
  },
  {
   "cell_type": "code",
   "execution_count": 920,
   "metadata": {},
   "outputs": [
    {
     "name": "stdout",
     "output_type": "stream",
     "text": [
      "no more enemies in round 59\n",
      "4: started with 2 elves 0 remain\n",
      "no more enemies in round 72\n",
      "5: started with 2 elves 0 remain\n",
      "no more enemies in round 74\n",
      "6: started with 2 elves 0 remain\n",
      "no more enemies in round 57\n",
      "7: started with 2 elves 0 remain\n",
      "no more enemies in round 71\n",
      "8: started with 2 elves 0 remain\n",
      "no more enemies in round 64\n",
      "9: started with 2 elves 1 remain\n",
      "no more enemies in round 51\n",
      "10: started with 2 elves 1 remain\n",
      "no more enemies in round 45\n",
      "11: started with 2 elves 1 remain\n",
      "no more enemies in round 39\n",
      "12: started with 2 elves 2 remain\n",
      "no more enemies in round 37\n",
      "13: started with 2 elves 2 remain\n",
      "no more enemies in round 35\n",
      "14: started with 2 elves 2 remain\n",
      "no more enemies in round 33\n",
      "15: started with 2 elves 2 remain\n",
      "no more enemies in round 31\n",
      "16: started with 2 elves 2 remain\n"
     ]
    }
   ],
   "source": [
    "for i in range(4,17):\n",
    "    board_dim, board,  walls, goblins, elves = parse_input(small_board_e)\n",
    "    goblins = [Warrior('G', g, 200, 3) for g in goblins]\n",
    "    elves = [Warrior('E', e, 200, i) for e in elves]\n",
    "    num_elves = len(elves)\n",
    "    warriors = elves + goblins\n",
    "    outcome, board, warriors, turns = play_game(board, warriors, verbose = 0)\n",
    "    print(\"{}: started with {} elves {} remain\".format(i, num_elves, len([w for w in warriors if w.type_ ==\"E\"])))"
   ]
  },
  {
   "cell_type": "code",
   "execution_count": 921,
   "metadata": {},
   "outputs": [
    {
     "name": "stdout",
     "output_type": "stream",
     "text": [
      "no more enemies in round 20\n",
      "4: started with 1 elves 0 remain\n",
      "no more enemies in round 20\n",
      "5: started with 1 elves 0 remain\n",
      "no more enemies in round 20\n",
      "6: started with 1 elves 0 remain\n",
      "no more enemies in round 20\n",
      "7: started with 1 elves 0 remain\n",
      "no more enemies in round 20\n",
      "8: started with 1 elves 0 remain\n",
      "no more enemies in round 20\n",
      "9: started with 1 elves 0 remain\n",
      "no more enemies in round 20\n",
      "10: started with 1 elves 0 remain\n",
      "no more enemies in round 21\n",
      "11: started with 1 elves 0 remain\n",
      "no more enemies in round 21\n",
      "12: started with 1 elves 0 remain\n",
      "no more enemies in round 22\n",
      "13: started with 1 elves 0 remain\n",
      "no more enemies in round 22\n",
      "14: started with 1 elves 0 remain\n",
      "no more enemies in round 23\n",
      "15: started with 1 elves 0 remain\n",
      "no more enemies in round 23\n",
      "16: started with 1 elves 0 remain\n",
      "no more enemies in round 23\n",
      "17: started with 1 elves 0 remain\n",
      "no more enemies in round 23\n",
      "18: started with 1 elves 0 remain\n",
      "no more enemies in round 24\n",
      "19: started with 1 elves 0 remain\n",
      "no more enemies in round 25\n",
      "20: started with 1 elves 0 remain\n",
      "no more enemies in round 25\n",
      "21: started with 1 elves 0 remain\n",
      "no more enemies in round 25\n",
      "22: started with 1 elves 0 remain\n",
      "no more enemies in round 25\n",
      "23: started with 1 elves 0 remain\n",
      "no more enemies in round 25\n",
      "24: started with 1 elves 0 remain\n",
      "no more enemies in round 28\n",
      "25: started with 1 elves 0 remain\n",
      "no more enemies in round 28\n",
      "26: started with 1 elves 0 remain\n",
      "no more enemies in round 28\n",
      "27: started with 1 elves 0 remain\n",
      "no more enemies in round 28\n",
      "28: started with 1 elves 0 remain\n",
      "no more enemies in round 33\n",
      "29: started with 1 elves 0 remain\n",
      "no more enemies in round 33\n",
      "30: started with 1 elves 0 remain\n",
      "no more enemies in round 33\n",
      "31: started with 1 elves 0 remain\n",
      "no more enemies in round 33\n",
      "32: started with 1 elves 0 remain\n",
      "no more enemies in round 33\n",
      "33: started with 1 elves 0 remain\n",
      "no more enemies in round 30\n",
      "34: started with 1 elves 1 remain\n",
      "no more enemies in round 30\n",
      "35: started with 1 elves 1 remain\n",
      "no more enemies in round 30\n",
      "36: started with 1 elves 1 remain\n",
      "no more enemies in round 30\n",
      "37: started with 1 elves 1 remain\n",
      "no more enemies in round 30\n",
      "38: started with 1 elves 1 remain\n",
      "no more enemies in round 30\n",
      "39: started with 1 elves 1 remain\n"
     ]
    }
   ],
   "source": [
    "for i in range(4,40):\n",
    "    board_dim, board,  walls, goblins, elves = parse_input(small_board_f)\n",
    "    goblins = [Warrior('G', g, 200, 3) for g in goblins]\n",
    "    elves = [Warrior('E', e, 200, i) for e in elves]\n",
    "    num_elves = len(elves)\n",
    "    warriors = elves + goblins\n",
    "    outcome, board, warriors, turns = play_game(board, warriors, verbose = 0)\n",
    "    print(\"{}: started with {} elves {} remain\".format(i, num_elves, len([w for w in warriors if w.type_ ==\"E\"])))"
   ]
  },
  {
   "cell_type": "code",
   "execution_count": null,
   "metadata": {
    "collapsed": true
   },
   "outputs": [],
   "source": []
  }
 ],
 "metadata": {
  "hide_input": false,
  "kernelspec": {
   "display_name": "Python 3",
   "language": "python",
   "name": "python3"
  },
  "language_info": {
   "codemirror_mode": {
    "name": "ipython",
    "version": 3
   },
   "file_extension": ".py",
   "mimetype": "text/x-python",
   "name": "python",
   "nbconvert_exporter": "python",
   "pygments_lexer": "ipython3",
   "version": "3.6.3"
  },
  "toc": {
   "toc_cell": false,
   "toc_number_sections": true,
   "toc_threshold": 4,
   "toc_window_display": false
  }
 },
 "nbformat": 4,
 "nbformat_minor": 2
}
