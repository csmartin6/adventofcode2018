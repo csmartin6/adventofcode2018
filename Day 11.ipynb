{
 "cells": [
  {
   "cell_type": "code",
   "execution_count": 11,
   "metadata": {},
   "outputs": [],
   "source": [
    "import numpy as np\n",
    "import requests\n"
   ]
  },
  {
   "cell_type": "markdown",
   "metadata": {},
   "source": [
    "# Get Input"
   ]
  },
  {
   "cell_type": "code",
   "execution_count": 12,
   "metadata": {
    "collapsed": true
   },
   "outputs": [],
   "source": [
    "puzzle_input = 6042"
   ]
  },
  {
   "cell_type": "markdown",
   "metadata": {},
   "source": [
    "# Part 1"
   ]
  },
  {
   "cell_type": "code",
   "execution_count": 123,
   "metadata": {},
   "outputs": [],
   "source": [
    "grid_x, grid_y = 300, 300\n",
    "power_grid = np.zeros((grid_x,grid_y))\n",
    "serial_number = 18 #puzzle_input "
   ]
  },
  {
   "cell_type": "code",
   "execution_count": 124,
   "metadata": {},
   "outputs": [],
   "source": [
    "for i in range(grid_y):\n",
    "    for j in range(grid_x):\n",
    "        rack_id = j + 1 + 10\n",
    "        power_level = rack_id * (i+1)\n",
    "        power_level += serial_number\n",
    "        power_level *= rack_id\n",
    "        hundreds_digit = int(str(power_level)[-3]) if len(str(power_level))>=3 else 0\n",
    "        power_grid[i][j] = hundreds_digit - 5\n",
    "        \n",
    "    \n",
    "    "
   ]
  },
  {
   "cell_type": "code",
   "execution_count": 125,
   "metadata": {},
   "outputs": [],
   "source": [
    "power_grid_3x3 = np.zeros((grid_x, grid_y))\n",
    "power_grid_3x3[:-1,:-1] += power_grid[1:,1:]\n",
    "power_grid_3x3[:-1,:] += power_grid[1:,:]\n",
    "power_grid_3x3[:-1,1:] += power_grid[1:,:-1]\n",
    "power_grid_3x3[:,:-1] += power_grid[:,1:]\n",
    "power_grid_3x3[:,:] += power_grid[:,:]\n",
    "power_grid_3x3[:,1:] += power_grid[:,:-1]\n",
    "power_grid_3x3[1:,:-1] += power_grid[:-1,1:]\n",
    "power_grid_3x3[1:,:] += power_grid[:-1,:]\n",
    "power_grid_3x3[1:,1:] += power_grid[:-1,:-1]"
   ]
  },
  {
   "cell_type": "code",
   "execution_count": 126,
   "metadata": {},
   "outputs": [
    {
     "data": {
      "text/plain": [
       "array([[-2., -2., -1., ...,  2., -1., -5.],\n",
       "       [-1.,  0.,  0., ..., -5., -3.,  0.],\n",
       "       [ 0.,  1.,  2., ..., -3., -4., -5.],\n",
       "       ...,\n",
       "       [-4.,  4., -1., ..., -1., -4., -1.],\n",
       "       [-3., -4.,  0., ...,  2., -5.,  4.],\n",
       "       [-2., -3.,  2., ...,  4.,  3., -2.]])"
      ]
     },
     "execution_count": 126,
     "metadata": {},
     "output_type": "execute_result"
    }
   ],
   "source": [
    "power_grid[:-1,:-1]"
   ]
  },
  {
   "cell_type": "code",
   "execution_count": 127,
   "metadata": {},
   "outputs": [
    {
     "data": {
      "text/plain": [
       "array([[ -5.,  -6.,  -3., ..., -12.,  -6.,  -2.],\n",
       "       [ -4.,  -3.,   3., ..., -24., -12.,  -4.],\n",
       "       [  3.,   9.,   8., ..., -26.,  -9.,   3.],\n",
       "       ...,\n",
       "       [-12., -11.,   1., ...,   0., -11.,  -5.],\n",
       "       [-14.,  -8.,  -3., ...,   8.,   2.,   2.],\n",
       "       [ -7.,  -1.,   0., ...,   7.,   5.,   0.]])"
      ]
     },
     "execution_count": 127,
     "metadata": {},
     "output_type": "execute_result"
    }
   ],
   "source": [
    "power_grid_3x3"
   ]
  },
  {
   "cell_type": "code",
   "execution_count": 128,
   "metadata": {},
   "outputs": [
    {
     "data": {
      "text/plain": [
       "(33, 45)"
      ]
     },
     "execution_count": 128,
     "metadata": {},
     "output_type": "execute_result"
    }
   ],
   "source": [
    "(y,x) = np.unravel_index(np.argmax(power_grid_3x3, axis=None), power_grid_3x3.shape)\n",
    "x,y"
   ]
  },
  {
   "cell_type": "markdown",
   "metadata": {},
   "source": [
    "# Part 2"
   ]
  },
  {
   "cell_type": "code",
   "execution_count": 173,
   "metadata": {
    "collapsed": true
   },
   "outputs": [],
   "source": [
    "grid_x, grid_y = 300, 300\n",
    "power_grid = np.zeros((grid_x,grid_y))\n",
    "serial_number = puzzle_input "
   ]
  },
  {
   "cell_type": "code",
   "execution_count": 174,
   "metadata": {
    "collapsed": true
   },
   "outputs": [],
   "source": [
    "for i in range(grid_y):\n",
    "    for j in range(grid_x):\n",
    "        rack_id = j + 1 + 10\n",
    "        power_level = rack_id * (i+1)\n",
    "        power_level += serial_number\n",
    "        power_level *= rack_id\n",
    "        hundreds_digit = int(str(power_level)[-3]) if len(str(power_level))>=3 else 0\n",
    "        power_grid[i][j] = hundreds_digit - 5\n",
    "           "
   ]
  },
  {
   "cell_type": "code",
   "execution_count": 175,
   "metadata": {},
   "outputs": [
    {
     "name": "stdout",
     "output_type": "stream",
     "text": [
      "new max: 0.0 at (1, 1, 1)\n",
      "new max: 5.0 at (1, 1, 2)\n",
      "new max: 12.0 at (1, 1, 3)\n",
      "new max: 14.0 at (1, 35, 3)\n",
      "new max: 15.0 at (1, 35, 4)\n",
      "new max: 17.0 at (1, 36, 3)\n",
      "new max: 18.0 at (1, 43, 3)\n",
      "new max: 21.0 at (11, 57, 12)\n",
      "new max: 35.0 at (11, 265, 12)\n",
      "new max: 40.0 at (12, 265, 12)\n",
      "new max: 45.0 at (12, 266, 11)\n",
      "new max: 50.0 at (13, 265, 11)\n",
      "new max: 53.0 at (13, 265, 12)\n",
      "new max: 55.0 at (13, 266, 10)\n",
      "new max: 60.0 at (13, 266, 11)\n",
      "new max: 64.0 at (95, 212, 11)\n",
      "new max: 65.0 at (165, 25, 11)\n",
      "new max: 69.0 at (165, 25, 13)\n",
      "new max: 70.0 at (228, 249, 16)\n",
      "new max: 78.0 at (229, 249, 15)\n",
      "new max: 80.0 at (229, 250, 15)\n",
      "new max: 92.0 at (230, 249, 14)\n",
      "new max: 93.0 at (230, 251, 14)\n",
      "new max: 98.0 at (231, 249, 13)\n",
      "new max: 104.0 at (231, 249, 14)\n",
      "new max: 106.0 at (231, 250, 13)\n",
      "new max: 107.0 at (232, 249, 12)\n",
      "new max: 114.0 at (232, 250, 13)\n",
      "new max: 119.0 at (232, 251, 12)\n"
     ]
    }
   ],
   "source": [
    "max_id = None\n",
    "max_value = np.NINF\n",
    "\n",
    "for j in range(grid_x):\n",
    "    for i in range(grid_y):\n",
    "        max_k = min(grid_y-i, grid_x-j)\n",
    "        power = 0  #power_grid[i,j]\n",
    "        for k in range(max_k):\n",
    "            power+=sum(power_grid[i:(i+k+1),j+k])\n",
    "            power+=sum(power_grid[i+k,j:(j+k+1)])\n",
    "            power-= power_grid[i+k,j+k]\n",
    "            if power > max_value:\n",
    "                max_id = (j+1,i+1,k+1)\n",
    "                max_value = power\n",
    "                print(\"new max: {} at {}\".format(max_value, max_id))"
   ]
  },
  {
   "cell_type": "code",
   "execution_count": 176,
   "metadata": {
    "collapsed": true
   },
   "outputs": [],
   "source": [
    "# Binary 2d Sum\n",
    "# compute sum of squares of size (1,2,4,8,16, etc. starting i,j for each i,j)\n",
    "# then can compute a sum "
   ]
  },
  {
   "cell_type": "code",
   "execution_count": 178,
   "metadata": {},
   "outputs": [
    {
     "data": {
      "text/plain": [
       "array([[-5.],\n",
       "       [ 3.]])"
      ]
     },
     "execution_count": 178,
     "metadata": {},
     "output_type": "execute_result"
    }
   ],
   "source": [
    "power_grid[10:20:5,1:2]"
   ]
  },
  {
   "cell_type": "code",
   "execution_count": 230,
   "metadata": {
    "collapsed": true
   },
   "outputs": [],
   "source": [
    "binary_sums = {}\n",
    "binary_sums[1] = power_grid\n",
    "prev_binary_sum = power_grid\n",
    "for i in range(0,8):\n",
    "    k = 2**i\n",
    "    curr_binary_sum = np.zeros((grid_y, grid_x))\n",
    "    \n",
    "    for i in range(grid_y-2*k):\n",
    "        for j in range(grid_x-2*k):\n",
    "            curr_binary_sum[i,j] = prev_binary_sum[i,j]\n",
    "            \n",
    "            curr_binary_sum[i,j] += sum(prev_binary_sum[i:(i+k+1):k, j+k])\n",
    "            curr_binary_sum[i,j] += sum(prev_binary_sum[i+k, j:(j+k+1):k])\n",
    "            curr_binary_sum[i,j] -= prev_binary_sum[i+k,j+k]\n",
    "    \n",
    "    binary_sums[2*k] = copy.copy(curr_binary_sum)\n",
    "    prev_binary_sum = curr_binary_sum\n",
    "    \n",
    "\n",
    "    \n",
    "    \n",
    "\n",
    "\n"
   ]
  },
  {
   "cell_type": "code",
   "execution_count": 231,
   "metadata": {},
   "outputs": [
    {
     "data": {
      "text/plain": [
       "array([[ 0.,  1.,  2.,  2.,  3.],\n",
       "       [ 2.,  2.,  3.,  4., -5.],\n",
       "       [ 3.,  4., -5., -4., -2.],\n",
       "       [ 4., -5., -3., -2.,  0.],\n",
       "       [-5., -3., -2.,  0.,  2.]])"
      ]
     },
     "execution_count": 231,
     "metadata": {},
     "output_type": "execute_result"
    }
   ],
   "source": [
    "power_grid[0:5,0:5]"
   ]
  },
  {
   "cell_type": "code",
   "execution_count": 234,
   "metadata": {},
   "outputs": [
    {
     "data": {
      "text/plain": [
       "array([[-8887., -8892., -8889., -8897., -8948., -8890., -8897.],\n",
       "       [-8964., -8960., -8961., -8976., -9026., -8969., -8979.],\n",
       "       [-8997., -8984., -8979., -9001., -9039., -8974., -8987.],\n",
       "       [-9033., -9021., -9011., -9039., -9087., -9023., -9040.],\n",
       "       [-8946., -8946., -8940., -8965., -9012., -8959., -8980.],\n",
       "       [-8947., -8949., -8947., -8968., -9024., -8972., -8997.],\n",
       "       [-8979., -8983., -8976., -8994., -9049., -8989., -9008.]])"
      ]
     },
     "execution_count": 234,
     "metadata": {},
     "output_type": "execute_result"
    }
   ],
   "source": [
    "binary_sums[128][25:32,25:32]"
   ]
  },
  {
   "cell_type": "code",
   "execution_count": null,
   "metadata": {
    "collapsed": true
   },
   "outputs": [],
   "source": []
  },
  {
   "cell_type": "code",
   "execution_count": 241,
   "metadata": {},
   "outputs": [
    {
     "data": {
      "text/plain": [
       "-8897.0"
      ]
     },
     "execution_count": 241,
     "metadata": {},
     "output_type": "execute_result"
    }
   ],
   "source": [
    "s = 128\n",
    "i,j= 25,31\n",
    "np.sum(power_grid[i:(i+s),j:(j+s)])"
   ]
  },
  {
   "cell_type": "code",
   "execution_count": 225,
   "metadata": {},
   "outputs": [
    {
     "data": {
      "text/plain": [
       "-7.0"
      ]
     },
     "execution_count": 225,
     "metadata": {},
     "output_type": "execute_result"
    }
   ],
   "source": [
    "def sum_square(grid, i,j,k):\n",
    "    bk = int(np.log2(k))\n",
    "    rem = \n",
    "    \n",
    "    "
   ]
  },
  {
   "cell_type": "code",
   "execution_count": 243,
   "metadata": {},
   "outputs": [
    {
     "data": {
      "text/plain": [
       "5"
      ]
     },
     "execution_count": 243,
     "metadata": {},
     "output_type": "execute_result"
    }
   ],
   "source": [
    "int(np.log2(54))"
   ]
  },
  {
   "cell_type": "code",
   "execution_count": null,
   "metadata": {
    "collapsed": true
   },
   "outputs": [],
   "source": []
  }
 ],
 "metadata": {
  "hide_input": false,
  "kernelspec": {
   "display_name": "Python 3",
   "language": "python",
   "name": "python3"
  },
  "language_info": {
   "codemirror_mode": {
    "name": "ipython",
    "version": 3
   },
   "file_extension": ".py",
   "mimetype": "text/x-python",
   "name": "python",
   "nbconvert_exporter": "python",
   "pygments_lexer": "ipython3",
   "version": "3.6.3"
  },
  "toc": {
   "toc_cell": false,
   "toc_number_sections": true,
   "toc_threshold": 4,
   "toc_window_display": false
  }
 },
 "nbformat": 4,
 "nbformat_minor": 2
}
