{
 "cells": [
  {
   "cell_type": "code",
   "execution_count": 1,
   "metadata": {},
   "outputs": [],
   "source": [
    "import os\n",
    "import numpy as np\n",
    "import requests\n",
    "import re\n",
    "import copy\n",
    "import networkx as nx"
   ]
  },
  {
   "cell_type": "markdown",
   "metadata": {},
   "source": [
    "# Get Input"
   ]
  },
  {
   "cell_type": "code",
   "execution_count": 2,
   "metadata": {},
   "outputs": [],
   "source": [
    "sessionId = os.environ[\"ADVENT_OF_CODE_SESSION_ID\"]"
   ]
  },
  {
   "cell_type": "code",
   "execution_count": 3,
   "metadata": {},
   "outputs": [
    {
     "name": "stderr",
     "output_type": "stream",
     "text": [
      "/Users/cmartin/anaconda3/lib/python3.7/site-packages/urllib3/connectionpool.py:857: InsecureRequestWarning: Unverified HTTPS request is being made. Adding certificate verification is strongly advised. See: https://urllib3.readthedocs.io/en/latest/advanced-usage.html#ssl-warnings\n",
      "  InsecureRequestWarning)\n"
     ]
    }
   ],
   "source": [
    "r = requests.get(\"https://adventofcode.com/2018/day/16/input\", cookies={\"session\": sessionId}, verify=False)"
   ]
  },
  {
   "cell_type": "code",
   "execution_count": 4,
   "metadata": {},
   "outputs": [],
   "source": [
    "input = r.content"
   ]
  },
  {
   "cell_type": "code",
   "execution_count": 28,
   "metadata": {},
   "outputs": [],
   "source": [
    "lines = [line.decode('utf-8') for line in input.splitlines()]"
   ]
  },
  {
   "cell_type": "code",
   "execution_count": 29,
   "metadata": {},
   "outputs": [],
   "source": [
    "a = \"[3,5]\""
   ]
  },
  {
   "cell_type": "code",
   "execution_count": 30,
   "metadata": {},
   "outputs": [
    {
     "data": {
      "text/plain": [
       "['[', '3', ',', '5', ']']"
      ]
     },
     "execution_count": 30,
     "metadata": {},
     "output_type": "execute_result"
    }
   ],
   "source": [
    "list(a)"
   ]
  },
  {
   "cell_type": "code",
   "execution_count": 32,
   "metadata": {},
   "outputs": [
    {
     "data": {
      "text/plain": [
       "'Before: [1, 1, 2, 0]'"
      ]
     },
     "execution_count": 32,
     "metadata": {},
     "output_type": "execute_result"
    }
   ],
   "source": [
    "lines[0]"
   ]
  },
  {
   "cell_type": "code",
   "execution_count": 33,
   "metadata": {},
   "outputs": [
    {
     "data": {
      "text/plain": [
       "[1, 1, 2, 0]"
      ]
     },
     "execution_count": 33,
     "metadata": {},
     "output_type": "execute_result"
    }
   ],
   "source": [
    "[int(n) for n in lines[0][9:-1].split(',')]"
   ]
  },
  {
   "cell_type": "code",
   "execution_count": 44,
   "metadata": {},
   "outputs": [],
   "source": [
    "ops = []\n",
    "for i in range(0, len(lines), 4):\n",
    "    if 'Before' not in lines[i]:\n",
    "        break\n",
    "    op = {'before': [int(n) for n in lines[i][9:-1].split(',')],\n",
    "          'op': [int(n) for n in lines[i+1].split(' ')],\n",
    "          'after': [int(n) for n in lines[i+2][9:-1].split(',')]}\n",
    "    ops.append(op)\n",
    "    "
   ]
  },
  {
   "cell_type": "code",
   "execution_count": 45,
   "metadata": {},
   "outputs": [
    {
     "data": {
      "text/plain": [
       "{'before': [1, 1, 2, 0], 'op': [8, 1, 0, 3], 'after': [1, 1, 2, 1]}"
      ]
     },
     "execution_count": 45,
     "metadata": {},
     "output_type": "execute_result"
    }
   ],
   "source": [
    "ops[0]"
   ]
  },
  {
   "cell_type": "markdown",
   "metadata": {},
   "source": [
    "# Setup"
   ]
  },
  {
   "cell_type": "code",
   "execution_count": 48,
   "metadata": {},
   "outputs": [],
   "source": [
    "def addr(registers_in, A, B, C):\n",
    "    registers = copy.copy(registers_in)\n",
    "    registers[C] = registers[A] + registers[B]\n",
    "    return registers\n",
    "                          \n",
    "def addi(registers_in, A, B, C):\n",
    "    registers = copy.copy(registers_in)\n",
    "    registers[C] = registers[A] + B\n",
    "    return registers\n",
    "\n",
    "def mulr(registers_in, A, B, C):\n",
    "    registers = copy.copy(registers_in)\n",
    "    registers[C] = registers[A] * registers[B]\n",
    "    return registers\n",
    "\n",
    "def muli(registers_in, A, B, C):\n",
    "    registers = copy.copy(registers_in)\n",
    "    registers[C] = registers[A] * B\n",
    "    return registers\n",
    "\n",
    "def banr(registers_in, A, B, C):\n",
    "    registers = copy.copy(registers_in)\n",
    "    registers[C] = registers[A] & registers[B]\n",
    "    return registers\n",
    "\n",
    "def bani(registers_in, A, B, C):\n",
    "    registers = copy.copy(registers_in)\n",
    "    registers[C] = registers[A] & B\n",
    "    return registers\n",
    "\n",
    "def borr(registers_in, A, B, C):\n",
    "    registers = copy.copy(registers_in)\n",
    "    registers[C] = registers[A] | registers[B]\n",
    "    return registers\n",
    "\n",
    "def bori(registers_in, A, B, C):\n",
    "    registers = copy.copy(registers_in)\n",
    "    registers[C] = registers[A] | B\n",
    "    return registers\n",
    "\n",
    "def setr(registers_in, A, B, C):\n",
    "    registers = copy.copy(registers_in)\n",
    "    registers[C] = registers[A]\n",
    "    return registers\n",
    "\n",
    "def seti(registers_in, A, B, C):\n",
    "    registers = copy.copy(registers_in)\n",
    "    registers[C] = A\n",
    "    return registers\n",
    "\n",
    "def gtir(registers_in, A, B, C):\n",
    "    registers = copy.copy(registers_in)\n",
    "    registers[C] = 1 if A > registers[B] else 0\n",
    "    return registers\n",
    "\n",
    "def gtri(registers_in, A, B, C):\n",
    "    registers = copy.copy(registers_in)\n",
    "    registers[C] = 1 if registers[A] > B else 0\n",
    "    return registers\n",
    "\n",
    "def gtrr(registers_in, A, B, C):\n",
    "    registers = copy.copy(registers_in)\n",
    "    registers[C] = 1 if registers[A] > registers[B] else 0\n",
    "    return registers\n",
    "\n",
    "def eqir(registers_in, A, B, C):\n",
    "    registers = copy.copy(registers_in)\n",
    "    registers[C] = 1 if A ==registers[B] else 0\n",
    "    return registers\n",
    "\n",
    "def eqri(registers_in, A, B, C):\n",
    "    registers = copy.copy(registers_in)\n",
    "    registers[C] = 1 if registers[A] == B else 0\n",
    "    return registers\n",
    "\n",
    "def eqrr(registers_in, A, B, C):\n",
    "    registers = copy.copy(registers_in)\n",
    "    registers[C] = 1 if registers[A] == registers[B] else 0\n",
    "    return registers\n",
    "\n",
    "instructions = [addr,\n",
    "                 addi,\n",
    "                 mulr, \n",
    "                 muli,\n",
    "                 banr, \n",
    "                 bani, \n",
    "                 borr, \n",
    "                 bori, \n",
    "                 setr, \n",
    "                 seti, \n",
    "                 gtir, \n",
    "                 gtri, \n",
    "                 gtrr, \n",
    "                 eqir, \n",
    "                 eqri, \n",
    "                 eqrr]"
   ]
  },
  {
   "cell_type": "markdown",
   "metadata": {},
   "source": [
    "# Test Case"
   ]
  },
  {
   "cell_type": "code",
   "execution_count": 68,
   "metadata": {
    "code_folding": [
     0
    ]
   },
   "outputs": [],
   "source": [
    "op = {'before': [3, 2, 1, 1],\n",
    "     'op': [9,2,1,2],\n",
    "     'after': [3, 2, 2, 1]}"
   ]
  },
  {
   "cell_type": "code",
   "execution_count": 70,
   "metadata": {},
   "outputs": [
    {
     "name": "stdout",
     "output_type": "stream",
     "text": [
      "addi\n",
      "mulr\n",
      "seti\n"
     ]
    },
    {
     "data": {
      "text/plain": [
       "3"
      ]
     },
     "execution_count": 70,
     "metadata": {},
     "output_type": "execute_result"
    }
   ],
   "source": [
    "count = 0\n",
    "before = op['before']\n",
    "after = op['after']\n",
    "A, B, C = op['op'][1:4]\n",
    "for f in instructions:\n",
    "    try:\n",
    "        result = f(before, A,B,C)\n",
    "        if result == after:\n",
    "            print(f.__name__)\n",
    "            count+=1\n",
    "    except:\n",
    "        continue\n",
    "count       "
   ]
  },
  {
   "cell_type": "code",
   "execution_count": null,
   "metadata": {},
   "outputs": [],
   "source": []
  },
  {
   "cell_type": "code",
   "execution_count": null,
   "metadata": {},
   "outputs": [],
   "source": []
  },
  {
   "cell_type": "markdown",
   "metadata": {},
   "source": [
    "# Part 1"
   ]
  },
  {
   "cell_type": "code",
   "execution_count": 73,
   "metadata": {},
   "outputs": [
    {
     "data": {
      "text/plain": [
       "614"
      ]
     },
     "execution_count": 73,
     "metadata": {},
     "output_type": "execute_result"
    }
   ],
   "source": [
    "three_poss = 0\n",
    "\n",
    "for op in ops:\n",
    "    count = 0\n",
    "    before = op['before']\n",
    "    after = op['after']\n",
    "    A, B, C = op['op'][1:4]\n",
    "    for f in instructions:\n",
    "        try:\n",
    "            result = f(before, A,B,C)\n",
    "            if result == after:\n",
    "                count+=1\n",
    "        except:\n",
    "            continue\n",
    "    if count >= 3:\n",
    "        three_poss+=1\n",
    "three_poss\n"
   ]
  },
  {
   "cell_type": "markdown",
   "metadata": {
    "collapsed": true
   },
   "source": [
    "# Part 2"
   ]
  },
  {
   "cell_type": "code",
   "execution_count": 81,
   "metadata": {},
   "outputs": [],
   "source": [
    "from collections import Counter"
   ]
  },
  {
   "cell_type": "code",
   "execution_count": 82,
   "metadata": {},
   "outputs": [
    {
     "data": {
      "text/plain": [
       "Counter({8: 48,\n",
       "         5: 58,\n",
       "         7: 52,\n",
       "         2: 47,\n",
       "         3: 48,\n",
       "         9: 57,\n",
       "         1: 46,\n",
       "         14: 59,\n",
       "         4: 44,\n",
       "         12: 43,\n",
       "         13: 56,\n",
       "         11: 43,\n",
       "         15: 55,\n",
       "         0: 48,\n",
       "         10: 48,\n",
       "         6: 57})"
      ]
     },
     "execution_count": 82,
     "metadata": {},
     "output_type": "execute_result"
    }
   ],
   "source": [
    "Counter([a['op'][0] for a in ops])"
   ]
  },
  {
   "cell_type": "code",
   "execution_count": 85,
   "metadata": {},
   "outputs": [
    {
     "data": {
      "text/plain": [
       "809"
      ]
     },
     "execution_count": 85,
     "metadata": {},
     "output_type": "execute_result"
    }
   ],
   "source": [
    "len(ops)"
   ]
  },
  {
   "cell_type": "code",
   "execution_count": 113,
   "metadata": {},
   "outputs": [],
   "source": [
    "poss_instructions = {i: set(instructions) for i in range(16)}\n",
    "\n",
    "for op in ops:\n",
    "    before = op['before']\n",
    "    after = op['after']\n",
    "    opcode, A, B, C = op['op']\n",
    "    to_remove = set()\n",
    "    for f in poss_instructions[opcode]:\n",
    "        try:\n",
    "            result = f(before, A,B,C)\n",
    "            if result != after:\n",
    "                to_remove.add(f)\n",
    "        except:\n",
    "            continue\n",
    "    for f in to_remove:\n",
    "        poss_instructions[opcode].remove(f)\n"
   ]
  },
  {
   "cell_type": "code",
   "execution_count": 114,
   "metadata": {},
   "outputs": [],
   "source": [
    "known_opcodes = {}\n",
    "while poss_instructions:\n",
    "    single = min(poss_instructions.keys(), key=lambda k: len(poss_instructions[k]))\n",
    "    if len( poss_instructions[single]) > 1:\n",
    "        break\n",
    "    op = poss_instructions[single].pop()\n",
    "    poss_instructions.pop(single)\n",
    "    \n",
    "    known_opcodes[single] = op\n",
    "    \n",
    "    for k, v in poss_instructions.items():\n",
    "        if op in v:\n",
    "            v.remove(op)\n",
    "    \n",
    "    "
   ]
  },
  {
   "cell_type": "code",
   "execution_count": 115,
   "metadata": {},
   "outputs": [
    {
     "data": {
      "text/plain": [
       "{10: <function __main__.eqrr(registers_in, A, B, C)>,\n",
       " 9: <function __main__.eqri(registers_in, A, B, C)>,\n",
       " 0: <function __main__.eqir(registers_in, A, B, C)>,\n",
       " 3: <function __main__.gtri(registers_in, A, B, C)>,\n",
       " 13: <function __main__.gtrr(registers_in, A, B, C)>,\n",
       " 5: <function __main__.gtir(registers_in, A, B, C)>,\n",
       " 7: <function __main__.banr(registers_in, A, B, C)>,\n",
       " 11: <function __main__.bani(registers_in, A, B, C)>,\n",
       " 12: <function __main__.setr(registers_in, A, B, C)>,\n",
       " 15: <function __main__.seti(registers_in, A, B, C)>,\n",
       " 2: <function __main__.addr(registers_in, A, B, C)>,\n",
       " 6: <function __main__.mulr(registers_in, A, B, C)>,\n",
       " 1: <function __main__.borr(registers_in, A, B, C)>,\n",
       " 14: <function __main__.addi(registers_in, A, B, C)>,\n",
       " 8: <function __main__.bori(registers_in, A, B, C)>,\n",
       " 4: <function __main__.muli(registers_in, A, B, C)>}"
      ]
     },
     "execution_count": 115,
     "metadata": {},
     "output_type": "execute_result"
    }
   ],
   "source": [
    "known_opcodes"
   ]
  },
  {
   "cell_type": "code",
   "execution_count": 122,
   "metadata": {},
   "outputs": [
    {
     "data": {
      "text/plain": [
       "1023"
      ]
     },
     "execution_count": 122,
     "metadata": {},
     "output_type": "execute_result"
    }
   ],
   "source": [
    "list(reversed(lines)).index('')"
   ]
  },
  {
   "cell_type": "code",
   "execution_count": 126,
   "metadata": {},
   "outputs": [],
   "source": [
    "operations = []\n",
    "for line in lines[-1023:]:\n",
    "    operations.append([int(n) for n in line.split(' ')])"
   ]
  },
  {
   "cell_type": "code",
   "execution_count": 128,
   "metadata": {},
   "outputs": [],
   "source": [
    "register = [0, 0, 0, 0]\n",
    "for op in operations:\n",
    "    opcode, A ,B, C = op\n",
    "    \n",
    "    register = known_opcodes[opcode](register, A, B, C)"
   ]
  },
  {
   "cell_type": "code",
   "execution_count": 129,
   "metadata": {},
   "outputs": [
    {
     "data": {
      "text/plain": [
       "[656, 656, 2, 4]"
      ]
     },
     "execution_count": 129,
     "metadata": {},
     "output_type": "execute_result"
    }
   ],
   "source": [
    "register"
   ]
  },
  {
   "cell_type": "code",
   "execution_count": null,
   "metadata": {},
   "outputs": [],
   "source": []
  }
 ],
 "metadata": {
  "hide_input": false,
  "kernelspec": {
   "display_name": "Python 3",
   "language": "python",
   "name": "python3"
  },
  "language_info": {
   "codemirror_mode": {
    "name": "ipython",
    "version": 3
   },
   "file_extension": ".py",
   "mimetype": "text/x-python",
   "name": "python",
   "nbconvert_exporter": "python",
   "pygments_lexer": "ipython3",
   "version": "3.7.0"
  },
  "toc": {
   "toc_cell": false,
   "toc_number_sections": true,
   "toc_threshold": 4,
   "toc_window_display": false
  }
 },
 "nbformat": 4,
 "nbformat_minor": 2
}
