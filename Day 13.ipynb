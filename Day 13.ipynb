{
 "cells": [
  {
   "cell_type": "code",
   "execution_count": 1,
   "metadata": {},
   "outputs": [],
   "source": [
    "import os\n",
    "import numpy as np\n",
    "import requests\n",
    "import re\n",
    "import copy\n"
   ]
  },
  {
   "cell_type": "markdown",
   "metadata": {},
   "source": [
    "# Get Input"
   ]
  },
  {
   "cell_type": "code",
   "execution_count": 2,
   "metadata": {
    "collapsed": true
   },
   "outputs": [],
   "source": [
    "sessionId = \"os.environ[\"ADVENT_OF_CODE_SESSION_ID\"]\""
   ]
  },
  {
   "cell_type": "code",
   "execution_count": 3,
   "metadata": {
    "collapsed": true
   },
   "outputs": [],
   "source": [
    "r = requests.get(\"https://adventofcode.com/2018/day/13/input\", cookies={\"session\": sessionId})"
   ]
  },
  {
   "cell_type": "code",
   "execution_count": 4,
   "metadata": {
    "collapsed": true
   },
   "outputs": [],
   "source": [
    "input = r.content"
   ]
  },
  {
   "cell_type": "code",
   "execution_count": 5,
   "metadata": {
    "collapsed": true
   },
   "outputs": [],
   "source": [
    "track_and_cars = [line.decode('utf-8') for line in r.content.splitlines()]"
   ]
  },
  {
   "cell_type": "code",
   "execution_count": 6,
   "metadata": {
    "code_folding": [],
    "collapsed": true
   },
   "outputs": [],
   "source": [
    "test_input = \"\"\"/->-\\        \n",
    "|   |  /----\\\\\n",
    "| /-+--+-\\  |\n",
    "| | |  | v  |\n",
    "\\-+-/  \\-+--/\n",
    "  \\------/   \"\"\""
   ]
  },
  {
   "cell_type": "code",
   "execution_count": 7,
   "metadata": {
    "collapsed": true
   },
   "outputs": [],
   "source": [
    "test_track_and_cars = [line for line in test_input.splitlines()]"
   ]
  },
  {
   "cell_type": "code",
   "execution_count": 8,
   "metadata": {
    "collapsed": true
   },
   "outputs": [],
   "source": [
    "def find_cars(track):\n",
    "    cars = set()\n",
    "    for i, line in enumerate(track):\n",
    "        for j, elem in enumerate(line):\n",
    "            if elem in [\"<\", \">\", \"^\", \"v\"]:\n",
    "                cars.add((i,j, elem, 0))\n",
    "    return cars\n"
   ]
  },
  {
   "cell_type": "code",
   "execution_count": 9,
   "metadata": {
    "collapsed": true
   },
   "outputs": [],
   "source": [
    "def parse_track(track_and_cars):\n",
    "    cars = find_cars(track_and_cars)\n",
    "    track = copy.copy(track_and_cars)\n",
    "    \n",
    "    for car in cars:\n",
    "        replace_track = \".\"\n",
    "        line = track[car[0]]\n",
    "        if car[2] in [\">\", \"<\"]:\n",
    "            new_line = line[:(car[1])] + \"-\" + line[(car[1]+1):]\n",
    "        elif car[2] in [\"^\", \"v\"]:\n",
    "            new_line = line[:(car[1])] + \"|\" + line[(car[1]+1):]\n",
    "        track[car[0]] = new_line   \n",
    "    return track, cars\n",
    "    \n",
    "    "
   ]
  },
  {
   "cell_type": "code",
   "execution_count": 10,
   "metadata": {
    "collapsed": true
   },
   "outputs": [],
   "source": [
    "test_track, test_cars = parse_track(test_track_and_cars)"
   ]
  },
  {
   "cell_type": "code",
   "execution_count": 11,
   "metadata": {},
   "outputs": [
    {
     "data": {
      "text/plain": [
       "{(0, 2, '>', 0), (3, 9, 'v', 0)}"
      ]
     },
     "execution_count": 11,
     "metadata": {},
     "output_type": "execute_result"
    }
   ],
   "source": [
    "test_cars"
   ]
  },
  {
   "cell_type": "code",
   "execution_count": 12,
   "metadata": {
    "collapsed": true
   },
   "outputs": [],
   "source": [
    "def print_track(track, cars=None, domain =None):\n",
    "    track_plus_cars = copy.copy(track)\n",
    "    if cars is None:\n",
    "        cars = []\n",
    "    for car in cars:\n",
    "        line = track_plus_cars[car[0]]\n",
    "        new_line = line[:(car[1])] + car[2] + line[(car[1]+1):]\n",
    "        track_plus_cars[car[0]] = new_line\n",
    "    if domain is not None :\n",
    "        for line in track_plus_cars[domain[0]:domain[1]]:\n",
    "            print(line[domain[2]:domain[3]])\n",
    "    else:\n",
    "        for line in track_plus_cars:\n",
    "            print(line)"
   ]
  },
  {
   "cell_type": "code",
   "execution_count": 14,
   "metadata": {
    "scrolled": true
   },
   "outputs": [
    {
     "name": "stdout",
     "output_type": "stream",
     "text": [
      "/->-\\        \n",
      "|   |  /----\\\n",
      "| /-+--+-\\  |\n",
      "| | |  | v  |\n",
      "\\-+-/  \\-+--/\n",
      "  \\------/   \n"
     ]
    }
   ],
   "source": [
    "print_track(test_track, test_cars)"
   ]
  },
  {
   "cell_type": "markdown",
   "metadata": {},
   "source": [
    "# Part 1"
   ]
  },
  {
   "cell_type": "code",
   "execution_count": null,
   "metadata": {
    "collapsed": true
   },
   "outputs": [],
   "source": [
    "test_track, test_cars = parse_track(test_track_and_cars)"
   ]
  },
  {
   "cell_type": "code",
   "execution_count": 22,
   "metadata": {
    "collapsed": true
   },
   "outputs": [],
   "source": [
    "car_elems = [\"^\", \">\", \"v\", \"<\"]"
   ]
  },
  {
   "cell_type": "code",
   "execution_count": 23,
   "metadata": {
    "collapsed": true
   },
   "outputs": [],
   "source": [
    "# class MineCar:\n",
    "#     def __init__(self, i_pos, j_pos, sprite, )"
   ]
  },
  {
   "cell_type": "code",
   "execution_count": 24,
   "metadata": {
    "collapsed": true
   },
   "outputs": [],
   "source": [
    "def step_forward(track, cars):\n",
    "    #print(\"cars: {}\".format(cars))\n",
    "    new_cars = set()\n",
    "    sorted_cars =  sorted(cars, key = lambda x: (x[0], x[1]))\n",
    "    \n",
    "    for k, car in enumerate(sorted_cars):\n",
    "        i, j , curr_elem, turn = car\n",
    "        if curr_elem == \">\":\n",
    "            new_i, new_j = (car[0], car[1]+1)\n",
    "        elif curr_elem == \"v\":\n",
    "            new_i, new_j = (car[0]+1, car[1])\n",
    "        elif curr_elem == \"<\":\n",
    "            new_i, new_j = (car[0], car[1]-1)\n",
    "        elif curr_elem == \"^\":\n",
    "            new_i, new_j = (car[0]-1, car[1])\n",
    "        else:\n",
    "            print(\"curr_elem: {}\".format(curr_elem))\n",
    "        for car in sorted_cars[(k+1):]:\n",
    "            if (car[0],car[1]) == (new_i, new_j):\n",
    "                print(\"CollisionA@({},{})\".format(new_j, new_i))\n",
    "                return track, cars, (new_i, new_j)\n",
    "        for car in new_cars:\n",
    "            if (car[0],car[1]) == (new_i, new_j):\n",
    "                print(\"CollisionB@({},{})\".format(new_j, new_i))\n",
    "                return track, cars, (new_i, new_j)\n",
    "        \n",
    "        new_car = (new_i, new_j, curr_elem, turn)\n",
    "        new_cars.add(new_car)\n",
    "    #print(\"new_cars: {}\".format(new_cars))\n",
    "        \n",
    "    new_new_cars = set()\n",
    "    for car in new_cars:\n",
    "    #for car in sorted(new_cars):\n",
    "        #print(\"car: {}\".format(car))\n",
    "        track_elem = track[car[0]][car[1]]\n",
    "        #print(\"track_elem: {}\".format(track_elem))\n",
    "        curr_elem = car[2]\n",
    "        new_car_elem = curr_elem\n",
    "        turn = car[3]\n",
    "        if track_elem == \"/\":\n",
    "            if curr_elem == \"^\":\n",
    "                new_car_elem = \">\"\n",
    "            elif curr_elem ==  \"<\":\n",
    "                new_car_elem = \"v\"\n",
    "            elif curr_elem == \"v\":\n",
    "                new_car_elem = \"<\"\n",
    "            elif curr_elem ==  \">\":\n",
    "                new_car_elem = \"^\"\n",
    "        elif track_elem == \"\\\\\":\n",
    "            if curr_elem == \"^\":\n",
    "                new_car_elem = \"<\"\n",
    "            elif curr_elem ==  \">\":\n",
    "                new_car_elem = \"v\"\n",
    "            elif curr_elem == \"v\":\n",
    "                new_car_elem = \">\"\n",
    "            elif curr_elem ==  \"<\":\n",
    "                new_car_elem = \"^\"\n",
    "        elif track_elem == \"+\":\n",
    "            if turn == 0:\n",
    "                curr_elem_ind = car_elems.index(curr_elem)\n",
    "                curr_elem_ind = (curr_elem_ind - 1) % len(car_elems)\n",
    "                new_car_elem = car_elems[curr_elem_ind]\n",
    "            elif turn == 2:\n",
    "                curr_elem_ind = car_elems.index(curr_elem)\n",
    "                curr_elem_ind = (curr_elem_ind + 1) % len(car_elems)\n",
    "                new_car_elem = car_elems[curr_elem_ind]\n",
    "            turn = (turn + 1) % 3\n",
    "            \n",
    "        #car =  (car[0], car[1], new_car_elem , turn)\n",
    "        new_car =  (car[0], car[1], new_car_elem , turn)\n",
    "        new_new_cars.add(new_car)\n",
    "    #print(\"new_new_cars: {}\".format(new_new_cars))\n",
    "    return track, new_new_cars, None\n",
    "    #return track, cars, None\n",
    "    "
   ]
  },
  {
   "cell_type": "code",
   "execution_count": 25,
   "metadata": {},
   "outputs": [
    {
     "data": {
      "text/plain": [
       "{(0, 2, '>', 0), (3, 9, 'v', 0)}"
      ]
     },
     "execution_count": 25,
     "metadata": {},
     "output_type": "execute_result"
    }
   ],
   "source": [
    "test_cars"
   ]
  },
  {
   "cell_type": "code",
   "execution_count": 26,
   "metadata": {},
   "outputs": [
    {
     "data": {
      "text/plain": [
       "'-'"
      ]
     },
     "execution_count": 26,
     "metadata": {},
     "output_type": "execute_result"
    }
   ],
   "source": [
    "test_track[0][2]"
   ]
  },
  {
   "cell_type": "code",
   "execution_count": 27,
   "metadata": {},
   "outputs": [
    {
     "name": "stdout",
     "output_type": "stream",
     "text": [
      "i: 0\n",
      "\n",
      "/->-\\        \n",
      "|   |  /----\\\n",
      "| /-+--+-\\  |\n",
      "| | |  | v  |\n",
      "\\-+-/  \\-+--/\n",
      "  \\------/   \n",
      "i: 1\r",
      "i: 2\r",
      "i: 3\r",
      "i: 4\r",
      "i: 5\r",
      "i: 6\r",
      "i: 7\r",
      "i: 8\r",
      "i: 9\r",
      "i: 10\r",
      "i: 11\r",
      "i: 12\r",
      "i: 13\r",
      "CollisionB@(7,3)\n"
     ]
    }
   ],
   "source": [
    "test_track, test_cars = parse_track(test_track_and_cars)\n",
    "curr_track, curr_cars = copy.copy(test_track), copy.copy(test_cars)\n",
    "collision = None\n",
    "curr_track\n",
    "print(\"i: 0\\n\")\n",
    "print_track(curr_track, curr_cars)\n",
    "for i in range(1,1500):\n",
    "    curr_track, curr_cars, collision = step_forward(curr_track, curr_cars)\n",
    "    if collision is not None: \n",
    "        break\n",
    "    else:\n",
    "        print(\"i: {}\\r\".format(i), end=\"\")\n",
    "        #print_track(curr_track, curr_cars)\n",
    "    "
   ]
  },
  {
   "cell_type": "code",
   "execution_count": 29,
   "metadata": {
    "collapsed": true
   },
   "outputs": [],
   "source": [
    "# Part 1"
   ]
  },
  {
   "cell_type": "code",
   "execution_count": 28,
   "metadata": {
    "scrolled": false
   },
   "outputs": [
    {
     "name": "stdout",
     "output_type": "stream",
     "text": [
      "i: 0\n",
      "\n",
      "i: 1\r",
      "i: 2\r",
      "i: 3\r",
      "i: 4\r",
      "i: 5\r",
      "i: 6\r",
      "i: 7\r",
      "i: 8\r",
      "i: 9\r",
      "i: 10\r",
      "i: 11\r",
      "i: 12\r",
      "i: 13\r",
      "i: 14\r",
      "i: 15\r",
      "i: 16\r",
      "i: 17\r",
      "i: 18\r",
      "i: 19\r",
      "i: 20\r",
      "i: 21\r",
      "i: 22\r",
      "i: 23\r",
      "i: 24\r",
      "i: 25\r",
      "i: 26\r",
      "i: 27\r",
      "i: 28\r",
      "i: 29\r",
      "i: 30\r",
      "i: 31\r",
      "i: 32\r",
      "i: 33\r",
      "i: 34\r",
      "i: 35\r",
      "i: 36\r",
      "i: 37\r",
      "i: 38\r",
      "i: 39\r",
      "i: 40\r",
      "i: 41\r",
      "i: 42\r",
      "i: 43\r",
      "i: 44\r",
      "i: 45\r",
      "i: 46\r",
      "i: 47\r",
      "i: 48\r",
      "i: 49\r",
      "i: 50\r",
      "i: 51\r",
      "i: 52\r",
      "i: 53\r",
      "i: 54\r",
      "i: 55\r",
      "i: 56\r",
      "i: 57\r",
      "i: 58\r",
      "i: 59\r",
      "i: 60\r",
      "i: 61\r",
      "i: 62\r",
      "i: 63\r",
      "i: 64\r",
      "i: 65\r",
      "i: 66\r",
      "i: 67\r",
      "i: 68\r",
      "i: 69\r",
      "i: 70\r",
      "i: 71\r",
      "i: 72\r",
      "i: 73\r",
      "i: 74\r",
      "i: 75\r",
      "i: 76\r",
      "i: 77\r",
      "i: 78\r",
      "i: 79\r",
      "i: 80\r",
      "i: 81\r",
      "i: 82\r",
      "i: 83\r",
      "i: 84\r",
      "i: 85\r",
      "i: 86\r",
      "i: 87\r",
      "i: 88\r",
      "i: 89\r",
      "i: 90\r",
      "i: 91\r",
      "i: 92\r",
      "i: 93\r",
      "i: 94\r",
      "i: 95\r",
      "i: 96\r",
      "i: 97\r",
      "i: 98\r",
      "i: 99\r",
      "i: 100\r",
      "i: 101\r",
      "i: 102\r",
      "i: 103\r",
      "i: 104\r",
      "i: 105\r",
      "i: 106\r",
      "i: 107\r",
      "i: 108\r",
      "i: 109\r",
      "i: 110\r",
      "i: 111\r",
      "i: 112\r",
      "i: 113\r",
      "i: 114\r",
      "i: 115\r",
      "i: 116\r",
      "i: 117\r",
      "i: 118\r",
      "i: 119\r",
      "i: 120\r",
      "i: 121\r",
      "i: 122\r",
      "i: 123\r",
      "i: 124\r",
      "i: 125\r",
      "i: 126\r",
      "i: 127\r",
      "i: 128\r",
      "i: 129\r",
      "i: 130\r",
      "i: 131\r",
      "i: 132\r",
      "i: 133\r",
      "i: 134\r",
      "i: 135\r",
      "i: 136\r",
      "i: 137\r",
      "i: 138\r",
      "i: 139\r",
      "i: 140\r",
      "i: 141\r",
      "i: 142\r",
      "i: 143\r",
      "i: 144\r",
      "i: 145\r",
      "i: 146\r",
      "i: 147\r",
      "i: 148\r",
      "i: 149\r",
      "i: 150\r",
      "i: 151\r",
      "i: 152\r",
      "i: 153\r",
      "i: 154\r",
      "i: 155\r",
      "i: 156\r",
      "i: 157\r",
      "i: 158\r",
      "i: 159\r",
      "i: 160\r",
      "i: 161\r",
      "i: 162\r",
      "i: 163\r",
      "i: 164\r",
      "i: 165\r",
      "i: 166\r",
      "i: 167\r",
      "i: 168\r",
      "i: 169\r",
      "i: 170\r",
      "i: 171\r",
      "i: 172\r",
      "i: 173\r",
      "i: 174\r",
      "i: 175\r",
      "CollisionA@(46,18)\n",
      "i: 176\n"
     ]
    }
   ],
   "source": [
    "track, cars = parse_track(track_and_cars)\n",
    "curr_track, curr_cars = copy.copy(track), copy.copy(cars)\n",
    "collision = None\n",
    "curr_track\n",
    "domain=None #[82,102, 98,118]\n",
    "print(\"i: 0\\n\")\n",
    "#print_track(curr_track, curr_cars,domain=domain)\n",
    "for i in range(1,1500):\n",
    "    curr_track, curr_cars, collision = step_forward(curr_track, curr_cars)\n",
    "    if collision is not None: \n",
    "        break\n",
    "    else:\n",
    "        print(\"i: {}\\r\".format(i), end=\"\")\n",
    "        #print(\"i: {}\".format(i))\n",
    "        #print_track(curr_track, curr_cars,  domain=domain)\n",
    "print(\"i: {}\".format(i))"
   ]
  },
  {
   "cell_type": "code",
   "execution_count": null,
   "metadata": {},
   "outputs": [],
   "source": [
    "sorted(curr_cars, key=lambda x: (x[0],x[1]))"
   ]
  },
  {
   "cell_type": "markdown",
   "metadata": {
    "collapsed": true
   },
   "source": [
    "# Part 2"
   ]
  },
  {
   "cell_type": "code",
   "execution_count": 67,
   "metadata": {
    "code_folding": [],
    "collapsed": true
   },
   "outputs": [],
   "source": [
    "def step_forward_part_2(track, cars):\n",
    "    #print(\"cars: {}\".format(cars))\n",
    "    new_cars = set()\n",
    "    sorted_cars =  sorted(cars, key = lambda x: (x[0], x[1]))\n",
    "    removed_cars = set()\n",
    "    for k, car in enumerate(sorted_cars):\n",
    "        if car not in removed_cars:\n",
    "            i, j , curr_elem, turn = car\n",
    "            if curr_elem == \">\":\n",
    "                new_i, new_j = (car[0], car[1]+1)\n",
    "            elif curr_elem == \"v\":\n",
    "                new_i, new_j = (car[0]+1, car[1])\n",
    "            elif curr_elem == \"<\":\n",
    "                new_i, new_j = (car[0], car[1]-1)\n",
    "            elif curr_elem == \"^\":\n",
    "                new_i, new_j = (car[0]-1, car[1])\n",
    "            else:\n",
    "                print(\"curr_elem: {}\".format(curr_elem))\n",
    "            collision = None\n",
    "            for car in sorted_cars[(k+1):]:\n",
    "                if (car[0],car[1]) == (new_i, new_j) and car not in removed_cars:\n",
    "                    #print(\"CollisionA@({},{})\".format(new_j, new_i))\n",
    "                    collision = car \n",
    "                    \n",
    "            for car in new_cars:\n",
    "                if (car[0],car[1]) == (new_i, new_j) and car not in removed_cars:\n",
    "                    #print(\"CollisionB@({},{})\".format(new_j, new_i))\n",
    "                    #new_cars.remove(car)\n",
    "                    collision = car \n",
    "        \n",
    "            if not collision:\n",
    "                new_car = (new_i, new_j, curr_elem, turn)\n",
    "                new_cars.add(new_car)\n",
    "            else:\n",
    "                removed_cars.add(collision)\n",
    "                if collision is new_cars:\n",
    "                    new_cars.remove(collision)\n",
    "                \n",
    "                \n",
    "    for car in removed_cars:\n",
    "        if car in new_cars:\n",
    "            new_cars.remove(car)\n",
    "    #print(\"new_cars: {}\".format(new_cars))\n",
    "        \n",
    "    new_new_cars = set()\n",
    "    for car in new_cars:\n",
    "    #for car in sorted(new_cars):\n",
    "        #print(\"car: {}\".format(car))\n",
    "        track_elem = track[car[0]][car[1]]\n",
    "        #print(\"track_elem: {}\".format(track_elem))\n",
    "        curr_elem = car[2]\n",
    "        new_car_elem = curr_elem\n",
    "        turn = car[3]\n",
    "        if track_elem == \"/\":\n",
    "            if curr_elem == \"^\":\n",
    "                new_car_elem = \">\"\n",
    "            elif curr_elem ==  \"<\":\n",
    "                new_car_elem = \"v\"\n",
    "            elif curr_elem == \"v\":\n",
    "                new_car_elem = \"<\"\n",
    "            elif curr_elem ==  \">\":\n",
    "                new_car_elem = \"^\"\n",
    "        elif track_elem == \"\\\\\":\n",
    "            if curr_elem == \"^\":\n",
    "                new_car_elem = \"<\"\n",
    "            elif curr_elem ==  \">\":\n",
    "                new_car_elem = \"v\"\n",
    "            elif curr_elem == \"v\":\n",
    "                new_car_elem = \">\"\n",
    "            elif curr_elem ==  \"<\":\n",
    "                new_car_elem = \"^\"\n",
    "        elif track_elem == \"+\":\n",
    "            if turn == 0:\n",
    "                curr_elem_ind = car_elems.index(curr_elem)\n",
    "                curr_elem_ind = (curr_elem_ind - 1) % len(car_elems)\n",
    "                new_car_elem = car_elems[curr_elem_ind]\n",
    "            elif turn == 2:\n",
    "                curr_elem_ind = car_elems.index(curr_elem)\n",
    "                curr_elem_ind = (curr_elem_ind + 1) % len(car_elems)\n",
    "                new_car_elem = car_elems[curr_elem_ind]\n",
    "            turn = (turn + 1) % 3\n",
    "            \n",
    "        #car =  (car[0], car[1], new_car_elem , turn)\n",
    "        new_car =  (car[0], car[1], new_car_elem , turn)\n",
    "        new_new_cars.add(new_car)\n",
    "    #print(\"new_new_cars: {}\".format(new_new_cars))\n",
    "    return track, new_new_cars\n",
    "    #return track, cars, None\n",
    "    "
   ]
  },
  {
   "cell_type": "code",
   "execution_count": null,
   "metadata": {
    "collapsed": true
   },
   "outputs": [],
   "source": [
    "test_input = \"\"\"/->-\\        \n",
    "|   |  /----\\\\\n",
    "| /-+--+-\\  |\n",
    "| | |  | v  |\n",
    "\\-+-/  \\-+--/\n",
    "  \\------/   \"\"\""
   ]
  },
  {
   "cell_type": "code",
   "execution_count": 81,
   "metadata": {
    "code_folding": [],
    "collapsed": true
   },
   "outputs": [],
   "source": [
    "part2_test_input = \"\"\"/>-<\\  \n",
    "|   |  \n",
    "| /<+-\\\\\n",
    "| | | v\n",
    "\\>+</ |\n",
    "  |   ^\n",
    "  \\<->/\"\"\"\n",
    "part2_test_track_and_cars = [line for line in part2_test_input.splitlines()]"
   ]
  },
  {
   "cell_type": "code",
   "execution_count": 83,
   "metadata": {},
   "outputs": [
    {
     "data": {
      "text/plain": [
       "{(0, 1, '>', 0),\n",
       " (0, 3, '<', 0),\n",
       " (2, 3, '<', 0),\n",
       " (3, 6, 'v', 0),\n",
       " (4, 1, '>', 0),\n",
       " (4, 3, '<', 0),\n",
       " (5, 6, '^', 0),\n",
       " (6, 3, '<', 0),\n",
       " (6, 5, '>', 0)}"
      ]
     },
     "execution_count": 83,
     "metadata": {},
     "output_type": "execute_result"
    }
   ],
   "source": [
    "track, cars = parse_track(part2_test_track_and_cars)\n",
    "cars"
   ]
  },
  {
   "cell_type": "code",
   "execution_count": 114,
   "metadata": {},
   "outputs": [
    {
     "name": "stdout",
     "output_type": "stream",
     "text": [
      "i: 13040: cars: 1\r"
     ]
    }
   ],
   "source": [
    "track, cars = parse_track(track_and_cars)\n",
    "curr_track, curr_cars = copy.copy(track), copy.copy(cars)\n",
    "collision = None\n",
    "step_forward_part_2(curr_track, curr_cars)\n",
    "for i in range(1,1500000):\n",
    "    curr_track, curr_cars = step_forward_part_2(curr_track, curr_cars)\n",
    "    print(\"i: {}: cars: {}\\r\".format(i, len(curr_cars)), end=\"\")\n",
    "    if len(curr_cars) <= 1: \n",
    "        break\n"
   ]
  },
  {
   "cell_type": "code",
   "execution_count": 115,
   "metadata": {},
   "outputs": [
    {
     "data": {
      "text/plain": [
       "{(103, 124, '^', 1)}"
      ]
     },
     "execution_count": 115,
     "metadata": {},
     "output_type": "execute_result"
    }
   ],
   "source": [
    "curr_cars"
   ]
  },
  {
   "cell_type": "code",
   "execution_count": 116,
   "metadata": {},
   "outputs": [
    {
     "name": "stdout",
     "output_type": "stream",
     "text": [
      "i: 0, cars: 9\n",
      "/>-<\\  \n",
      "|   |  \n",
      "| /<+-\\\n",
      "| | | v\n",
      "\\>+</ |\n",
      "  |   ^\n",
      "  \\<->/\n",
      "i: 1: cars: 3\n",
      "/---\\  \n",
      "|   |  \n",
      "| v-+-\\\n",
      "| | | |\n",
      "\\-+-/ |\n",
      "  |   |\n",
      "  ^---^\n",
      "i: 2: cars: 3\n",
      "/---\\  \n",
      "|   |  \n",
      "| /-+-\\\n",
      "| v | |\n",
      "\\-+-/ |\n",
      "  ^   ^\n",
      "  \\---/\n",
      "i: 3: cars: 1\n",
      "/---\\  \n",
      "|   |  \n",
      "| /-+-\\\n",
      "| | | |\n",
      "\\-+-/ ^\n",
      "  |   |\n",
      "  \\---/\n"
     ]
    }
   ],
   "source": [
    "track, cars = parse_track(part2_test_track_and_cars)\n",
    "curr_track, curr_cars = copy.copy(track), copy.copy(cars)\n",
    "collision = None\n",
    "curr_track\n",
    "domain=None #[82,102, 98,118]\n",
    "print(\"i: {}, cars: {}\".format(0, len(curr_cars)))\n",
    "print_track(curr_track, curr_cars,domain=domain)\n",
    "step_forward_part_2(curr_track, curr_cars)\n",
    "for i in range(1,1500000):\n",
    "    curr_track, curr_cars = step_forward_part_2(curr_track, curr_cars)\n",
    "    print(\"i: {}: cars: {}\".format(i, len(curr_cars)))\n",
    "    print_track(curr_track, curr_cars,  domain=domain)\n",
    "    if len(curr_cars) <= 1: \n",
    "        break\n"
   ]
  },
  {
   "cell_type": "code",
   "execution_count": 113,
   "metadata": {},
   "outputs": [
    {
     "data": {
      "text/plain": [
       "{(4, 6, '^', 0)}"
      ]
     },
     "execution_count": 113,
     "metadata": {},
     "output_type": "execute_result"
    }
   ],
   "source": [
    "curr_cars"
   ]
  },
  {
   "cell_type": "code",
   "execution_count": null,
   "metadata": {
    "collapsed": true
   },
   "outputs": [],
   "source": []
  }
 ],
 "metadata": {
  "hide_input": false,
  "kernelspec": {
   "display_name": "Python 3",
   "language": "python",
   "name": "python3"
  },
  "language_info": {
   "codemirror_mode": {
    "name": "ipython",
    "version": 3
   },
   "file_extension": ".py",
   "mimetype": "text/x-python",
   "name": "python",
   "nbconvert_exporter": "python",
   "pygments_lexer": "ipython3",
   "version": "3.6.3"
  },
  "toc": {
   "toc_cell": false,
   "toc_number_sections": true,
   "toc_threshold": 4,
   "toc_window_display": false
  }
 },
 "nbformat": 4,
 "nbformat_minor": 2
}
