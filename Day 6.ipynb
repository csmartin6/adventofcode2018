{
 "cells": [
  {
   "cell_type": "code",
   "execution_count": 83,
   "metadata": {
    "collapsed": true
   },
   "outputs": [],
   "source": [
    "import numpy as np\n",
    "import requests\n",
    "import re\n",
    "import copy\n",
    "from collections import Counter"
   ]
  },
  {
   "cell_type": "markdown",
   "metadata": {},
   "source": [
    "# Get Input"
   ]
  },
  {
   "cell_type": "code",
   "execution_count": 4,
   "metadata": {
    "collapsed": true
   },
   "outputs": [],
   "source": [
    "sessionId = \"os.environ[\"ADVENT_OF_CODE_SESSION_ID\"]\"
   ]
  },
  {
   "cell_type": "code",
   "execution_count": 210,
   "metadata": {
    "collapsed": true
   },
   "outputs": [],
   "source": [
    "r = requests.get(\"https://adventofcode.com/2018/day/6/input\", cookies={\"session\": sessionId})"
   ]
  },
  {
   "cell_type": "code",
   "execution_count": 146,
   "metadata": {
    "collapsed": true
   },
   "outputs": [],
   "source": [
    "def parse_coord(line):\n",
    "    m = re.search('(\\d+), (\\d+)', line.decode('utf-8'))\n",
    "    return int(m.group(1)), int(m.group(2))"
   ]
  },
  {
   "cell_type": "code",
   "execution_count": 147,
   "metadata": {
    "collapsed": true
   },
   "outputs": [],
   "source": [
    "locations = [parse_coord(line) for line in r.content.splitlines()]"
   ]
  },
  {
   "cell_type": "code",
   "execution_count": 148,
   "metadata": {},
   "outputs": [
    {
     "data": {
      "text/plain": [
       "[(249, 60),\n",
       " (150, 332),\n",
       " (174, 83),\n",
       " (287, 329),\n",
       " (102, 338),\n",
       " (111, 201),\n",
       " (259, 96),\n",
       " (277, 161),\n",
       " (143, 288),\n",
       " (202, 311),\n",
       " (335, 55),\n",
       " (239, 148),\n",
       " (137, 224),\n",
       " (48, 214),\n",
       " (186, 87),\n",
       " (282, 334),\n",
       " (147, 157),\n",
       " (246, 191),\n",
       " (241, 181),\n",
       " (286, 129),\n",
       " (270, 287),\n",
       " (79, 119),\n",
       " (189, 263),\n",
       " (324, 280),\n",
       " (316, 279),\n",
       " (221, 236),\n",
       " (327, 174),\n",
       " (141, 82),\n",
       " (238, 317),\n",
       " (64, 264),\n",
       " (226, 151),\n",
       " (110, 110),\n",
       " (336, 194),\n",
       " (235, 333),\n",
       " (237, 55),\n",
       " (230, 137),\n",
       " (267, 44),\n",
       " (258, 134),\n",
       " (223, 42),\n",
       " (202, 76),\n",
       " (159, 135),\n",
       " (229, 238),\n",
       " (197, 83),\n",
       " (173, 286),\n",
       " (123, 90),\n",
       " (314, 165),\n",
       " (140, 338),\n",
       " (347, 60),\n",
       " (108, 76),\n",
       " (268, 329)]"
      ]
     },
     "execution_count": 148,
     "metadata": {},
     "output_type": "execute_result"
    }
   ],
   "source": [
    "locations"
   ]
  },
  {
   "cell_type": "markdown",
   "metadata": {},
   "source": [
    "# Part 1"
   ]
  },
  {
   "cell_type": "markdown",
   "metadata": {
    "collapsed": true
   },
   "source": [
    "- get exterior nodes\n",
    "- make grid (use extermities) of available nodes\n",
    "- initialize with zeros\n",
    "- while still available space \n",
    "- step out \n"
   ]
  },
  {
   "cell_type": "code",
   "execution_count": 149,
   "metadata": {},
   "outputs": [],
   "source": [
    "min_x = min(locations, key=lambda x: x[0])[0]\n",
    "min_y = min(locations, key=lambda x: x[1])[1]\n",
    "max_x = max(locations, key=lambda x: x[0])[0]\n",
    "max_y = max(locations, key=lambda x: x[1])[1]"
   ]
  },
  {
   "cell_type": "code",
   "execution_count": 291,
   "metadata": {},
   "outputs": [
    {
     "name": "stdout",
     "output_type": "stream",
     "text": [
      "i: 340\r"
     ]
    }
   ],
   "source": [
    "closest = -1 * np.ones((max_x+1, max_y+1))\n",
    "inf_ids = set()\n",
    "for i in range(max_x+1):\n",
    "    if i % 10 ==0:\n",
    "        print(\"i: {}\\r\" .format(i), end=\"\")\n",
    "    for j in range(max_y+1):\n",
    "        distances = [(loc_id, abs(x_l-i)+abs(y_l-j)) for loc_id, (x_l, y_l) in enumerate(locations)]\n",
    "        sorted_distances = sorted(distances, key=lambda x: x[1])\n",
    "        min_dist = sorted_distances[0][1]\n",
    "        second_dist = sorted_distances[1][1]\n",
    "        if min_dist != second_dist:\n",
    "            closest[i][j] = sorted_distances[0][0]\n",
    "            \n",
    "        if i == 0 or i == max_x or j == 0 or j == max_y:\n",
    "            for loc_id, dist in sorted_distances:\n",
    "                if dist == min_dist:\n",
    "                    inf_ids.add(loc_id) \n",
    "            \n",
    "        \n",
    "            \n",
    "        "
   ]
  },
  {
   "cell_type": "code",
   "execution_count": 292,
   "metadata": {},
   "outputs": [
    {
     "data": {
      "text/plain": [
       "Counter({-1: 2601,\n",
       "         0: 830,\n",
       "         1: 1006,\n",
       "         2: 2286,\n",
       "         3: 1281,\n",
       "         4: 3197,\n",
       "         5: 3420,\n",
       "         6: 2417,\n",
       "         7: 1866,\n",
       "         8: 2670,\n",
       "         9: 1897,\n",
       "         10: 3925,\n",
       "         11: 478,\n",
       "         12: 3414,\n",
       "         13: 6670,\n",
       "         14: 801,\n",
       "         15: 106,\n",
       "         16: 3150,\n",
       "         17: 2199,\n",
       "         18: 1349,\n",
       "         19: 2452,\n",
       "         20: 2598,\n",
       "         21: 7039,\n",
       "         22: 2439,\n",
       "         23: 2280,\n",
       "         24: 2294,\n",
       "         25: 1759,\n",
       "         26: 1280,\n",
       "         27: 2988,\n",
       "         28: 1268,\n",
       "         29: 7454,\n",
       "         30: 1329,\n",
       "         31: 1661,\n",
       "         32: 2580,\n",
       "         33: 576,\n",
       "         34: 1024,\n",
       "         35: 1446,\n",
       "         36: 3536,\n",
       "         37: 914,\n",
       "         38: 3040,\n",
       "         39: 920,\n",
       "         40: 2085,\n",
       "         41: 2386,\n",
       "         42: 1070,\n",
       "         43: 1264,\n",
       "         44: 924,\n",
       "         45: 1323,\n",
       "         46: 560,\n",
       "         47: 799,\n",
       "         48: 10480,\n",
       "         49: 641})"
      ]
     },
     "execution_count": 292,
     "metadata": {},
     "output_type": "execute_result"
    }
   ],
   "source": [
    "filter_closest = closest[:][:].astype(int)\n",
    "c = Counter(filter_closest.flatten())\n",
    "c"
   ]
  },
  {
   "cell_type": "code",
   "execution_count": 295,
   "metadata": {},
   "outputs": [
    {
     "data": {
      "text/plain": [
       "3420"
      ]
     },
     "execution_count": 295,
     "metadata": {},
     "output_type": "execute_result"
    }
   ],
   "source": [
    "max([v for k, v in c.items() if k not in inf_ids])"
   ]
  },
  {
   "cell_type": "markdown",
   "metadata": {},
   "source": [
    "# Part 2"
   ]
  },
  {
   "cell_type": "code",
   "execution_count": 315,
   "metadata": {},
   "outputs": [
    {
     "data": {
      "text/plain": [
       "347"
      ]
     },
     "execution_count": 315,
     "metadata": {},
     "output_type": "execute_result"
    }
   ],
   "source": [
    "max_x"
   ]
  },
  {
   "cell_type": "code",
   "execution_count": 316,
   "metadata": {},
   "outputs": [
    {
     "data": {
      "text/plain": [
       "338"
      ]
     },
     "execution_count": 316,
     "metadata": {},
     "output_type": "execute_result"
    }
   ],
   "source": [
    "max_y"
   ]
  },
  {
   "cell_type": "code",
   "execution_count": 318,
   "metadata": {},
   "outputs": [
    {
     "name": "stdout",
     "output_type": "stream",
     "text": [
      "i: 330\r"
     ]
    }
   ],
   "source": [
    "total_manhattan = np.zeros((max_y+1, max_x+1))\n",
    "for i in range(max_y+1):\n",
    "    if i % 10 ==0:\n",
    "        print(\"i: {}\\r\" .format(i), end=\"\")\n",
    "    for j in range(max_x+1):\n",
    "        distances = [abs(x-i)+abs(y-j) for x, y in locations]\n",
    "        total_manhattan[i][j] = sum(distances)\n",
    "            \n",
    "            "
   ]
  },
  {
   "cell_type": "code",
   "execution_count": 319,
   "metadata": {},
   "outputs": [
    {
     "data": {
      "text/plain": [
       "(10492.0, 14878.0, 14878.0, 10492.0)"
      ]
     },
     "execution_count": 319,
     "metadata": {},
     "output_type": "execute_result"
    }
   ],
   "source": [
    "min(total_manhattan[-1][:]), min(total_manhattan[0][:]), min(total_manhattan[:][0]), min(total_manhattan[:][-1])"
   ]
  },
  {
   "cell_type": "code",
   "execution_count": 321,
   "metadata": {},
   "outputs": [
    {
     "data": {
      "text/plain": [
       "46667"
      ]
     },
     "execution_count": 321,
     "metadata": {},
     "output_type": "execute_result"
    }
   ],
   "source": [
    "len(np.where(total_manhattan<10000)[0])"
   ]
  },
  {
   "cell_type": "code",
   "execution_count": null,
   "metadata": {
    "collapsed": true
   },
   "outputs": [],
   "source": []
  }
 ],
 "metadata": {
  "hide_input": false,
  "kernelspec": {
   "display_name": "Python 3",
   "language": "python",
   "name": "python3"
  },
  "language_info": {
   "codemirror_mode": {
    "name": "ipython",
    "version": 3
   },
   "file_extension": ".py",
   "mimetype": "text/x-python",
   "name": "python",
   "nbconvert_exporter": "python",
   "pygments_lexer": "ipython3",
   "version": "3.6.3"
  },
  "toc": {
   "toc_cell": false,
   "toc_number_sections": true,
   "toc_threshold": 4,
   "toc_window_display": false
  }
 },
 "nbformat": 4,
 "nbformat_minor": 2
}
