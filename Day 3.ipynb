{
 "cells": [
  {
   "cell_type": "code",
   "execution_count": 9,
   "metadata": {
    "collapsed": true
   },
   "outputs": [],
   "source": [
    "import numpy as np\n",
    "import requests\n",
    "from collections import Counter\n",
    "import re"
   ]
  },
  {
   "cell_type": "markdown",
   "metadata": {},
   "source": [
    "# Get Input"
   ]
  },
  {
   "cell_type": "code",
   "execution_count": 2,
   "metadata": {
    "collapsed": true
   },
   "outputs": [],
   "source": [
    "sessionId = \"53616c7465645f5fe7d9acdcdf7dd2b07d8578695e819f0b0e7c932167987025c8f0e50c27b902b878225536d04dd7a1\""
   ]
  },
  {
   "cell_type": "code",
   "execution_count": 3,
   "metadata": {
    "collapsed": true
   },
   "outputs": [],
   "source": [
    "r = requests.get(\"https://adventofcode.com/2018/day/3/input\", cookies={\"session\": sessionId})"
   ]
  },
  {
   "cell_type": "code",
   "execution_count": 33,
   "metadata": {
    "collapsed": true
   },
   "outputs": [],
   "source": [
    "rects_raw = [line for line in r.content.splitlines()]"
   ]
  },
  {
   "cell_type": "code",
   "execution_count": 181,
   "metadata": {
    "collapsed": true
   },
   "outputs": [],
   "source": [
    "def parse_rects(raw):\n",
    "    m = re.search('(\\d+) \\@ (\\d+),(\\d+): (\\d+)x(\\d+)\\'',str(raw))\n",
    "    return  int(m.group(2)), int(m.group(3)), int(m.group(4)), int(m.group(5)), int(m.group(1))"
   ]
  },
  {
   "cell_type": "code",
   "execution_count": 182,
   "metadata": {
    "collapsed": true
   },
   "outputs": [],
   "source": [
    "def overlap(rect_a, rect_b):\n",
    "    # rect (if, top corner x, top corner y, width, height, id)\n",
    "    min_x = max(rect_a[0], rect_b[0])\n",
    "    max_x = min(rect_a[2], rect_b[2])\n",
    "\n",
    "    min_y = max(rect_a[1], rect_b[1])\n",
    "    max_y = min(rect_a[3], rect_b[3])\n",
    "\n",
    "    if min_x >= max_x or min_y >= max_y:\n",
    "        return None\n",
    "\n",
    "    return (min_x, min_y, max_x-min_x, max_y-min_y)\n",
    "\n",
    "\n"
   ]
  },
  {
   "cell_type": "code",
   "execution_count": 183,
   "metadata": {
    "collapsed": true
   },
   "outputs": [],
   "source": [
    "rects = [parse_rects(r) for r in rects_raw]"
   ]
  },
  {
   "cell_type": "code",
   "execution_count": 184,
   "metadata": {
    "scrolled": true
   },
   "outputs": [
    {
     "data": {
      "text/plain": [
       "(974, 802, 13, 15, 11)"
      ]
     },
     "execution_count": 184,
     "metadata": {},
     "output_type": "execute_result"
    }
   ],
   "source": [
    "rects[10]"
   ]
  },
  {
   "cell_type": "code",
   "execution_count": 185,
   "metadata": {
    "collapsed": true
   },
   "outputs": [],
   "source": [
    "overlap(rects[0], rects[2])"
   ]
  },
  {
   "cell_type": "code",
   "execution_count": 186,
   "metadata": {
    "collapsed": true
   },
   "outputs": [],
   "source": [
    "max_x = np.max([r[0]+r[2] for r in rects])\n",
    "max_y = np.max([r[1]+r[3] for r in rects])"
   ]
  },
  {
   "cell_type": "code",
   "execution_count": 187,
   "metadata": {},
   "outputs": [
    {
     "data": {
      "text/plain": [
       "(999, 1000)"
      ]
     },
     "execution_count": 187,
     "metadata": {},
     "output_type": "execute_result"
    }
   ],
   "source": [
    "max_x, max_y"
   ]
  },
  {
   "cell_type": "markdown",
   "metadata": {},
   "source": [
    "# Part 1\n"
   ]
  },
  {
   "cell_type": "code",
   "execution_count": 188,
   "metadata": {
    "collapsed": true
   },
   "outputs": [],
   "source": [
    "claimed = np.zeros((max_x, max_y))\n",
    "double_claimed = np.zeros((max_x, max_y))"
   ]
  },
  {
   "cell_type": "code",
   "execution_count": 189,
   "metadata": {
    "collapsed": true
   },
   "outputs": [],
   "source": [
    "for r in rects:\n",
    "    for i in range(r[0], r[0]+r[2]):\n",
    "        for j in range(r[1], r[1]+r[3]):\n",
    "            if claimed[i][j] == 1:\n",
    "                double_claimed[i][j]=1\n",
    "            claimed[i][j]=1"
   ]
  },
  {
   "cell_type": "code",
   "execution_count": 190,
   "metadata": {},
   "outputs": [
    {
     "data": {
      "text/plain": [
       "116140"
      ]
     },
     "execution_count": 190,
     "metadata": {},
     "output_type": "execute_result"
    }
   ],
   "source": [
    "int(np.sum(double_claimed))"
   ]
  },
  {
   "cell_type": "markdown",
   "metadata": {},
   "source": [
    "# Part 2"
   ]
  },
  {
   "cell_type": "code",
   "execution_count": 191,
   "metadata": {
    "collapsed": true
   },
   "outputs": [],
   "source": [
    "claim_counts = np.zeros((max_x, max_y))"
   ]
  },
  {
   "cell_type": "code",
   "execution_count": 192,
   "metadata": {
    "collapsed": true
   },
   "outputs": [],
   "source": [
    "for r in rects:\n",
    "    for i in range(r[0], r[0]+r[2]):\n",
    "        for j in range(r[1], r[1]+r[3]):\n",
    "            claim_counts[i][j] += 1\n"
   ]
  },
  {
   "cell_type": "code",
   "execution_count": 196,
   "metadata": {
    "collapsed": true
   },
   "outputs": [],
   "source": [
    "def sole_claim(claim_counts, rect):\n",
    "    for i in range(rect[0], rect[0]+rect[2]):\n",
    "        for j in range(rect[1], rect[1]+rect[3]):\n",
    "            if claim_counts[i][j] > 1:\n",
    "                return False\n",
    "    return True"
   ]
  },
  {
   "cell_type": "code",
   "execution_count": 197,
   "metadata": {},
   "outputs": [
    {
     "name": "stdout",
     "output_type": "stream",
     "text": [
      "(397, 847, 21, 24, 574)\n"
     ]
    }
   ],
   "source": [
    "for r in rects:\n",
    "    if sole_claim(claim_counts, r):\n",
    "        print(r)\n",
    "        break\n",
    "                        \n",
    "    \n"
   ]
  },
  {
   "cell_type": "code",
   "execution_count": null,
   "metadata": {
    "collapsed": true
   },
   "outputs": [],
   "source": []
  }
 ],
 "metadata": {
  "hide_input": false,
  "kernelspec": {
   "display_name": "Python 3",
   "language": "python",
   "name": "python3"
  },
  "language_info": {
   "codemirror_mode": {
    "name": "ipython",
    "version": 3
   },
   "file_extension": ".py",
   "mimetype": "text/x-python",
   "name": "python",
   "nbconvert_exporter": "python",
   "pygments_lexer": "ipython3",
   "version": "3.6.3"
  },
  "toc": {
   "toc_cell": false,
   "toc_number_sections": true,
   "toc_threshold": 4,
   "toc_window_display": false
  }
 },
 "nbformat": 4,
 "nbformat_minor": 2
}
