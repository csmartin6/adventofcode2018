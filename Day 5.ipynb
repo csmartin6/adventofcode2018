{
 "cells": [
  {
   "cell_type": "code",
   "execution_count": 110,
   "metadata": {
    "collapsed": true
   },
   "outputs": [],
   "source": [
    "import os\n",
    "import numpy as np\n",
    "import requests\n",
    "import re\n",
    "import copy"
   ]
  },
  {
   "cell_type": "markdown",
   "metadata": {},
   "source": [
    "# Get Input"
   ]
  },
  {
   "cell_type": "code",
   "execution_count": 57,
   "metadata": {
    "collapsed": true
   },
   "outputs": [],
   "source": [
    "sessionId = \"os.environ[\"ADVENT_OF_CODE_SESSION_ID\"]\""
   ]
  },
  {
   "cell_type": "code",
   "execution_count": 58,
   "metadata": {
    "collapsed": true
   },
   "outputs": [],
   "source": [
    "r = requests.get(\"https://adventofcode.com/2018/day/5/input\", cookies={\"session\": sessionId})"
   ]
  },
  {
   "cell_type": "code",
   "execution_count": 67,
   "metadata": {
    "collapsed": true
   },
   "outputs": [],
   "source": [
    "polymer = r.content"
   ]
  },
  {
   "cell_type": "code",
   "execution_count": 68,
   "metadata": {},
   "outputs": [
    {
     "data": {
      "text/plain": [
       "b'tvVcCtTEed'"
      ]
     },
     "execution_count": 68,
     "metadata": {},
     "output_type": "execute_result"
    }
   ],
   "source": [
    "polymer[:10]"
   ]
  },
  {
   "cell_type": "markdown",
   "metadata": {},
   "source": [
    "# Part 1"
   ]
  },
  {
   "cell_type": "code",
   "execution_count": 113,
   "metadata": {
    "collapsed": true
   },
   "outputs": [],
   "source": [
    "def react_polymer(polymer):\n",
    "    curr_polymer = copy.copy(polymer)\n",
    "    if isinstance(polymer,str):\n",
    "        curr_polymer = list(polymer)\n",
    "        \n",
    "    while True:\n",
    "        prev_char = None\n",
    "        to_remove = [] \n",
    "        for i,c in enumerate(curr_polymer):\n",
    "            if prev_char is not None:\n",
    "                if prev_char != c and prev_char.lower() == c.lower():\n",
    "                    # print(\"p: {}, c: {}\".format(prev_char, c))\n",
    "                    to_remove.append(i-1)\n",
    "                    to_remove.append(i)\n",
    "                    prev_char = None\n",
    "                else:\n",
    "                    prev_char = c\n",
    "            else:        \n",
    "                prev_char = c\n",
    "        if len(to_remove) == 0 or len(curr_polymer) <= 1:\n",
    "            break\n",
    "        for i in sorted(to_remove, reverse=True):\n",
    "            del curr_polymer[i]\n",
    "    return \"\".join(curr_polymer)\n",
    "    "
   ]
  },
  {
   "cell_type": "code",
   "execution_count": 114,
   "metadata": {},
   "outputs": [
    {
     "data": {
      "text/plain": [
       "'dabCBAcaDA'"
      ]
     },
     "execution_count": 114,
     "metadata": {},
     "output_type": "execute_result"
    }
   ],
   "source": [
    "react_polymer(\"dabAcCaCBAcCcaDA\")"
   ]
  },
  {
   "cell_type": "code",
   "execution_count": 117,
   "metadata": {},
   "outputs": [],
   "source": [
    "polymer_str = polymer.decode('utf-8').replace(\"\\n\",\"\")\n",
    "\n"
   ]
  },
  {
   "cell_type": "code",
   "execution_count": 119,
   "metadata": {},
   "outputs": [
    {
     "data": {
      "text/plain": [
       "11720"
      ]
     },
     "execution_count": 119,
     "metadata": {},
     "output_type": "execute_result"
    }
   ],
   "source": [
    "len(react_polymer(polymer_str))"
   ]
  },
  {
   "cell_type": "markdown",
   "metadata": {
    "collapsed": true
   },
   "source": [
    "# Part 2"
   ]
  },
  {
   "cell_type": "code",
   "execution_count": 121,
   "metadata": {},
   "outputs": [
    {
     "data": {
      "text/plain": [
       "122"
      ]
     },
     "execution_count": 121,
     "metadata": {},
     "output_type": "execute_result"
    }
   ],
   "source": [
    "ord('z')"
   ]
  },
  {
   "cell_type": "code",
   "execution_count": 125,
   "metadata": {},
   "outputs": [],
   "source": [
    "alphabet = [chr(c) for c in range(97,123)]"
   ]
  },
  {
   "cell_type": "code",
   "execution_count": 127,
   "metadata": {},
   "outputs": [],
   "source": [
    "lens = {}\n",
    "for letter in alphabet:\n",
    "    polymer_str = polymer.decode('utf-8').replace(\"\\n\",\"\").replace(letter, \"\").replace(letter.upper(),\"\")\n",
    "    reacted = react_polymer(polymer_str)\n",
    "    lens[letter] = len(reacted)\n",
    "    "
   ]
  },
  {
   "cell_type": "code",
   "execution_count": 128,
   "metadata": {},
   "outputs": [
    {
     "data": {
      "text/plain": [
       "{'a': 11254,\n",
       " 'b': 11242,\n",
       " 'c': 11246,\n",
       " 'd': 11308,\n",
       " 'e': 11244,\n",
       " 'f': 11256,\n",
       " 'g': 11262,\n",
       " 'h': 11272,\n",
       " 'i': 11186,\n",
       " 'j': 11252,\n",
       " 'k': 11208,\n",
       " 'l': 11250,\n",
       " 'm': 11280,\n",
       " 'n': 11234,\n",
       " 'o': 11264,\n",
       " 'p': 11192,\n",
       " 'q': 11264,\n",
       " 'r': 11258,\n",
       " 's': 11238,\n",
       " 't': 11210,\n",
       " 'u': 11302,\n",
       " 'v': 11286,\n",
       " 'w': 4956,\n",
       " 'x': 11274,\n",
       " 'y': 11280,\n",
       " 'z': 11224}"
      ]
     },
     "execution_count": 128,
     "metadata": {},
     "output_type": "execute_result"
    }
   ],
   "source": [
    "lens"
   ]
  },
  {
   "cell_type": "code",
   "execution_count": 131,
   "metadata": {},
   "outputs": [
    {
     "data": {
      "text/plain": [
       "4956"
      ]
     },
     "execution_count": 131,
     "metadata": {},
     "output_type": "execute_result"
    }
   ],
   "source": [
    "min(lens.values())"
   ]
  },
  {
   "cell_type": "code",
   "execution_count": null,
   "metadata": {
    "collapsed": true
   },
   "outputs": [],
   "source": []
  }
 ],
 "metadata": {
  "hide_input": false,
  "kernelspec": {
   "display_name": "Python 3",
   "language": "python",
   "name": "python3"
  },
  "language_info": {
   "codemirror_mode": {
    "name": "ipython",
    "version": 3
   },
   "file_extension": ".py",
   "mimetype": "text/x-python",
   "name": "python",
   "nbconvert_exporter": "python",
   "pygments_lexer": "ipython3",
   "version": "3.6.3"
  },
  "toc": {
   "toc_cell": false,
   "toc_number_sections": true,
   "toc_threshold": 4,
   "toc_window_display": false
  }
 },
 "nbformat": 4,
 "nbformat_minor": 2
}
