{
 "cells": [
  {
   "cell_type": "code",
   "execution_count": 1,
   "metadata": {
    "collapsed": true
   },
   "outputs": [],
   "source": [
    "import numpy as np\n",
    "import requests\n",
    "import re\n",
    "import copy\n",
    "from collections import Counter\n",
    "import networkx as nx"
   ]
  },
  {
   "cell_type": "markdown",
   "metadata": {},
   "source": [
    "# Get Input"
   ]
  },
  {
   "cell_type": "code",
   "execution_count": 3,
   "metadata": {
    "collapsed": true
   },
   "outputs": [],
   "source": [
    "sessionId = \"os.environ[\"ADVENT_OF_CODE_SESSION_ID\"]\"
   ]
  },
  {
   "cell_type": "code",
   "execution_count": 4,
   "metadata": {
    "collapsed": true
   },
   "outputs": [],
   "source": [
    "r = requests.get(\"https://adventofcode.com/2018/day/8/input\", cookies={\"session\": sessionId})"
   ]
  },
  {
   "cell_type": "code",
   "execution_count": 7,
   "metadata": {
    "collapsed": true
   },
   "outputs": [],
   "source": [
    "nums = [int(n) for n in r.content.decode('utf-8').split(' ')]"
   ]
  },
  {
   "cell_type": "markdown",
   "metadata": {},
   "source": [
    "# Part 1"
   ]
  },
  {
   "cell_type": "code",
   "execution_count": 8,
   "metadata": {
    "collapsed": true
   },
   "outputs": [],
   "source": [
    "def is_valid(node, num_nodes=0):\n",
    "    if num_nodes==0:\n",
    "        if node[0] == 0:\n",
    "            return len(node) == node[1] + 2\n",
    "        else:\n",
    "            return is_valid(node[2:-(node[1]), node[0]])\n",
    "    else:\n",
    "        \n",
    "        \n",
    "    "
   ]
  },
  {
   "cell_type": "code",
   "execution_count": 66,
   "metadata": {},
   "outputs": [],
   "source": [
    "def part_1(data):\n",
    "    print(\"data: {}\".format(data))\n",
    "    num_children = data[0]\n",
    "    num_metadata = data[1]\n",
    "    metadata_sum = 0\n",
    "    \n",
    "    data = data[2:]\n",
    "    for i in range(num_children):\n",
    "        metadata_sum_i, data = part_1(data)\n",
    "        metadata_sum+=metadata_sum_i\n",
    "        \n",
    "    metadata_sum += sum(data[:num_metadata])\n",
    "    print(\"metadata_sum: {}\".format(metadata_sum))\n",
    "    print(\"data[num_metadata:]: {}\".format(data[num_metadata:]))\n",
    "    return metadata_sum, data[num_metadata:]\n",
    "    "
   ]
  },
  {
   "cell_type": "code",
   "execution_count": 67,
   "metadata": {
    "collapsed": true
   },
   "outputs": [],
   "source": [
    "test_str = '2 3 0 3 10 11 12 1 1 0 1 99 2 1 1 2'\n",
    "test_nums = [int(n) for n in test_str.split(' ')]"
   ]
  },
  {
   "cell_type": "code",
   "execution_count": 68,
   "metadata": {},
   "outputs": [
    {
     "name": "stdout",
     "output_type": "stream",
     "text": [
      "data: [2, 3, 0, 3, 10, 11, 12, 1, 1, 0, 1, 99, 2, 1, 1, 2]\n",
      "data: [0, 3, 10, 11, 12, 1, 1, 0, 1, 99, 2, 1, 1, 2]\n",
      "metadata_sum: 33\n",
      "data[num_metadata:]: [1, 1, 0, 1, 99, 2, 1, 1, 2]\n",
      "data: [1, 1, 0, 1, 99, 2, 1, 1, 2]\n",
      "data: [0, 1, 99, 2, 1, 1, 2]\n",
      "metadata_sum: 99\n",
      "data[num_metadata:]: [2, 1, 1, 2]\n",
      "metadata_sum: 101\n",
      "data[num_metadata:]: [1, 1, 2]\n",
      "metadata_sum: 138\n",
      "data[num_metadata:]: []\n"
     ]
    },
    {
     "data": {
      "text/plain": [
       "(138, [])"
      ]
     },
     "execution_count": 68,
     "metadata": {},
     "output_type": "execute_result"
    }
   ],
   "source": [
    "part_1(test_nums)"
   ]
  },
  {
   "cell_type": "code",
   "execution_count": 48,
   "metadata": {},
   "outputs": [
    {
     "data": {
      "text/plain": [
       "(41926, [])"
      ]
     },
     "execution_count": 48,
     "metadata": {},
     "output_type": "execute_result"
    }
   ],
   "source": [
    "part_1(nums)"
   ]
  },
  {
   "cell_type": "markdown",
   "metadata": {
    "collapsed": true
   },
   "source": [
    "# Part 2"
   ]
  },
  {
   "cell_type": "code",
   "execution_count": 79,
   "metadata": {},
   "outputs": [],
   "source": [
    "def part_2(data):\n",
    "    num_children = data[0]\n",
    "    num_metadata = data[1]\n",
    "    metadata_sum = 0\n",
    "    scores = []\n",
    "    \n",
    "    data = data[2:]\n",
    "    for i in range(num_children):\n",
    "        metadata_sum_i, score, data = part_2(data)\n",
    "        metadata_sum+=metadata_sum_i\n",
    "        scores.append(score)\n",
    "        \n",
    "    metadata_sum += sum(data[:num_metadata])\n",
    "    if num_children == 0:\n",
    "        return metadata_sum, metadata_sum, data[num_metadata:]\n",
    "    else:\n",
    "        return (metadata_sum, \n",
    "                sum([scores[i-1] for i in data[:num_metadata] if i >=1 and i <= len(scores)]), \n",
    "                data[num_metadata:])"
   ]
  },
  {
   "cell_type": "code",
   "execution_count": 76,
   "metadata": {},
   "outputs": [
    {
     "data": {
      "text/plain": [
       "(138, 66, [])"
      ]
     },
     "execution_count": 76,
     "metadata": {},
     "output_type": "execute_result"
    }
   ],
   "source": [
    "part_2(test_nums)"
   ]
  },
  {
   "cell_type": "code",
   "execution_count": 77,
   "metadata": {},
   "outputs": [
    {
     "data": {
      "text/plain": [
       "(41926, 24262, [])"
      ]
     },
     "execution_count": 77,
     "metadata": {},
     "output_type": "execute_result"
    }
   ],
   "source": [
    "part_2(nums)"
   ]
  },
  {
   "cell_type": "code",
   "execution_count": null,
   "metadata": {
    "collapsed": true
   },
   "outputs": [],
   "source": []
  }
 ],
 "metadata": {
  "hide_input": false,
  "kernelspec": {
   "display_name": "Python 3",
   "language": "python",
   "name": "python3"
  },
  "language_info": {
   "codemirror_mode": {
    "name": "ipython",
    "version": 3
   },
   "file_extension": ".py",
   "mimetype": "text/x-python",
   "name": "python",
   "nbconvert_exporter": "python",
   "pygments_lexer": "ipython3",
   "version": "3.6.3"
  },
  "toc": {
   "toc_cell": false,
   "toc_number_sections": true,
   "toc_threshold": 4,
   "toc_window_display": false
  }
 },
 "nbformat": 4,
 "nbformat_minor": 2
}
