{
 "cells": [
  {
   "cell_type": "code",
   "execution_count": 1,
   "metadata": {
    "collapsed": true
   },
   "outputs": [],
   "source": [
    "import os\n", 
    "import numpy as np\n",
    "import requests\n",
    "import re\n",
    "import copy\n"
   ]
  },
  {
   "cell_type": "markdown",
   "metadata": {},
   "source": [
    "# Get Input"
   ]
  },
  {
   "cell_type": "code",
   "execution_count": 2,
   "metadata": {
    "collapsed": true
   },
   "outputs": [],
   "source": [
    "sessionId = \"os.environ[\"ADVENT_OF_CODE_SESSION_ID\"]\""
   ]
  },
  {
   "cell_type": "code",
   "execution_count": 3,
   "metadata": {
    "collapsed": true
   },
   "outputs": [],
   "source": [
    "r = requests.get(\"https://adventofcode.com/2018/day/14/input\", cookies={\"session\": sessionId})"
   ]
  },
  {
   "cell_type": "code",
   "execution_count": 4,
   "metadata": {
    "collapsed": true
   },
   "outputs": [],
   "source": [
    "input = r.content"
   ]
  },
  {
   "cell_type": "code",
   "execution_count": 10,
   "metadata": {},
   "outputs": [
    {
     "data": {
      "text/plain": [
       "635041"
      ]
     },
     "execution_count": 10,
     "metadata": {},
     "output_type": "execute_result"
    }
   ],
   "source": [
    "steps = int(input.decode('utf-8').replace(\"\\n\",\"\"))\n",
    "steps"
   ]
  },
  {
   "cell_type": "markdown",
   "metadata": {},
   "source": [
    "# Test Case"
   ]
  },
  {
   "cell_type": "code",
   "execution_count": 42,
   "metadata": {},
   "outputs": [
    {
     "name": "stdout",
     "output_type": "stream",
     "text": [
      "elves: [0, 1] \t recipes: [3, 7]\n",
      "elves: [0, 1] \t recipes: [3, 7, 1, 0]\n",
      "elves: [4, 3] \t recipes: [3, 7, 1, 0, 1, 0]\n",
      "elves: [6, 4] \t recipes: [3, 7, 1, 0, 1, 0, 1]\n",
      "elves: [0, 6] \t recipes: [3, 7, 1, 0, 1, 0, 1, 2]\n",
      "elves: [4, 8] \t recipes: [3, 7, 1, 0, 1, 0, 1, 2, 4]\n",
      "elves: [6, 3] \t recipes: [3, 7, 1, 0, 1, 0, 1, 2, 4, 5]\n",
      "elves: [8, 4] \t recipes: [3, 7, 1, 0, 1, 0, 1, 2, 4, 5, 1]\n",
      "elves: [1, 6] \t recipes: [3, 7, 1, 0, 1, 0, 1, 2, 4, 5, 1, 5]\n",
      "elves: [9, 8] \t recipes: [3, 7, 1, 0, 1, 0, 1, 2, 4, 5, 1, 5, 8]\n",
      "elves: [1, 13] \t recipes: [3, 7, 1, 0, 1, 0, 1, 2, 4, 5, 1, 5, 8, 9]\n",
      "elves: [9, 7] \t recipes: [3, 7, 1, 0, 1, 0, 1, 2, 4, 5, 1, 5, 8, 9, 1, 6]\n",
      "elves: [15, 10] \t recipes: [3, 7, 1, 0, 1, 0, 1, 2, 4, 5, 1, 5, 8, 9, 1, 6, 7]\n",
      "elves: [4, 12] \t recipes: [3, 7, 1, 0, 1, 0, 1, 2, 4, 5, 1, 5, 8, 9, 1, 6, 7, 7]\n",
      "elves: [6, 2] \t recipes: [3, 7, 1, 0, 1, 0, 1, 2, 4, 5, 1, 5, 8, 9, 1, 6, 7, 7, 9]\n"
     ]
    }
   ],
   "source": [
    "elves = [0, 1]\n",
    "recipes = [3, 7]\n",
    "print(\"elves: {} \\t recipes: {}\".format(elves, recipes))\n",
    "burn_in = 9\n",
    "while len(recipes)-10 < burn_in:\n",
    "\n",
    "    new_recipe = sum([recipes[e] for e in elves])\n",
    "    if new_recipe >= 10:\n",
    "        recipes.append(1)\n",
    "        recipes.append(new_recipe%10)\n",
    "    else:\n",
    "        recipes.append(new_recipe)\n",
    "\n",
    "    elves = [(e+recipes[e]+1)%len(recipes) for e in elves]\n",
    "    print(\"elves: {} \\t recipes: {}\".format(elves, recipes))"
   ]
  },
  {
   "cell_type": "code",
   "execution_count": 44,
   "metadata": {},
   "outputs": [
    {
     "data": {
      "text/plain": [
       "'5158916779'"
      ]
     },
     "execution_count": 44,
     "metadata": {},
     "output_type": "execute_result"
    }
   ],
   "source": [
    "''.join([str(i) for i in recipes[-10:]])\n",
    "\n",
    "    \n",
    "    \n",
    "\n",
    "\n",
    "    "
   ]
  },
  {
   "cell_type": "markdown",
   "metadata": {},
   "source": [
    "# Part 1"
   ]
  },
  {
   "cell_type": "code",
   "execution_count": 67,
   "metadata": {},
   "outputs": [
    {
     "data": {
      "text/plain": [
       "'1150511382'"
      ]
     },
     "execution_count": 67,
     "metadata": {},
     "output_type": "execute_result"
    }
   ],
   "source": [
    "elves = [0, 1]\n",
    "recipes = [3, 7]\n",
    "burn_in = 635041\n",
    "while len(recipes)-10 < burn_in:\n",
    "    new_recipe = sum([recipes[e] for e in elves])\n",
    "    if new_recipe >= 10:\n",
    "        recipes.append(1)\n",
    "        recipes.append(new_recipe%10)\n",
    "    else:\n",
    "        recipes.append(new_recipe)\n",
    "\n",
    "    elves = [(e+recipes[e]+1)%len(recipes) for e in elves]\n",
    "''.join([str(i) for i in recipes[(burn_in):(burn_in+10)]])"
   ]
  },
  {
   "cell_type": "markdown",
   "metadata": {
    "collapsed": true
   },
   "source": [
    "# Part 2"
   ]
  },
  {
   "cell_type": "code",
   "execution_count": 98,
   "metadata": {},
   "outputs": [
    {
     "data": {
      "text/plain": [
       "2018"
      ]
     },
     "execution_count": 98,
     "metadata": {},
     "output_type": "execute_result"
    }
   ],
   "source": [
    "elves = [0, 1]\n",
    "recipes = [3, 7]\n",
    "#target = '635041'\n",
    "#target = '59414'\n",
    "i = 0\n",
    "found = None\n",
    "while found is None:\n",
    "    new_recipe = sum([recipes[e] for e in elves])\n",
    "    i += 1\n",
    "    if new_recipe >= 10:\n",
    "        recipes.append(1)\n",
    "        recipes.append(new_recipe%10)\n",
    "    else:\n",
    "        recipes.append(new_recipe)\n",
    "\n",
    "    elves = [(e+recipes[e]+1)%len(recipes) for e in elves]\n",
    "    \n",
    "    comp = ''.join([str(i) for i in recipes[-len(target):]])\n",
    "    if comp == target:\n",
    "        found = len(recipes)-len(target)\n",
    "    if new_recipe >= 10:\n",
    "        comp = ''.join([str(i) for i in recipes[-(len(target)+1):-1]])  \n",
    "        if comp == target:\n",
    "            found = len(recipes)-len(target) - 1\n",
    "    \n",
    "found"
   ]
  },
  {
   "cell_type": "code",
   "execution_count": 96,
   "metadata": {},
   "outputs": [
    {
     "data": {
      "text/plain": [
       "20173656"
      ]
     },
     "execution_count": 96,
     "metadata": {},
     "output_type": "execute_result"
    }
   ],
   "source": [
    "Found"
   ]
  },
  {
   "cell_type": "code",
   "execution_count": null,
   "metadata": {
    "collapsed": true
   },
   "outputs": [],
   "source": []
  }
 ],
 "metadata": {
  "hide_input": false,
  "kernelspec": {
   "display_name": "Python 3",
   "language": "python",
   "name": "python3"
  },
  "language_info": {
   "codemirror_mode": {
    "name": "ipython",
    "version": 3
   },
   "file_extension": ".py",
   "mimetype": "text/x-python",
   "name": "python",
   "nbconvert_exporter": "python",
   "pygments_lexer": "ipython3",
   "version": "3.6.3"
  },
  "toc": {
   "toc_cell": false,
   "toc_number_sections": true,
   "toc_threshold": 4,
   "toc_window_display": false
  }
 },
 "nbformat": 4,
 "nbformat_minor": 2
}
