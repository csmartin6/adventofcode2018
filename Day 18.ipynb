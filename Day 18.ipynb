{
 "cells": [
  {
   "cell_type": "code",
   "execution_count": 1,
   "metadata": {},
   "outputs": [],
   "source": [
    "import os\n",
    "import numpy as np\n",
    "import requests\n",
    "import re\n",
    "import copy\n",
    "import networkx as nx"
   ]
  },
  {
   "cell_type": "markdown",
   "metadata": {},
   "source": [
    "# Get Input"
   ]
  },
  {
   "cell_type": "code",
   "execution_count": 2,
   "metadata": {},
   "outputs": [],
   "source": [
    "sessionId = os.environ[\"ADVENT_OF_CODE_SESSION_ID\"]"
   ]
  },
  {
   "cell_type": "code",
   "execution_count": 3,
   "metadata": {},
   "outputs": [
    {
     "name": "stderr",
     "output_type": "stream",
     "text": [
      "/Users/cmartin/anaconda3/lib/python3.7/site-packages/urllib3/connectionpool.py:857: InsecureRequestWarning: Unverified HTTPS request is being made. Adding certificate verification is strongly advised. See: https://urllib3.readthedocs.io/en/latest/advanced-usage.html#ssl-warnings\n",
      "  InsecureRequestWarning)\n"
     ]
    }
   ],
   "source": [
    "r = requests.get(\"https://adventofcode.com/2018/day/18/input\", cookies={\"session\": sessionId}, verify=False)"
   ]
  },
  {
   "cell_type": "code",
   "execution_count": 4,
   "metadata": {},
   "outputs": [],
   "source": [
    "input = r.content"
   ]
  },
  {
   "cell_type": "code",
   "execution_count": 5,
   "metadata": {},
   "outputs": [],
   "source": [
    "lines = [line.decode('utf-8') for line in input.splitlines()]"
   ]
  },
  {
   "cell_type": "code",
   "execution_count": 6,
   "metadata": {},
   "outputs": [
    {
     "data": {
      "text/plain": [
       "['..|#..#......#|.#..#|#.|##|.|.##.||..|.||....###|.',\n",
       " '||.|....|#.#|.#...#.|...|#.#.#.#....#......#....#.',\n",
       " '...#...|.....#.#..|#...||..#.|.|#....#|#|..##...|.',\n",
       " '.....#....|#.|..|.....#|##...#.#.#||....||||....#.',\n",
       " '..###...#.||.|||.##.#.|....|.##.#....|.#.|..|.....',\n",
       " '....|..#.#.|...|..|.....#....#.#.......|.||...|...',\n",
       " '#..|.....##|..#..#...#..|.##.....#......||##|.|#..',\n",
       " '##........#...|#|.##.#|#..#|...#...#.##|||.#||..||',\n",
       " '......#..|..|.#...|#||.#....#.#.|#.||......|.....|',\n",
       " '.|...|.##....#.||...|..|..|.|........#.#..|||..|##',\n",
       " '..|....|...#####..|#|..|...#...#.|...|..|.|..|.#|#',\n",
       " '....|...#.#.#.......#......#.#|......#|.##..##.#|.',\n",
       " '.....|.#..|#...||..#......|..#.|#.#|...#|.|..#||..',\n",
       " '#....#.......|#.|..|...#...|..|.##|#.|#.#|.....|..',\n",
       " '....#.||#.....#..#...|....##.#.......#.|.|||.|....',\n",
       " '|.|..||##....|#..#..|..|.|.|..|||.##..#.|......##|',\n",
       " '###..|.#|##|#.|||.#|.#..|#|..#..|.#|....#.#.#..||.',\n",
       " '.|.....|#.#.|#||..#.....#.|.||.#.|.....|#..|...#..',\n",
       " '...##.........|...#.#|....##..#.|.|.......#..|...|',\n",
       " '..#.#.|.|.....||#..||...##||.#|..|.....#|...|...#|',\n",
       " '....#...#||..|...|.|..|#.#.........|#...#.|||...#.',\n",
       " '.#..|.##.|.|.#...#.....#.#.......|#.|.#||#.#.....#',\n",
       " '|...#|..#....#...|.##.####....|#.##|#.#.|.....||..',\n",
       " '....|.#.|#||..|#.|.|.#|...|.#....||.#...#|.#...|.#',\n",
       " '.|..#.#..|#|..##..|.##..||...#...||....#||..#.|...',\n",
       " '##......#.|...|.||.#.||....|.......#......##|#..|.',\n",
       " '|#....#||....##...........#.|....|....|#|#.|..#...',\n",
       " '..#...#|....|.|..|...#.......#.##.#.....#.||......',\n",
       " '...|....#|#..#|...|...#|....#.#|.......|.......|#.',\n",
       " '.#||..##||.|..|.|#..|.|....|.#|.|.|.....#.#.|..#.#',\n",
       " '.....|..|...|...|......||...##.....##.......|.#..|',\n",
       " '.....#..#|.#...#..#...||.|##..|#..##.|#.....##....',\n",
       " '|...|.#||.........#..#..#||||....|...|..|..#...##.',\n",
       " '#.#..|.|.......||..|#|..|....|.|#|#|.|..|.|...#.#.',\n",
       " '#.|..||#.||||..###.|......|.#|||.##........||...||',\n",
       " '.....#|..#.#.....|..|#.....|....|.#|||#.|.....#...',\n",
       " '...||#..#...#...||#.||......|#..#..#.|#.|#|...|..#',\n",
       " '.||.....||..|#.|#||...##..###|.#....|.|..|#...#|.|',\n",
       " '...#.|#||..#.|||......#...||.#..|||..|#.|.##..#.|#',\n",
       " '.#||..#.|||.......|.|#.....|.|#.#..##..|.|....|#..',\n",
       " '..#.###..|.........|.....#..###|.|#..........#|.#|',\n",
       " '#.||.|.#.|..||#|||#..##.|#....#.#.|.#.....|.|.#.|#',\n",
       " '|..|..#.#..|.#.......#...#.|..|..|#..|..###|.||..|',\n",
       " '|..|...||...|.#.#..##|.#..#...#|#..|.#..|.#..|.||.',\n",
       " '..#.##..#.|..#.#..|..|#.|||.#..#..|#####.|..#.....',\n",
       " '.|.|#.|#...||..##...#|#.........#...#|..##.#.#..#.',\n",
       " '##|.|..#.#|....#..|..#....#......#||.|....||##..||',\n",
       " '.##|#....#..#..#.....#|.#...#..#.|#||||.##.#....|.',\n",
       " '..|.......#|....|#|..||..##..#.|#|..#.#|....|..#|#',\n",
       " '....|||.|||#..||...|||.##..#.#|##....|..|..||..#|#']"
      ]
     },
     "execution_count": 6,
     "metadata": {},
     "output_type": "execute_result"
    }
   ],
   "source": [
    "lines"
   ]
  },
  {
   "cell_type": "code",
   "execution_count": 14,
   "metadata": {},
   "outputs": [],
   "source": [
    "land = []\n",
    "for line in lines:\n",
    "    row = [c for c in line]\n",
    "    land.append(row)\n",
    "land = np.array(land)"
   ]
  },
  {
   "cell_type": "code",
   "execution_count": 15,
   "metadata": {},
   "outputs": [
    {
     "data": {
      "text/plain": [
       "array(['.', '.'], dtype='<U1')"
      ]
     },
     "execution_count": 15,
     "metadata": {},
     "output_type": "execute_result"
    }
   ],
   "source": [
    "land == \n"
   ]
  },
  {
   "cell_type": "code",
   "execution_count": 16,
   "metadata": {},
   "outputs": [
    {
     "data": {
      "text/plain": [
       "(50, 50)"
      ]
     },
     "execution_count": 16,
     "metadata": {},
     "output_type": "execute_result"
    }
   ],
   "source": [
    "land.shape"
   ]
  },
  {
   "cell_type": "code",
   "execution_count": 111,
   "metadata": {},
   "outputs": [],
   "source": [
    "def step(land):\n",
    "    new_land = land.copy()\n",
    "    #print(land.shape)\n",
    "    for i, row in enumerate(land):\n",
    "        for j, acre in enumerate(row):\n",
    "        \n",
    "            surrounding = land[max(0, i-1):min(i+2, land.shape[0]),\n",
    "                              max(0, j-1):min(j+2, land.shape[1])]\n",
    "\n",
    "            num_trees = np.sum(surrounding == \"|\") - (1 if acre == \"|\" else 0)\n",
    "            num_lumberyards = np.sum(surrounding == \"#\")- (1 if acre == \"#\" else 0)\n",
    "            \n",
    "            #if acre == \"#\":\n",
    "            #    print(\"# @ ({},{}) #: {}, |: {} \".format(i,j,num_lumberyards,num_trees))\n",
    "#             if i == land.shape[0]-1:\n",
    "#                 print(surrounding)\n",
    "#                 print(\"{} @ ({},{}) #: {}, |: {} \".format(acre, i,j,num_lumberyards,num_trees))\n",
    "            if acre == \".\" and num_trees>=3:\n",
    "                new_land[i,j] = \"|\"\n",
    "            elif acre == \"|\" and num_lumberyards>=3:\n",
    "                new_land[i,j] = \"#\"\n",
    "            elif acre == \"#\" and (num_lumberyards == 0 or num_trees == 0):\n",
    "            #    print(\"# @ ({},{}) #: {}, |: {} \".format(i,j,num_lumberyards,num_trees))\n",
    "                \n",
    "                new_land[i,j] = \".\"\n",
    "            else:\n",
    "                new_land[i,j] = acre\n",
    "    return new_land\n",
    "            "
   ]
  },
  {
   "cell_type": "code",
   "execution_count": null,
   "metadata": {},
   "outputs": [],
   "source": []
  },
  {
   "cell_type": "markdown",
   "metadata": {},
   "source": [
    "# Setup"
   ]
  },
  {
   "cell_type": "code",
   "execution_count": 112,
   "metadata": {},
   "outputs": [],
   "source": [
    "# Test Case"
   ]
  },
  {
   "cell_type": "code",
   "execution_count": 118,
   "metadata": {},
   "outputs": [],
   "source": [
    "test_case = \"\"\".#.#...|#.\n",
    ".....#|##|\n",
    ".|..|...#.\n",
    "..|#.....#\n",
    "#.#|||#|#|\n",
    "...#.||...\n",
    ".|....|...\n",
    "||...#|.#|\n",
    "|.||||..|.\n",
    "...#.|..|.\"\"\""
   ]
  },
  {
   "cell_type": "code",
   "execution_count": 122,
   "metadata": {},
   "outputs": [
    {
     "data": {
      "text/plain": [
       "(37, 31)"
      ]
     },
     "execution_count": 122,
     "metadata": {},
     "output_type": "execute_result"
    }
   ],
   "source": [
    "land = []\n",
    "for line in test_case.splitlines():\n",
    "    row = [c for c in line]\n",
    "    land.append(row)\n",
    "land = np.array(land)\n",
    "for i in range(1,10+1):\n",
    "    land = step(land)\n",
    "lumberyards = np.sum(land==\"#\")\n",
    "trees = np.sum(land==\"|\")\n",
    "trees, lumberyards"
   ]
  },
  {
   "cell_type": "code",
   "execution_count": null,
   "metadata": {},
   "outputs": [],
   "source": []
  },
  {
   "cell_type": "markdown",
   "metadata": {},
   "source": [
    "# Part 1"
   ]
  },
  {
   "cell_type": "code",
   "execution_count": 123,
   "metadata": {},
   "outputs": [
    {
     "data": {
      "text/plain": [
       "(740, 533)"
      ]
     },
     "execution_count": 123,
     "metadata": {},
     "output_type": "execute_result"
    }
   ],
   "source": [
    "land = []\n",
    "for line in lines:\n",
    "    row = [c for c in line]\n",
    "    land.append(row)\n",
    "land = np.array(land)\n",
    "for i in range(1,10+1):\n",
    "    land = step(land)\n",
    "lumberyards = np.sum(land==\"#\")\n",
    "trees = np.sum(land==\"|\")\n",
    "trees, lumberyards"
   ]
  },
  {
   "cell_type": "code",
   "execution_count": 124,
   "metadata": {},
   "outputs": [
    {
     "data": {
      "text/plain": [
       "394420"
      ]
     },
     "execution_count": 124,
     "metadata": {},
     "output_type": "execute_result"
    }
   ],
   "source": [
    "trees * lumberyards"
   ]
  },
  {
   "cell_type": "markdown",
   "metadata": {
    "collapsed": true
   },
   "source": [
    "# Part 2"
   ]
  },
  {
   "cell_type": "code",
   "execution_count": 127,
   "metadata": {},
   "outputs": [],
   "source": [
    "def land_to_string(land):\n",
    "    return \"\".join([\"\".join(row) for row in land])"
   ]
  },
  {
   "cell_type": "code",
   "execution_count": 129,
   "metadata": {},
   "outputs": [],
   "source": [
    "def resource_value(land):\n",
    "    lumberyards = np.sum(land==\"#\")\n",
    "    trees = np.sum(land==\"|\")\n",
    "    return trees * lumberyards"
   ]
  },
  {
   "cell_type": "code",
   "execution_count": 162,
   "metadata": {},
   "outputs": [
    {
     "name": "stdout",
     "output_type": "stream",
     "text": [
      "\n",
      "Cycle Found: 519 to 547\n",
      "after 1 billion minutes the forest will be worth 174420\n"
     ]
    }
   ],
   "source": [
    "land = []\n",
    "for line in lines:\n",
    "    row = [c for c in line]\n",
    "    land.append(row)\n",
    "land = np.array(land)\n",
    "lumberyards = np.sum(land==\"#\")\n",
    "trees = np.sum(land==\"|\")\n",
    "resource_values = [0]\n",
    "history = {}\n",
    "\n",
    "\n",
    "\n",
    "for i in range(1,1000+1):\n",
    "    land = step(land)\n",
    "    value = resource_value(land) \n",
    "    resource_values.append(value)\n",
    "    key = land_to_string(land)\n",
    "    if key in history:\n",
    "        print(\"\\nCycle Found: {} to {}\".format(history[key],i))\n",
    "        break\n",
    "    else:\n",
    "        history[key] = i \n",
    "start = history[key] \n",
    "end = i\n",
    "index = (1000000000 - start) % (end-start)  + start\n",
    "\n",
    "print(\"after 1 billion minutes the forest will be worth {}\".format(resource_values[index]))"
   ]
  },
  {
   "cell_type": "code",
   "execution_count": null,
   "metadata": {},
   "outputs": [],
   "source": []
  }
 ],
 "metadata": {
  "hide_input": false,
  "kernelspec": {
   "display_name": "Python 3",
   "language": "python",
   "name": "python3"
  },
  "language_info": {
   "codemirror_mode": {
    "name": "ipython",
    "version": 3
   },
   "file_extension": ".py",
   "mimetype": "text/x-python",
   "name": "python",
   "nbconvert_exporter": "python",
   "pygments_lexer": "ipython3",
   "version": "3.7.0"
  },
  "toc": {
   "toc_cell": false,
   "toc_number_sections": true,
   "toc_threshold": 4,
   "toc_window_display": false
  }
 },
 "nbformat": 4,
 "nbformat_minor": 2
}
