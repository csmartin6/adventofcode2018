{
 "cells": [
  {
   "cell_type": "code",
   "execution_count": 1,
   "metadata": {
    "collapsed": true
   },
   "outputs": [],
   "source": [
    "import numpy as np\n",
    "import requests\n",
    "from collections import Counter\n",
    "import re"
   ]
  },
  {
   "cell_type": "markdown",
   "metadata": {},
   "source": [
    "# Get Input"
   ]
  },
  {
   "cell_type": "code",
   "execution_count": 2,
   "metadata": {
    "collapsed": true
   },
   "outputs": [],
   "source": [
    "sessionId = \"os.environ[\"ADVENT_OF_CODE_SESSION_ID\"]\"
   ]
  },
  {
   "cell_type": "code",
   "execution_count": 3,
   "metadata": {
    "collapsed": true
   },
   "outputs": [],
   "source": [
    "r = requests.get(\"https://adventofcode.com/2018/day/4/input\", cookies={\"session\": sessionId})"
   ]
  },
  {
   "cell_type": "code",
   "execution_count": 32,
   "metadata": {
    "collapsed": true
   },
   "outputs": [],
   "source": [
    "inputs = [line.decode(\"utf-8\") for line in r.content.splitlines()]"
   ]
  },
  {
   "cell_type": "code",
   "execution_count": 33,
   "metadata": {
    "collapsed": true
   },
   "outputs": [],
   "source": [
    "shifts = [x for x in filter(lambda x: 'Guard' in x, inputs)]"
   ]
  },
  {
   "cell_type": "code",
   "execution_count": 34,
   "metadata": {},
   "outputs": [
    {
     "data": {
      "text/plain": [
       "['[1518-05-04 23:56] Guard #523 begins shift',\n",
       " '[1518-04-20 00:02] Guard #2017 begins shift',\n",
       " '[1518-05-12 23:57] Guard #151 begins shift',\n",
       " '[1518-03-13 23:46] Guard #2081 begins shift',\n",
       " '[1518-08-13 00:00] Guard #349 begins shift',\n",
       " '[1518-07-01 23:57] Guard #3469 begins shift',\n",
       " '[1518-04-09 23:57] Guard #3413 begins shift',\n",
       " '[1518-10-19 00:01] Guard #2677 begins shift',\n",
       " '[1518-01-29 00:04] Guard #2017 begins shift',\n",
       " '[1518-06-15 23:58] Guard #1151 begins shift',\n",
       " '[1518-06-10 23:56] Guard #151 begins shift',\n",
       " '[1518-03-16 00:00] Guard #1091 begins shift',\n",
       " '[1518-10-19 23:59] Guard #2087 begins shift',\n",
       " '[1518-09-07 23:59] Guard #1091 begins shift',\n",
       " '[1518-08-30 00:00] Guard #71 begins shift',\n",
       " '[1518-06-08 00:04] Guard #2017 begins shift',\n",
       " '[1518-10-12 23:57] Guard #3413 begins shift',\n",
       " '[1518-09-28 23:57] Guard #2081 begins shift',\n",
       " '[1518-02-27 23:56] Guard #1459 begins shift',\n",
       " '[1518-09-04 23:58] Guard #907 begins shift',\n",
       " '[1518-11-12 00:03] Guard #907 begins shift',\n",
       " '[1518-10-07 23:57] Guard #3539 begins shift',\n",
       " '[1518-09-25 00:04] Guard #367 begins shift',\n",
       " '[1518-05-01 00:03] Guard #409 begins shift',\n",
       " '[1518-11-20 00:02] Guard #2593 begins shift',\n",
       " '[1518-09-18 00:04] Guard #1091 begins shift',\n",
       " '[1518-11-12 23:57] Guard #409 begins shift',\n",
       " '[1518-04-18 00:03] Guard #449 begins shift',\n",
       " '[1518-06-24 23:52] Guard #409 begins shift',\n",
       " '[1518-08-10 23:51] Guard #3539 begins shift',\n",
       " '[1518-05-17 00:00] Guard #1627 begins shift',\n",
       " '[1518-04-25 00:02] Guard #71 begins shift',\n",
       " '[1518-10-05 00:00] Guard #409 begins shift',\n",
       " '[1518-07-02 23:59] Guard #409 begins shift',\n",
       " '[1518-11-18 23:56] Guard #2081 begins shift',\n",
       " '[1518-04-11 00:02] Guard #1459 begins shift',\n",
       " '[1518-04-01 23:53] Guard #409 begins shift',\n",
       " '[1518-05-20 23:57] Guard #523 begins shift',\n",
       " '[1518-07-05 00:00] Guard #523 begins shift',\n",
       " '[1518-09-20 00:00] Guard #2393 begins shift',\n",
       " '[1518-08-20 23:56] Guard #1627 begins shift',\n",
       " '[1518-05-03 23:58] Guard #2593 begins shift',\n",
       " '[1518-04-11 23:56] Guard #409 begins shift',\n",
       " '[1518-09-22 00:03] Guard #349 begins shift',\n",
       " '[1518-09-03 23:57] Guard #71 begins shift',\n",
       " '[1518-07-27 00:03] Guard #2393 begins shift',\n",
       " '[1518-08-01 00:02] Guard #1627 begins shift',\n",
       " '[1518-10-07 00:00] Guard #1627 begins shift',\n",
       " '[1518-09-15 00:02] Guard #1459 begins shift',\n",
       " '[1518-03-02 23:50] Guard #1627 begins shift',\n",
       " '[1518-06-01 23:56] Guard #151 begins shift',\n",
       " '[1518-06-22 23:48] Guard #2393 begins shift',\n",
       " '[1518-10-17 23:59] Guard #3469 begins shift',\n",
       " '[1518-10-26 00:00] Guard #409 begins shift',\n",
       " '[1518-07-24 23:59] Guard #1627 begins shift',\n",
       " '[1518-09-28 00:00] Guard #349 begins shift',\n",
       " '[1518-08-28 23:46] Guard #907 begins shift',\n",
       " '[1518-07-08 23:57] Guard #1459 begins shift',\n",
       " '[1518-08-06 00:04] Guard #907 begins shift',\n",
       " '[1518-06-06 23:57] Guard #3469 begins shift',\n",
       " '[1518-02-18 00:04] Guard #71 begins shift',\n",
       " '[1518-03-08 23:48] Guard #523 begins shift',\n",
       " '[1518-08-02 00:00] Guard #367 begins shift',\n",
       " '[1518-09-22 23:51] Guard #3413 begins shift',\n",
       " '[1518-10-10 00:04] Guard #1627 begins shift',\n",
       " '[1518-06-19 23:59] Guard #2081 begins shift',\n",
       " '[1518-06-11 23:47] Guard #3413 begins shift',\n",
       " '[1518-10-02 23:58] Guard #2087 begins shift',\n",
       " '[1518-09-06 23:58] Guard #409 begins shift',\n",
       " '[1518-07-17 00:03] Guard #71 begins shift',\n",
       " '[1518-03-17 00:00] Guard #1627 begins shift',\n",
       " '[1518-03-26 23:56] Guard #2593 begins shift',\n",
       " '[1518-05-30 23:49] Guard #523 begins shift',\n",
       " '[1518-09-02 00:01] Guard #2393 begins shift',\n",
       " '[1518-10-11 23:57] Guard #349 begins shift',\n",
       " '[1518-03-14 23:56] Guard #151 begins shift',\n",
       " '[1518-05-14 23:47] Guard #2017 begins shift',\n",
       " '[1518-11-06 23:56] Guard #367 begins shift',\n",
       " '[1518-09-13 23:56] Guard #151 begins shift',\n",
       " '[1518-11-14 23:59] Guard #1091 begins shift',\n",
       " '[1518-06-24 00:00] Guard #409 begins shift',\n",
       " '[1518-10-15 23:59] Guard #349 begins shift',\n",
       " '[1518-08-18 00:00] Guard #3413 begins shift',\n",
       " '[1518-10-28 23:58] Guard #1459 begins shift',\n",
       " '[1518-09-25 23:59] Guard #1459 begins shift',\n",
       " '[1518-05-26 00:03] Guard #3469 begins shift',\n",
       " '[1518-10-26 23:59] Guard #409 begins shift',\n",
       " '[1518-04-25 23:50] Guard #2393 begins shift',\n",
       " '[1518-05-12 00:02] Guard #2081 begins shift',\n",
       " '[1518-05-23 00:02] Guard #367 begins shift',\n",
       " '[1518-07-17 23:59] Guard #3539 begins shift',\n",
       " '[1518-09-06 00:01] Guard #3413 begins shift',\n",
       " '[1518-04-18 23:57] Guard #2017 begins shift',\n",
       " '[1518-05-27 00:03] Guard #367 begins shift',\n",
       " '[1518-04-20 23:58] Guard #1091 begins shift',\n",
       " '[1518-03-03 23:56] Guard #1459 begins shift',\n",
       " '[1518-05-02 00:00] Guard #2677 begins shift',\n",
       " '[1518-10-01 23:58] Guard #2393 begins shift',\n",
       " '[1518-11-21 23:56] Guard #409 begins shift',\n",
       " '[1518-02-21 23:56] Guard #2393 begins shift',\n",
       " '[1518-02-23 00:04] Guard #1627 begins shift',\n",
       " '[1518-09-27 00:01] Guard #449 begins shift',\n",
       " '[1518-03-24 23:57] Guard #2017 begins shift',\n",
       " '[1518-11-18 00:02] Guard #2063 begins shift',\n",
       " '[1518-06-27 23:57] Guard #2393 begins shift',\n",
       " '[1518-10-21 00:02] Guard #2087 begins shift',\n",
       " '[1518-03-27 23:59] Guard #367 begins shift',\n",
       " '[1518-10-31 23:57] Guard #523 begins shift',\n",
       " '[1518-04-24 00:04] Guard #2087 begins shift',\n",
       " '[1518-02-24 00:04] Guard #367 begins shift',\n",
       " '[1518-06-05 00:03] Guard #2081 begins shift',\n",
       " '[1518-04-12 23:59] Guard #2677 begins shift',\n",
       " '[1518-03-30 00:01] Guard #3469 begins shift',\n",
       " '[1518-11-05 23:52] Guard #409 begins shift',\n",
       " '[1518-11-11 00:04] Guard #449 begins shift',\n",
       " '[1518-04-08 00:01] Guard #907 begins shift',\n",
       " '[1518-08-11 23:58] Guard #409 begins shift',\n",
       " '[1518-08-26 23:57] Guard #523 begins shift',\n",
       " '[1518-05-09 23:59] Guard #449 begins shift',\n",
       " '[1518-05-06 23:50] Guard #409 begins shift',\n",
       " '[1518-04-06 23:59] Guard #367 begins shift',\n",
       " '[1518-05-07 23:50] Guard #2393 begins shift',\n",
       " '[1518-08-15 00:01] Guard #2393 begins shift',\n",
       " '[1518-11-09 00:01] Guard #2393 begins shift',\n",
       " '[1518-02-20 23:56] Guard #2677 begins shift',\n",
       " '[1518-07-26 00:00] Guard #349 begins shift',\n",
       " '[1518-01-30 23:58] Guard #151 begins shift',\n",
       " '[1518-11-08 00:01] Guard #2593 begins shift',\n",
       " '[1518-03-12 23:52] Guard #3413 begins shift',\n",
       " '[1518-01-31 23:59] Guard #449 begins shift',\n",
       " '[1518-01-28 00:00] Guard #151 begins shift',\n",
       " '[1518-11-16 23:51] Guard #2393 begins shift',\n",
       " '[1518-06-10 00:01] Guard #1627 begins shift',\n",
       " '[1518-07-16 00:00] Guard #71 begins shift',\n",
       " '[1518-09-12 00:04] Guard #2081 begins shift',\n",
       " '[1518-05-18 23:58] Guard #449 begins shift',\n",
       " '[1518-09-09 23:59] Guard #2593 begins shift',\n",
       " '[1518-02-08 23:58] Guard #2677 begins shift',\n",
       " '[1518-05-28 00:01] Guard #2393 begins shift',\n",
       " '[1518-05-16 00:00] Guard #151 begins shift',\n",
       " '[1518-07-19 23:58] Guard #491 begins shift',\n",
       " '[1518-03-31 23:57] Guard #367 begins shift',\n",
       " '[1518-05-28 23:57] Guard #2063 begins shift',\n",
       " '[1518-05-13 23:47] Guard #3539 begins shift',\n",
       " '[1518-06-26 23:51] Guard #3413 begins shift',\n",
       " '[1518-05-19 23:52] Guard #1151 begins shift',\n",
       " '[1518-10-04 00:00] Guard #2593 begins shift',\n",
       " '[1518-10-31 00:03] Guard #449 begins shift',\n",
       " '[1518-06-14 00:00] Guard #2593 begins shift',\n",
       " '[1518-01-30 00:00] Guard #3539 begins shift',\n",
       " '[1518-05-17 23:58] Guard #3469 begins shift',\n",
       " '[1518-02-27 00:00] Guard #2087 begins shift',\n",
       " '[1518-10-23 23:58] Guard #151 begins shift',\n",
       " '[1518-05-21 23:57] Guard #3413 begins shift',\n",
       " '[1518-09-19 00:03] Guard #523 begins shift',\n",
       " '[1518-10-17 00:03] Guard #1459 begins shift',\n",
       " '[1518-02-15 23:56] Guard #907 begins shift',\n",
       " '[1518-07-22 00:03] Guard #3469 begins shift',\n",
       " '[1518-09-29 23:46] Guard #2593 begins shift',\n",
       " '[1518-05-30 00:01] Guard #2677 begins shift',\n",
       " '[1518-07-05 23:51] Guard #1459 begins shift',\n",
       " '[1518-02-10 00:00] Guard #349 begins shift',\n",
       " '[1518-03-02 00:02] Guard #2677 begins shift',\n",
       " '[1518-02-19 23:54] Guard #3539 begins shift',\n",
       " '[1518-06-13 00:01] Guard #907 begins shift',\n",
       " '[1518-06-09 00:04] Guard #2393 begins shift',\n",
       " '[1518-10-25 00:02] Guard #449 begins shift',\n",
       " '[1518-09-12 23:54] Guard #1151 begins shift',\n",
       " '[1518-06-28 23:54] Guard #2393 begins shift',\n",
       " '[1518-02-08 00:04] Guard #523 begins shift',\n",
       " '[1518-05-05 23:56] Guard #1459 begins shift',\n",
       " '[1518-07-10 00:03] Guard #2593 begins shift',\n",
       " '[1518-08-09 00:00] Guard #367 begins shift',\n",
       " '[1518-02-24 23:52] Guard #409 begins shift',\n",
       " '[1518-03-04 23:49] Guard #2017 begins shift',\n",
       " '[1518-04-04 00:02] Guard #2017 begins shift',\n",
       " '[1518-08-06 23:56] Guard #2593 begins shift',\n",
       " '[1518-06-26 00:00] Guard #523 begins shift',\n",
       " '[1518-03-20 23:56] Guard #3469 begins shift',\n",
       " '[1518-02-06 23:56] Guard #1627 begins shift',\n",
       " '[1518-06-22 00:00] Guard #71 begins shift',\n",
       " '[1518-02-02 23:59] Guard #1459 begins shift',\n",
       " '[1518-07-07 23:46] Guard #367 begins shift',\n",
       " '[1518-04-23 00:00] Guard #3413 begins shift',\n",
       " '[1518-08-05 00:02] Guard #907 begins shift',\n",
       " '[1518-07-10 23:59] Guard #2677 begins shift',\n",
       " '[1518-10-28 00:01] Guard #1151 begins shift',\n",
       " '[1518-03-18 23:57] Guard #1091 begins shift',\n",
       " '[1518-03-10 23:49] Guard #907 begins shift',\n",
       " '[1518-07-01 00:01] Guard #367 begins shift',\n",
       " '[1518-08-18 23:56] Guard #2393 begins shift',\n",
       " '[1518-05-11 00:03] Guard #491 begins shift',\n",
       " '[1518-04-29 23:57] Guard #1627 begins shift',\n",
       " '[1518-09-20 23:59] Guard #2393 begins shift',\n",
       " '[1518-09-16 00:01] Guard #349 begins shift',\n",
       " '[1518-07-22 23:59] Guard #907 begins shift',\n",
       " '[1518-11-02 23:59] Guard #349 begins shift',\n",
       " '[1518-11-13 23:54] Guard #1627 begins shift',\n",
       " '[1518-07-13 00:00] Guard #1459 begins shift',\n",
       " '[1518-02-06 00:02] Guard #907 begins shift',\n",
       " '[1518-06-14 23:59] Guard #1627 begins shift',\n",
       " '[1518-02-28 23:51] Guard #367 begins shift',\n",
       " '[1518-03-11 23:58] Guard #1151 begins shift',\n",
       " '[1518-06-05 23:48] Guard #2677 begins shift',\n",
       " '[1518-10-09 00:03] Guard #71 begins shift',\n",
       " '[1518-06-02 23:59] Guard #907 begins shift',\n",
       " '[1518-08-25 00:01] Guard #491 begins shift',\n",
       " '[1518-08-31 00:03] Guard #907 begins shift',\n",
       " '[1518-07-29 00:03] Guard #2593 begins shift',\n",
       " '[1518-03-29 00:01] Guard #2677 begins shift',\n",
       " '[1518-03-07 00:03] Guard #71 begins shift',\n",
       " '[1518-10-23 00:02] Guard #367 begins shift',\n",
       " '[1518-05-03 00:00] Guard #2081 begins shift',\n",
       " '[1518-04-21 23:58] Guard #2017 begins shift',\n",
       " '[1518-06-30 00:03] Guard #409 begins shift',\n",
       " '[1518-02-25 23:57] Guard #523 begins shift',\n",
       " '[1518-03-10 00:03] Guard #907 begins shift',\n",
       " '[1518-08-24 00:02] Guard #409 begins shift',\n",
       " '[1518-03-22 23:53] Guard #3413 begins shift',\n",
       " '[1518-09-30 23:58] Guard #1151 begins shift',\n",
       " '[1518-11-09 23:59] Guard #3539 begins shift',\n",
       " '[1518-02-11 00:01] Guard #3469 begins shift',\n",
       " '[1518-08-27 23:57] Guard #1151 begins shift',\n",
       " '[1518-08-26 00:04] Guard #349 begins shift',\n",
       " '[1518-07-23 23:50] Guard #2393 begins shift',\n",
       " '[1518-04-02 23:58] Guard #3469 begins shift',\n",
       " '[1518-11-20 23:58] Guard #2593 begins shift',\n",
       " '[1518-04-27 00:00] Guard #2677 begins shift',\n",
       " '[1518-10-21 23:56] Guard #2087 begins shift',\n",
       " '[1518-06-20 23:57] Guard #71 begins shift',\n",
       " '[1518-03-30 23:50] Guard #907 begins shift',\n",
       " '[1518-04-14 00:02] Guard #71 begins shift',\n",
       " '[1518-07-27 23:58] Guard #907 begins shift',\n",
       " '[1518-09-11 00:01] Guard #151 begins shift',\n",
       " '[1518-03-21 23:57] Guard #2393 begins shift',\n",
       " '[1518-07-06 23:57] Guard #151 begins shift',\n",
       " '[1518-06-17 23:56] Guard #409 begins shift',\n",
       " '[1518-07-20 23:46] Guard #151 begins shift',\n",
       " '[1518-04-15 23:56] Guard #151 begins shift',\n",
       " '[1518-10-29 23:56] Guard #2593 begins shift',\n",
       " '[1518-07-03 23:50] Guard #409 begins shift',\n",
       " '[1518-08-04 00:02] Guard #409 begins shift',\n",
       " '[1518-09-09 00:03] Guard #2393 begins shift',\n",
       " '[1518-04-29 00:00] Guard #2081 begins shift',\n",
       " '[1518-04-17 00:00] Guard #151 begins shift',\n",
       " '[1518-10-11 00:00] Guard #367 begins shift',\n",
       " '[1518-08-17 00:04] Guard #367 begins shift',\n",
       " '[1518-08-23 00:00] Guard #2677 begins shift',\n",
       " '[1518-10-14 00:00] Guard #409 begins shift',\n",
       " '[1518-03-25 23:57] Guard #2677 begins shift',\n",
       " '[1518-08-10 00:00] Guard #449 begins shift',\n",
       " '[1518-08-02 23:56] Guard #2017 begins shift',\n",
       " '[1518-05-31 23:59] Guard #2081 begins shift',\n",
       " '[1518-10-14 23:50] Guard #523 begins shift',\n",
       " '[1518-10-05 23:58] Guard #349 begins shift',\n",
       " '[1518-09-17 00:03] Guard #151 begins shift',\n",
       " '[1518-03-23 23:58] Guard #523 begins shift',\n",
       " '[1518-05-24 23:57] Guard #71 begins shift',\n",
       " '[1518-05-08 23:58] Guard #2393 begins shift',\n",
       " '[1518-02-16 23:57] Guard #491 begins shift',\n",
       " '[1518-02-02 00:00] Guard #1459 begins shift',\n",
       " '[1518-03-17 23:48] Guard #3413 begins shift',\n",
       " '[1518-03-05 23:58] Guard #3413 begins shift',\n",
       " '[1518-08-08 00:03] Guard #2017 begins shift',\n",
       " '[1518-06-03 23:59] Guard #3469 begins shift',\n",
       " '[1518-11-04 23:57] Guard #2087 begins shift',\n",
       " '[1518-09-24 00:00] Guard #449 begins shift',\n",
       " '[1518-06-18 23:49] Guard #1459 begins shift',\n",
       " '[1518-04-04 23:46] Guard #2017 begins shift',\n",
       " '[1518-08-20 00:00] Guard #1627 begins shift',\n",
       " '[1518-02-18 23:59] Guard #1091 begins shift',\n",
       " '[1518-02-05 00:00] Guard #1627 begins shift',\n",
       " '[1518-11-22 23:47] Guard #151 begins shift',\n",
       " '[1518-11-04 00:02] Guard #2677 begins shift',\n",
       " '[1518-09-02 23:51] Guard #907 begins shift',\n",
       " '[1518-02-03 23:58] Guard #2593 begins shift',\n",
       " '[1518-11-15 23:57] Guard #2393 begins shift',\n",
       " '[1518-09-01 00:00] Guard #2393 begins shift',\n",
       " '[1518-04-09 00:04] Guard #2677 begins shift',\n",
       " '[1518-08-16 00:00] Guard #2081 begins shift',\n",
       " '[1518-07-13 23:56] Guard #367 begins shift',\n",
       " '[1518-07-31 00:00] Guard #449 begins shift',\n",
       " '[1518-04-27 23:46] Guard #2017 begins shift',\n",
       " '[1518-07-30 00:02] Guard #2087 begins shift',\n",
       " '[1518-02-11 23:46] Guard #1459 begins shift',\n",
       " '[1518-06-17 00:03] Guard #151 begins shift',\n",
       " '[1518-03-07 23:58] Guard #2593 begins shift',\n",
       " '[1518-03-20 00:00] Guard #2087 begins shift',\n",
       " '[1518-04-05 23:58] Guard #2087 begins shift',\n",
       " '[1518-02-14 00:00] Guard #151 begins shift',\n",
       " '[1518-11-02 00:02] Guard #71 begins shift',\n",
       " '[1518-07-14 23:50] Guard #523 begins shift',\n",
       " '[1518-02-12 23:52] Guard #523 begins shift',\n",
       " '[1518-04-14 23:46] Guard #409 begins shift',\n",
       " '[1518-08-14 00:02] Guard #2593 begins shift',\n",
       " '[1518-05-24 00:00] Guard #367 begins shift',\n",
       " '[1518-07-12 00:00] Guard #3413 begins shift',\n",
       " '[1518-02-15 00:02] Guard #907 begins shift',\n",
       " '[1518-07-19 00:00] Guard #2081 begins shift',\n",
       " '[1518-08-22 00:04] Guard #523 begins shift']"
      ]
     },
     "execution_count": 34,
     "metadata": {},
     "output_type": "execute_result"
    }
   ],
   "source": [
    "shifts"
   ]
  },
  {
   "cell_type": "code",
   "execution_count": 37,
   "metadata": {
    "collapsed": true
   },
   "outputs": [],
   "source": [
    "sorted_inputs = sorted(inputs)"
   ]
  },
  {
   "cell_type": "code",
   "execution_count": 39,
   "metadata": {
    "collapsed": true
   },
   "outputs": [],
   "source": [
    "test = sorted_inputs[0]"
   ]
  },
  {
   "cell_type": "code",
   "execution_count": 46,
   "metadata": {},
   "outputs": [
    {
     "data": {
      "text/plain": [
       "'151'"
      ]
     },
     "execution_count": 46,
     "metadata": {},
     "output_type": "execute_result"
    }
   ],
   "source": [
    "if 'Guard' in test:\n",
    "    m = re.search('.*#(\\d+).*', test)\n",
    "    guard = m.group(1)\n",
    "guard"
   ]
  },
  {
   "cell_type": "code",
   "execution_count": 48,
   "metadata": {},
   "outputs": [
    {
     "data": {
      "text/plain": [
       "'[1518-01-28 00:40] falls asleep'"
      ]
     },
     "execution_count": 48,
     "metadata": {},
     "output_type": "execute_result"
    }
   ],
   "source": [
    "test = sorted_inputs[1]\n",
    "test"
   ]
  },
  {
   "cell_type": "code",
   "execution_count": 55,
   "metadata": {
    "collapsed": true
   },
   "outputs": [],
   "source": [
    "def get_minute(line):\n",
    "    m = re.search('.*:(\\d+)\\].*', line)\n",
    "    return int(m.group(1))"
   ]
  },
  {
   "cell_type": "code",
   "execution_count": 56,
   "metadata": {},
   "outputs": [
    {
     "data": {
      "text/plain": [
       "49"
      ]
     },
     "execution_count": 56,
     "metadata": {},
     "output_type": "execute_result"
    }
   ],
   "source": [
    "get_minute(sorted_inputs[2])"
   ]
  },
  {
   "cell_type": "code",
   "execution_count": 49,
   "metadata": {},
   "outputs": [
    {
     "data": {
      "text/plain": [
       "'[1518-01-28 00:49] wakes up'"
      ]
     },
     "execution_count": 49,
     "metadata": {},
     "output_type": "execute_result"
    }
   ],
   "source": [
    "test = sorted_inputs[2]\n",
    "test"
   ]
  },
  {
   "cell_type": "code",
   "execution_count": 57,
   "metadata": {},
   "outputs": [
    {
     "data": {
      "text/plain": [
       "array([0., 0., 0., 0., 0., 0., 0., 0., 0., 0., 0., 0., 0., 0., 0., 0., 0.,\n",
       "       0., 0., 0., 0., 0., 0., 0., 0., 0., 0., 0., 0., 0., 0., 0., 0., 0.,\n",
       "       0., 0., 0., 0., 0., 0., 0., 0., 0., 0., 0., 0., 0., 0., 0., 0., 0.,\n",
       "       0., 0., 0., 0., 0., 0., 0., 0., 0.])"
      ]
     },
     "execution_count": 57,
     "metadata": {},
     "output_type": "execute_result"
    }
   ],
   "source": [
    "np.zeros(60,)"
   ]
  },
  {
   "cell_type": "markdown",
   "metadata": {},
   "source": [
    "# Part 1"
   ]
  },
  {
   "cell_type": "code",
   "execution_count": 60,
   "metadata": {
    "collapsed": true
   },
   "outputs": [],
   "source": [
    "sleep_minutes = {}\n",
    "total_sleep = {}\n",
    "current_guard = \"\"\n",
    "fell_asleep_minute = None\n",
    "for entry in sorted(inputs):\n",
    "    if 'Guard' in entry:\n",
    "        m = re.search('.*#(\\d+).*', entry)\n",
    "        current_guard = m.group(1)\n",
    "    elif 'falls asleep' in entry:\n",
    "        fell_asleep_minute = get_minute(entry)\n",
    "        \n",
    "    elif 'wakes up' in entry:\n",
    "        wake_up_minute = get_minute(entry)\n",
    "        if current_guard not in total_sleep:\n",
    "            total_sleep[current_guard] = 0\n",
    "        total_sleep[current_guard]+=wake_up_minute-fell_asleep_minute\n",
    "        if current_guard not in sleep_minutes:\n",
    "            sleep_minutes[current_guard] = np.zeros(60,)\n",
    "        for i in range(fell_asleep_minute, wake_up_minute):\n",
    "            sleep_minutes[current_guard][i] += 1\n",
    "        \n",
    "        \n",
    "        \n",
    "    "
   ]
  },
  {
   "cell_type": "code",
   "execution_count": 66,
   "metadata": {},
   "outputs": [
    {
     "data": {
      "text/plain": [
       "'409'"
      ]
     },
     "execution_count": 66,
     "metadata": {},
     "output_type": "execute_result"
    }
   ],
   "source": [
    "sleepiest_guard = max(total_sleep.keys(), key=(lambda key: total_sleep[key]))\n",
    "sleepiest_guard"
   ]
  },
  {
   "cell_type": "code",
   "execution_count": 69,
   "metadata": {},
   "outputs": [
    {
     "data": {
      "text/plain": [
       "51"
      ]
     },
     "execution_count": 69,
     "metadata": {},
     "output_type": "execute_result"
    }
   ],
   "source": [
    "sleepiest_minute = np.argmax(sleep_minutes[sleepiest_guard])\n",
    "sleepiest_minute"
   ]
  },
  {
   "cell_type": "code",
   "execution_count": 70,
   "metadata": {},
   "outputs": [
    {
     "data": {
      "text/plain": [
       "20859"
      ]
     },
     "execution_count": 70,
     "metadata": {},
     "output_type": "execute_result"
    }
   ],
   "source": [
    "int(sleepiest_guard) * sleepiest_minute"
   ]
  },
  {
   "cell_type": "markdown",
   "metadata": {
    "collapsed": true
   },
   "source": [
    "# Part 2"
   ]
  },
  {
   "cell_type": "code",
   "execution_count": 71,
   "metadata": {
    "collapsed": true
   },
   "outputs": [],
   "source": [
    "curr_max = 0\n",
    "curr_guard = \"\"\n",
    "curr_minute = 0\n",
    "for g, s in sleep_minutes.items():\n",
    "    \n",
    "    if np.max(s) > curr_max:\n",
    "        curr_guard = g\n",
    "        curr_max = np.max(s)\n",
    "        curr_minute = np.argmax(s)\n",
    "    "
   ]
  },
  {
   "cell_type": "code",
   "execution_count": 74,
   "metadata": {},
   "outputs": [
    {
     "name": "stdout",
     "output_type": "stream",
     "text": [
      "Guard 2393 sleep the most on minute 32: They were asleep 21.0 times\n"
     ]
    }
   ],
   "source": [
    "print(\"Guard {} sleep the most on minute {}: They were asleep {} times\".format(curr_guard,curr_minute,curr_max))\n"
   ]
  },
  {
   "cell_type": "code",
   "execution_count": 75,
   "metadata": {},
   "outputs": [
    {
     "data": {
      "text/plain": [
       "76576"
      ]
     },
     "execution_count": 75,
     "metadata": {},
     "output_type": "execute_result"
    }
   ],
   "source": [
    "int(curr_guard)*curr_minute"
   ]
  }
 ],
 "metadata": {
  "hide_input": false,
  "kernelspec": {
   "display_name": "Python 3",
   "language": "python",
   "name": "python3"
  },
  "language_info": {
   "codemirror_mode": {
    "name": "ipython",
    "version": 3
   },
   "file_extension": ".py",
   "mimetype": "text/x-python",
   "name": "python",
   "nbconvert_exporter": "python",
   "pygments_lexer": "ipython3",
   "version": "3.6.3"
  },
  "toc": {
   "toc_cell": false,
   "toc_number_sections": true,
   "toc_threshold": 4,
   "toc_window_display": false
  }
 },
 "nbformat": 4,
 "nbformat_minor": 2
}
